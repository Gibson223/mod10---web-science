{
 "cells": [
  {
   "cell_type": "markdown",
   "metadata": {},
   "source": [
    "# Table of Contents\n",
    "\n",
    "\n",
    "* [Preface                  ](#chapter1)\n",
    "* [Chapter 1. Graph Generation and Printing                    ](#chapter2)\n",
    " * [Import Statements  ](#chapter3)\n",
    " * [Generating from Data Structure: toGraph                  ](#chapter4)\n",
    " * [Generating from Graphviz Text: fromDot                  ](#chapter5)\n",
    " * [Supplying additional data to nodes and edges                  ](#chapter6)\n",
    " * [Labeling Nodes                  ](#chapter7)\n",
    " * [Numbering Paths              ](#chapter8)\n",
    " * [Displaying Strong and Weak Ties               ](#chapter9)\n",
    "* [Chapter 2. Accessing Nodes and Edges                  ](#chapter10)\n",
    " * [Iterating through nodes                  ](#chapter11)\n",
    " * [Iterating over edges                  ](#chapter12)\n",
    " * [Iterating over neighbors of graphs                  ](#chapter13)\n",
    " * [Iterating over pairs of neighbors                  ](#chapter14)\n",
    "* [Chapter 3. Transitioning Graphs                  ](#chapter15)\n",
    " * [Breadth-first search                  ](#chapter16)\n",
    " * [Depth-first search                ](#chapter17)\n"
   ]
  },
  {
   "cell_type": "markdown",
   "metadata": {},
   "source": [
    "# Preface                   <a id=\"chapter1\"></a>\n",
    "\n",
    "Welcome to the WebScience course 2017/2018. This ipython document will walk you through the preliminaries that you need to solve the exercises given to you during the course. We assume that you know the programming language <a href=\"https://en.wikipedia.org/wiki/Python_(programming_language)\">python</a>. If you do not know python or you need a refresher, we recommend doing the following web course (13h), before you start with the content below:\n",
    "\n",
    "<a href=\"https://www.codecademy.com/tracks/python\">https://www.codecademy.com/tracks/python</a>\n",
    "\n",
    "This document is structured as follows: in the first chapter, we explain how you create graphs and print them. In the second chapter, we describe how you access the nodes and edges of a graph. In the third chapter we discuss two popular methods two iterate through graphs.\n",
    "\n"
   ]
  },
  {
   "cell_type": "markdown",
   "metadata": {},
   "source": [
    "# Chapter 1. Graph Generation and Printing                     <a id=\"chapter2\"></a>\n",
    "\n",
    "## Import Statements   <a id=\"chapter3\"></a>\n",
    "The following import instructions should always appear in the beginning of your notebook. \n",
    "\n",
    "* ``networkx`` is the graph library that we use (also refer to <a href=\"http://networkx.readthedocs.org/en/latest/\">the manual</a>),\n",
    "* ``IPython.display.display``\n",
    "* ``utils`` are some handy functions that we  provide ontop of networkx,\n",
    "* ``graphs`` is a collection of graphs (mainly those from the book)"
   ]
  },
  {
   "cell_type": "code",
   "execution_count": 2,
   "metadata": {
    "scrolled": true
   },
   "outputs": [],
   "source": [
    "import networkx as nx\n",
    "from IPython.display import display\n",
    "from utils import *\n",
    "from graphs import *\n",
    "from pygraphviz import *"
   ]
  },
  {
   "cell_type": "markdown",
   "metadata": {},
   "source": [
    "In the utils library, we provide two ways to generate graphs in ipython. \n",
    "\n",
    "* ``toGraph`` to generate graphs from a dictionary of neighbor lists.\n",
    "* ``fromDot`` to generate graphs from text in the the graphviz language. \n",
    "\n",
    "Once a graph is created, you can use the function ``draw`` to draw the graph."
   ]
  },
  {
   "cell_type": "markdown",
   "metadata": {},
   "source": [
    "## Generating from Data Structure: toGraph                   <a id=\"chapter4\"></a>\n",
    "The function ``toGraph`` takes a dictionary maping node keys to lists of neighbors of this node keys.\n"
   ]
  },
  {
   "cell_type": "code",
   "execution_count": 3,
   "metadata": {},
   "outputs": [
    {
     "data": {
      "image/svg+xml": [
       "<svg height=\"148pt\" viewBox=\"0.00 0.00 203.90 148.35\" width=\"204pt\" xmlns=\"http://www.w3.org/2000/svg\" xmlns:xlink=\"http://www.w3.org/1999/xlink\">\n",
       "<g class=\"graph\" id=\"graph0\" transform=\"scale(1 1) rotate(0) translate(75.663 96.002)\">\n",
       "<title>%3</title>\n",
       "<polygon fill=\"white\" points=\"-75.663,52.346 -75.663,-96.002 128.236,-96.002 128.236,52.346 -75.663,52.346\" stroke=\"none\"/>\n",
       "<!-- A -->\n",
       "<g class=\"node\" id=\"node1\"><title>A</title>\n",
       "<ellipse cx=\"-44.663\" cy=\"30.346\" fill=\"none\" rx=\"27\" ry=\"18\" stroke=\"black\"/>\n",
       "<text font-family=\"Times New Roman,serif\" font-size=\"14.00\" text-anchor=\"middle\" x=\"-44.663\" y=\"34.046\">A</text>\n",
       "</g>\n",
       "<!-- C -->\n",
       "<g class=\"node\" id=\"node2\"><title>C</title>\n",
       "<ellipse cx=\"-14.68\" cy=\"-23.592\" fill=\"none\" rx=\"27\" ry=\"18\" stroke=\"black\"/>\n",
       "<text font-family=\"Times New Roman,serif\" font-size=\"14.00\" text-anchor=\"middle\" x=\"-14.68\" y=\"-19.892\">C</text>\n",
       "</g>\n",
       "<!-- A&#45;&gt;C -->\n",
       "<g class=\"edge\" id=\"edge1\"><title>A-&gt;C</title>\n",
       "<path d=\"M-35.176,13.28C-33.262,9.8367 -31.209,6.1433 -29.169,2.4724\" fill=\"none\" stroke=\"black\"/>\n",
       "<polygon fill=\"black\" points=\"-32.126,0.588095 -24.208,-6.4515 -26.0079,3.98935 -32.126,0.588095\" stroke=\"black\"/>\n",
       "</g>\n",
       "<!-- B -->\n",
       "<g class=\"node\" id=\"node3\"><title>B</title>\n",
       "<ellipse cx=\"17.343\" cy=\"29.246\" fill=\"none\" rx=\"27\" ry=\"18\" stroke=\"black\"/>\n",
       "<text font-family=\"Times New Roman,serif\" font-size=\"14.00\" text-anchor=\"middle\" x=\"17.343\" y=\"32.946\">B</text>\n",
       "</g>\n",
       "<!-- A&#45;&gt;B -->\n",
       "<g class=\"edge\" id=\"edge2\"><title>A-&gt;B</title>\n",
       "<path d=\"M-17.647,29.867C-17.484,29.864 -17.32,29.861 -17.157,29.858\" fill=\"none\" stroke=\"black\"/>\n",
       "<polygon fill=\"black\" points=\"-19.8355,26.4051 -9.7749,29.727 -19.7112,33.404 -19.8355,26.4051\" stroke=\"black\"/>\n",
       "</g>\n",
       "<!-- C&#45;&gt;B -->\n",
       "<g class=\"edge\" id=\"edge3\"><title>C-&gt;B</title>\n",
       "<path d=\"M-4.5476,-6.8739C-2.5033,-3.5009 -0.31065,0.11708 1.8688,3.7131\" fill=\"none\" stroke=\"black\"/>\n",
       "<polygon fill=\"black\" points=\"4.97704,2.08891 7.1668,12.455 -1.00939,5.717 4.97704,2.08891\" stroke=\"black\"/>\n",
       "</g>\n",
       "<!-- E -->\n",
       "<g class=\"node\" id=\"node4\"><title>E</title>\n",
       "<ellipse cx=\"62.764\" cy=\"-29.998\" fill=\"none\" rx=\"27\" ry=\"18\" stroke=\"black\"/>\n",
       "<text font-family=\"Times New Roman,serif\" font-size=\"14.00\" text-anchor=\"middle\" x=\"62.764\" y=\"-26.298\">E</text>\n",
       "</g>\n",
       "<!-- D -->\n",
       "<g class=\"node\" id=\"node5\"><title>D</title>\n",
       "<ellipse cx=\"97.236\" cy=\"-74.002\" fill=\"none\" rx=\"27\" ry=\"18\" stroke=\"black\"/>\n",
       "<text font-family=\"Times New Roman,serif\" font-size=\"14.00\" text-anchor=\"middle\" x=\"97.236\" y=\"-70.302\">D</text>\n",
       "</g>\n",
       "<!-- E&#45;&gt;D -->\n",
       "<g class=\"edge\" id=\"edge4\"><title>E-&gt;D</title>\n",
       "<path d=\"M75.404,-46.134C76.341,-47.329 77.297,-48.55 78.261,-49.78\" fill=\"none\" stroke=\"black\"/>\n",
       "<polygon fill=\"black\" points=\"75.6749,-52.1543 84.597,-57.868 81.1853,-47.8375 75.6749,-52.1543\" stroke=\"black\"/>\n",
       "</g>\n",
       "</g>\n",
       "</svg>"
      ],
      "text/plain": [
       "<IPython.core.display.SVG object>"
      ]
     },
     "execution_count": 3,
     "metadata": {},
     "output_type": "execute_result"
    }
   ],
   "source": [
    "G = toGraph({\n",
    "  'A': ['B', 'C'],\n",
    "  'B': ['C'],\n",
    "  'D': ['E']\n",
    "})\n",
    "draw(G)"
   ]
  },
  {
   "cell_type": "markdown",
   "metadata": {},
   "source": [
    "## Generating from Graphviz Text: fromDot                   <a id=\"chapter5\"></a>\n",
    "The function ``fromDot`` takes a graph definition according to the graphviz language. Basically, you can name nodes and establish edges between them using a double dash '--' (see the example). For a more in-depth description of the graphviz language please refer to <a href=\"http://www.graphviz.org/doc/info/lang.html\">the offical reference</a> or <a href=\"http://www.graphviz.org/Documentation/dotguide.pdf\">this guide</a>.\n"
   ]
  },
  {
   "cell_type": "code",
   "execution_count": 4,
   "metadata": {},
   "outputs": [
    {
     "data": {
      "image/svg+xml": [
       "<svg height=\"208pt\" viewBox=\"0.00 0.00 231.24 207.62\" width=\"231pt\" xmlns=\"http://www.w3.org/2000/svg\" xmlns:xlink=\"http://www.w3.org/1999/xlink\">\n",
       "<g class=\"graph\" id=\"graph0\" transform=\"scale(1 1) rotate(0) translate(94 129)\">\n",
       "<title>A</title>\n",
       "<polygon fill=\"white\" points=\"-94,78.619 -94,-129 137.24,-129 137.24,78.619 -94,78.619\" stroke=\"none\"/>\n",
       "<!-- A -->\n",
       "<g class=\"node\" id=\"node1\"><title>A</title>\n",
       "<ellipse cx=\"-8.4062\" cy=\"-7.374\" fill=\"none\" rx=\"27\" ry=\"18\" stroke=\"black\"/>\n",
       "<text font-family=\"Times New Roman,serif\" font-size=\"14.00\" text-anchor=\"middle\" x=\"-8.4062\" y=\"-3.674\">A</text>\n",
       "</g>\n",
       "<!-- C -->\n",
       "<g class=\"node\" id=\"node2\"><title>C</title>\n",
       "<ellipse cx=\"60.591\" cy=\"2.1335\" fill=\"none\" rx=\"27\" ry=\"18\" stroke=\"black\"/>\n",
       "<text font-family=\"Times New Roman,serif\" font-size=\"14.00\" text-anchor=\"middle\" x=\"60.591\" y=\"5.8335\">C</text>\n",
       "</g>\n",
       "<!-- A&#45;&gt;C -->\n",
       "<g class=\"edge\" id=\"edge1\"><title>A-&gt;C</title>\n",
       "<path d=\"M18.073,-3.7253C19.849,-3.4805 21.656,-3.2316 23.472,-2.9813\" fill=\"none\" stroke=\"black\"/>\n",
       "<polygon fill=\"black\" points=\"24.4124,-6.38488 33.841,-1.5525 23.4568,0.5496 24.4124,-6.38488\" stroke=\"black\"/>\n",
       "</g>\n",
       "<!-- B -->\n",
       "<g class=\"node\" id=\"node3\"><title>B</title>\n",
       "<ellipse cx=\"18.816\" cy=\"56.619\" fill=\"none\" rx=\"27\" ry=\"18\" stroke=\"black\"/>\n",
       "<text font-family=\"Times New Roman,serif\" font-size=\"14.00\" text-anchor=\"middle\" x=\"18.816\" y=\"60.319\">B</text>\n",
       "</g>\n",
       "<!-- A&#45;&gt;B -->\n",
       "<g class=\"edge\" id=\"edge2\"><title>A-&gt;B</title>\n",
       "<path d=\"M-0.9677,10.112C1.613,16.179 4.5693,23.129 7.3961,29.774\" fill=\"none\" stroke=\"black\"/>\n",
       "<polygon fill=\"black\" points=\"10.6924,28.5819 11.386,39.154 4.25097,31.3219 10.6924,28.5819\" stroke=\"black\"/>\n",
       "</g>\n",
       "<!-- G -->\n",
       "<g class=\"node\" id=\"node4\"><title>G</title>\n",
       "<ellipse cx=\"-63\" cy=\"-51.378\" fill=\"none\" rx=\"27\" ry=\"18\" stroke=\"black\"/>\n",
       "<text font-family=\"Times New Roman,serif\" font-size=\"14.00\" text-anchor=\"middle\" x=\"-63\" y=\"-47.678\">G</text>\n",
       "</g>\n",
       "<!-- A&#45;&gt;G -->\n",
       "<g class=\"edge\" id=\"edge3\"><title>A-&gt;G</title>\n",
       "<path d=\"M-25.68,-21.297C-29.464,-24.347 -33.546,-27.638 -37.574,-30.884\" fill=\"none\" stroke=\"black\"/>\n",
       "<polygon fill=\"black\" points=\"-40.0622,-28.3941 -45.651,-37.395 -35.669,-33.8439 -40.0622,-28.3941\" stroke=\"black\"/>\n",
       "</g>\n",
       "<!-- C&#45;&gt;B -->\n",
       "<g class=\"edge\" id=\"edge4\"><title>C-&gt;B</title>\n",
       "<path d=\"M48.283,18.186C44.829,22.691 40.997,27.689 37.269,32.551\" fill=\"none\" stroke=\"black\"/>\n",
       "<polygon fill=\"black\" points=\"40.042,34.6865 31.18,40.493 34.4868,30.4274 40.042,34.6865\" stroke=\"black\"/>\n",
       "</g>\n",
       "<!-- E -->\n",
       "<g class=\"node\" id=\"node5\"><title>E</title>\n",
       "<ellipse cx=\"71.764\" cy=\"-62.998\" fill=\"none\" rx=\"27\" ry=\"18\" stroke=\"black\"/>\n",
       "<text font-family=\"Times New Roman,serif\" font-size=\"14.00\" text-anchor=\"middle\" x=\"71.764\" y=\"-59.298\">E</text>\n",
       "</g>\n",
       "<!-- D -->\n",
       "<g class=\"node\" id=\"node6\"><title>D</title>\n",
       "<ellipse cx=\"106.24\" cy=\"-107\" fill=\"none\" rx=\"27\" ry=\"18\" stroke=\"black\"/>\n",
       "<text font-family=\"Times New Roman,serif\" font-size=\"14.00\" text-anchor=\"middle\" x=\"106.24\" y=\"-103.3\">D</text>\n",
       "</g>\n",
       "<!-- E&#45;&gt;D -->\n",
       "<g class=\"edge\" id=\"edge5\"><title>E-&gt;D</title>\n",
       "<path d=\"M84.404,-79.134C85.341,-80.329 86.297,-81.55 87.261,-82.78\" fill=\"none\" stroke=\"black\"/>\n",
       "<polygon fill=\"black\" points=\"84.6749,-85.1543 93.597,-90.868 90.1853,-80.8375 84.6749,-85.1543\" stroke=\"black\"/>\n",
       "</g>\n",
       "</g>\n",
       "</svg>"
      ],
      "text/plain": [
       "<IPython.core.display.SVG object>"
      ]
     },
     "execution_count": 4,
     "metadata": {},
     "output_type": "execute_result"
    }
   ],
   "source": [
    "G = fromDot('''\n",
    "strict graph A {\n",
    "A -- B -- C -- A;\n",
    "A -- G;\n",
    "E -- D;\n",
    "}''')\n",
    "draw(G)"
   ]
  },
  {
   "cell_type": "markdown",
   "metadata": {},
   "source": [
    "## Supplying additional data to nodes and edges                   <a id=\"chapter6\"></a>\n",
    "\n",
    "Sometimes it is necessary to add additional data to a node. For example, in Chapter 4 of the book we will refer investigate whether nodes having a particular binary properties, such as the race of a person, causes the graph to be particularly separated. In the following example, we specify that the node 'E' is green. "
   ]
  },
  {
   "cell_type": "code",
   "execution_count": 5,
   "metadata": {},
   "outputs": [
    {
     "data": {
      "image/svg+xml": [
       "<svg height=\"148pt\" viewBox=\"0.00 0.00 203.90 148.35\" width=\"204pt\" xmlns=\"http://www.w3.org/2000/svg\" xmlns:xlink=\"http://www.w3.org/1999/xlink\">\n",
       "<g class=\"graph\" id=\"graph0\" transform=\"scale(1 1) rotate(0) translate(75.663 96.002)\">\n",
       "<title>A</title>\n",
       "<polygon fill=\"white\" points=\"-75.663,52.346 -75.663,-96.002 128.236,-96.002 128.236,52.346 -75.663,52.346\" stroke=\"none\"/>\n",
       "<!-- A -->\n",
       "<g class=\"node\" id=\"node1\"><title>A</title>\n",
       "<ellipse cx=\"-44.663\" cy=\"30.346\" fill=\"none\" rx=\"27\" ry=\"18\" stroke=\"black\"/>\n",
       "<text font-family=\"Times New Roman,serif\" font-size=\"14.00\" text-anchor=\"middle\" x=\"-44.663\" y=\"34.046\">A</text>\n",
       "</g>\n",
       "<!-- C -->\n",
       "<g class=\"node\" id=\"node2\"><title>C</title>\n",
       "<ellipse cx=\"-14.68\" cy=\"-23.592\" fill=\"none\" rx=\"27\" ry=\"18\" stroke=\"black\"/>\n",
       "<text font-family=\"Times New Roman,serif\" font-size=\"14.00\" text-anchor=\"middle\" x=\"-14.68\" y=\"-19.892\">C</text>\n",
       "</g>\n",
       "<!-- A&#45;&gt;C -->\n",
       "<g class=\"edge\" id=\"edge1\"><title>A-&gt;C</title>\n",
       "<path d=\"M-35.176,13.28C-33.262,9.8367 -31.209,6.1433 -29.169,2.4724\" fill=\"none\" stroke=\"black\"/>\n",
       "<polygon fill=\"black\" points=\"-32.126,0.588095 -24.208,-6.4515 -26.0079,3.98935 -32.126,0.588095\" stroke=\"black\"/>\n",
       "</g>\n",
       "<!-- B -->\n",
       "<g class=\"node\" id=\"node3\"><title>B</title>\n",
       "<ellipse cx=\"17.343\" cy=\"29.246\" fill=\"none\" rx=\"27\" ry=\"18\" stroke=\"black\"/>\n",
       "<text font-family=\"Times New Roman,serif\" font-size=\"14.00\" text-anchor=\"middle\" x=\"17.343\" y=\"32.946\">B</text>\n",
       "</g>\n",
       "<!-- A&#45;&gt;B -->\n",
       "<g class=\"edge\" id=\"edge2\"><title>A-&gt;B</title>\n",
       "<path d=\"M-17.647,29.867C-17.484,29.864 -17.32,29.861 -17.157,29.858\" fill=\"none\" stroke=\"black\"/>\n",
       "<polygon fill=\"black\" points=\"-19.8355,26.4051 -9.7749,29.727 -19.7112,33.404 -19.8355,26.4051\" stroke=\"black\"/>\n",
       "</g>\n",
       "<!-- C&#45;&gt;B -->\n",
       "<g class=\"edge\" id=\"edge3\"><title>C-&gt;B</title>\n",
       "<path d=\"M-4.5476,-6.8739C-2.5033,-3.5009 -0.31065,0.11708 1.8688,3.7131\" fill=\"none\" stroke=\"black\"/>\n",
       "<polygon fill=\"black\" points=\"4.97704,2.08891 7.1668,12.455 -1.00939,5.717 4.97704,2.08891\" stroke=\"black\"/>\n",
       "</g>\n",
       "<!-- E -->\n",
       "<g class=\"node\" id=\"node4\"><title>E</title>\n",
       "<ellipse cx=\"62.764\" cy=\"-29.998\" fill=\"green\" rx=\"27\" ry=\"18\" stroke=\"black\"/>\n",
       "<text font-family=\"Times New Roman,serif\" font-size=\"14.00\" text-anchor=\"middle\" x=\"62.764\" y=\"-26.298\">E</text>\n",
       "</g>\n",
       "<!-- D -->\n",
       "<g class=\"node\" id=\"node5\"><title>D</title>\n",
       "<ellipse cx=\"97.236\" cy=\"-74.002\" fill=\"none\" rx=\"27\" ry=\"18\" stroke=\"black\"/>\n",
       "<text font-family=\"Times New Roman,serif\" font-size=\"14.00\" text-anchor=\"middle\" x=\"97.236\" y=\"-70.302\">D</text>\n",
       "</g>\n",
       "<!-- E&#45;&gt;D -->\n",
       "<g class=\"edge\" id=\"edge4\"><title>E-&gt;D</title>\n",
       "<path d=\"M75.404,-46.134C76.341,-47.329 77.297,-48.55 78.261,-49.78\" fill=\"none\" stroke=\"black\"/>\n",
       "<polygon fill=\"black\" points=\"75.6749,-52.1543 84.597,-57.868 81.1853,-47.8375 75.6749,-52.1543\" stroke=\"black\"/>\n",
       "</g>\n",
       "</g>\n",
       "</svg>"
      ],
      "text/plain": [
       "<IPython.core.display.SVG object>"
      ]
     },
     "execution_count": 5,
     "metadata": {},
     "output_type": "execute_result"
    }
   ],
   "source": [
    "G = fromDot('''\n",
    "strict graph A {\n",
    "A -- B -- C -- A;\n",
    "E -- D;\n",
    "E[fillcolor=green, style=filled];\n",
    "}''')\n",
    "draw(G)"
   ]
  },
  {
   "cell_type": "markdown",
   "metadata": {},
   "source": [
    "## Labeling Nodes                   <a id=\"chapter7\"></a>\n",
    "\n",
    "Sometimes it is handy to provide an additional label to nodes. You can add numbers to nodes by adding a mapping from node keys to label additions."
   ]
  },
  {
   "cell_type": "code",
   "execution_count": 6,
   "metadata": {},
   "outputs": [
    {
     "data": {
      "image/svg+xml": [
       "<svg height=\"148pt\" viewBox=\"0.00 0.00 203.90 148.35\" width=\"204pt\" xmlns=\"http://www.w3.org/2000/svg\" xmlns:xlink=\"http://www.w3.org/1999/xlink\">\n",
       "<g class=\"graph\" id=\"graph0\" transform=\"scale(1 1) rotate(0) translate(75.663 96.002)\">\n",
       "<title>A</title>\n",
       "<polygon fill=\"white\" points=\"-75.663,52.346 -75.663,-96.002 128.236,-96.002 128.236,52.346 -75.663,52.346\" stroke=\"none\"/>\n",
       "<!-- A -->\n",
       "<g class=\"node\" id=\"node1\"><title>A</title>\n",
       "<ellipse cx=\"-44.663\" cy=\"30.346\" fill=\"none\" rx=\"27\" ry=\"18\" stroke=\"black\"/>\n",
       "<text font-family=\"Times New Roman,serif\" font-size=\"14.00\" text-anchor=\"middle\" x=\"-44.663\" y=\"34.046\">A 1</text>\n",
       "</g>\n",
       "<!-- C -->\n",
       "<g class=\"node\" id=\"node2\"><title>C</title>\n",
       "<ellipse cx=\"-14.68\" cy=\"-23.592\" fill=\"none\" rx=\"27\" ry=\"18\" stroke=\"black\"/>\n",
       "<text font-family=\"Times New Roman,serif\" font-size=\"14.00\" text-anchor=\"middle\" x=\"-14.68\" y=\"-19.892\">C</text>\n",
       "</g>\n",
       "<!-- A&#45;&gt;C -->\n",
       "<g class=\"edge\" id=\"edge1\"><title>A-&gt;C</title>\n",
       "<path d=\"M-35.176,13.28C-33.262,9.8367 -31.209,6.1433 -29.169,2.4724\" fill=\"none\" stroke=\"black\"/>\n",
       "<polygon fill=\"black\" points=\"-32.126,0.588095 -24.208,-6.4515 -26.0079,3.98935 -32.126,0.588095\" stroke=\"black\"/>\n",
       "</g>\n",
       "<!-- B -->\n",
       "<g class=\"node\" id=\"node3\"><title>B</title>\n",
       "<ellipse cx=\"17.343\" cy=\"29.246\" fill=\"none\" rx=\"27\" ry=\"18\" stroke=\"black\"/>\n",
       "<text font-family=\"Times New Roman,serif\" font-size=\"14.00\" text-anchor=\"middle\" x=\"17.343\" y=\"32.946\">B 2</text>\n",
       "</g>\n",
       "<!-- A&#45;&gt;B -->\n",
       "<g class=\"edge\" id=\"edge2\"><title>A-&gt;B</title>\n",
       "<path d=\"M-17.647,29.867C-17.484,29.864 -17.32,29.861 -17.157,29.858\" fill=\"none\" stroke=\"black\"/>\n",
       "<polygon fill=\"black\" points=\"-19.8355,26.4051 -9.7749,29.727 -19.7112,33.404 -19.8355,26.4051\" stroke=\"black\"/>\n",
       "</g>\n",
       "<!-- C&#45;&gt;B -->\n",
       "<g class=\"edge\" id=\"edge3\"><title>C-&gt;B</title>\n",
       "<path d=\"M-4.5476,-6.8739C-2.5033,-3.5009 -0.31065,0.11708 1.8688,3.7131\" fill=\"none\" stroke=\"black\"/>\n",
       "<polygon fill=\"black\" points=\"4.97704,2.08891 7.1668,12.455 -1.00939,5.717 4.97704,2.08891\" stroke=\"black\"/>\n",
       "</g>\n",
       "<!-- E -->\n",
       "<g class=\"node\" id=\"node4\"><title>E</title>\n",
       "<ellipse cx=\"62.764\" cy=\"-29.998\" fill=\"green\" rx=\"27\" ry=\"18\" stroke=\"black\"/>\n",
       "<text font-family=\"Times New Roman,serif\" font-size=\"14.00\" text-anchor=\"middle\" x=\"62.764\" y=\"-26.298\">E</text>\n",
       "</g>\n",
       "<!-- D -->\n",
       "<g class=\"node\" id=\"node5\"><title>D</title>\n",
       "<ellipse cx=\"97.236\" cy=\"-74.002\" fill=\"none\" rx=\"27\" ry=\"18\" stroke=\"black\"/>\n",
       "<text font-family=\"Times New Roman,serif\" font-size=\"14.00\" text-anchor=\"middle\" x=\"97.236\" y=\"-70.302\">D</text>\n",
       "</g>\n",
       "<!-- E&#45;&gt;D -->\n",
       "<g class=\"edge\" id=\"edge4\"><title>E-&gt;D</title>\n",
       "<path d=\"M75.404,-46.134C76.341,-47.329 77.297,-48.55 78.261,-49.78\" fill=\"none\" stroke=\"black\"/>\n",
       "<polygon fill=\"black\" points=\"75.6749,-52.1543 84.597,-57.868 81.1853,-47.8375 75.6749,-52.1543\" stroke=\"black\"/>\n",
       "</g>\n",
       "</g>\n",
       "</svg>"
      ],
      "text/plain": [
       "<IPython.core.display.SVG object>"
      ]
     },
     "execution_count": 6,
     "metadata": {},
     "output_type": "execute_result"
    }
   ],
   "source": [
    "\n",
    "visiting = {'A': 1, 'B': 2}\n",
    "draw(G, visiting)"
   ]
  },
  {
   "cell_type": "markdown",
   "metadata": {},
   "source": [
    "## Numbering Paths               <a id=\"chapter8\"></a>\n",
    "\n",
    "Sometimes it is handy to number paths. This is dune by adding an edge mapping (``emapping``) argument to the draw function. To number paths we can use the existing ``pathNumberer`` function."
   ]
  },
  {
   "cell_type": "code",
   "execution_count": 7,
   "metadata": {},
   "outputs": [
    {
     "data": {
      "image/svg+xml": [
       "<svg height=\"148pt\" viewBox=\"0.00 0.00 203.90 148.35\" width=\"204pt\" xmlns=\"http://www.w3.org/2000/svg\" xmlns:xlink=\"http://www.w3.org/1999/xlink\">\n",
       "<g class=\"graph\" id=\"graph0\" transform=\"scale(1 1) rotate(0) translate(75.663 96.002)\">\n",
       "<title>A</title>\n",
       "<polygon fill=\"white\" points=\"-75.663,52.346 -75.663,-96.002 128.236,-96.002 128.236,52.346 -75.663,52.346\" stroke=\"none\"/>\n",
       "<!-- A -->\n",
       "<g class=\"node\" id=\"node1\"><title>A</title>\n",
       "<ellipse cx=\"-44.663\" cy=\"30.346\" fill=\"none\" rx=\"27\" ry=\"18\" stroke=\"black\"/>\n",
       "<text font-family=\"Times New Roman,serif\" font-size=\"14.00\" text-anchor=\"middle\" x=\"-44.663\" y=\"34.046\">A</text>\n",
       "</g>\n",
       "<!-- C -->\n",
       "<g class=\"node\" id=\"node2\"><title>C</title>\n",
       "<ellipse cx=\"-14.68\" cy=\"-23.592\" fill=\"none\" rx=\"27\" ry=\"18\" stroke=\"black\"/>\n",
       "<text font-family=\"Times New Roman,serif\" font-size=\"14.00\" text-anchor=\"middle\" x=\"-14.68\" y=\"-19.892\">C</text>\n",
       "</g>\n",
       "<!-- A&#45;&gt;C -->\n",
       "<g class=\"edge\" id=\"edge1\"><title>A-&gt;C</title>\n",
       "<path d=\"M-35.176,13.28C-33.262,9.8367 -31.209,6.1433 -29.169,2.4724\" fill=\"none\" stroke=\"black\"/>\n",
       "<polygon fill=\"black\" points=\"-32.126,0.588095 -24.208,-6.4515 -26.0079,3.98935 -32.126,0.588095\" stroke=\"black\"/>\n",
       "<text font-family=\"Times New Roman,serif\" font-size=\"14.00\" text-anchor=\"middle\" x=\"-35.672\" y=\"4.07613\">3</text>\n",
       "</g>\n",
       "<!-- B -->\n",
       "<g class=\"node\" id=\"node3\"><title>B</title>\n",
       "<ellipse cx=\"17.343\" cy=\"29.246\" fill=\"none\" rx=\"27\" ry=\"18\" stroke=\"black\"/>\n",
       "<text font-family=\"Times New Roman,serif\" font-size=\"14.00\" text-anchor=\"middle\" x=\"17.343\" y=\"32.946\">B</text>\n",
       "</g>\n",
       "<!-- A&#45;&gt;B -->\n",
       "<g class=\"edge\" id=\"edge2\"><title>A-&gt;B</title>\n",
       "<path d=\"M-17.647,29.867C-17.484,29.864 -17.32,29.861 -17.157,29.858\" fill=\"none\" stroke=\"black\"/>\n",
       "<polygon fill=\"black\" points=\"-19.8355,26.4051 -9.7749,29.727 -19.7112,33.404 -19.8355,26.4051\" stroke=\"black\"/>\n",
       "<text font-family=\"Times New Roman,serif\" font-size=\"14.00\" text-anchor=\"middle\" x=\"-13.902\" y=\"26.062\">1</text>\n",
       "</g>\n",
       "<!-- C&#45;&gt;B -->\n",
       "<g class=\"edge\" id=\"edge3\"><title>C-&gt;B</title>\n",
       "<path d=\"M-4.5476,-6.8739C-2.5033,-3.5009 -0.31065,0.11708 1.8688,3.7131\" fill=\"none\" stroke=\"black\"/>\n",
       "<polygon fill=\"black\" points=\"4.97704,2.08891 7.1668,12.455 -1.00939,5.717 4.97704,2.08891\" stroke=\"black\"/>\n",
       "<text font-family=\"Times New Roman,serif\" font-size=\"14.00\" text-anchor=\"middle\" x=\"2.1606\" y=\"9.6196\">2</text>\n",
       "</g>\n",
       "<!-- E -->\n",
       "<g class=\"node\" id=\"node4\"><title>E</title>\n",
       "<ellipse cx=\"62.764\" cy=\"-29.998\" fill=\"green\" rx=\"27\" ry=\"18\" stroke=\"black\"/>\n",
       "<text font-family=\"Times New Roman,serif\" font-size=\"14.00\" text-anchor=\"middle\" x=\"62.764\" y=\"-26.298\">E</text>\n",
       "</g>\n",
       "<!-- D -->\n",
       "<g class=\"node\" id=\"node5\"><title>D</title>\n",
       "<ellipse cx=\"97.236\" cy=\"-74.002\" fill=\"none\" rx=\"27\" ry=\"18\" stroke=\"black\"/>\n",
       "<text font-family=\"Times New Roman,serif\" font-size=\"14.00\" text-anchor=\"middle\" x=\"97.236\" y=\"-70.302\">D</text>\n",
       "</g>\n",
       "<!-- E&#45;&gt;D -->\n",
       "<g class=\"edge\" id=\"edge4\"><title>E-&gt;D</title>\n",
       "<path d=\"M75.404,-46.134C76.341,-47.329 77.297,-48.55 78.261,-49.78\" fill=\"none\" stroke=\"black\"/>\n",
       "<polygon fill=\"black\" points=\"75.6749,-52.1543 84.597,-57.868 81.1853,-47.8375 75.6749,-52.1543\" stroke=\"black\"/>\n",
       "</g>\n",
       "</g>\n",
       "</svg>"
      ],
      "text/plain": [
       "<IPython.core.display.SVG object>"
      ]
     },
     "execution_count": 7,
     "metadata": {},
     "output_type": "execute_result"
    }
   ],
   "source": [
    "draw(G, emapping=pathNumberer(['A','B','C', 'A']))"
   ]
  },
  {
   "cell_type": "markdown",
   "metadata": {},
   "source": [
    "## Displaying Strong and Weak Ties                <a id=\"chapter9\"></a>\n",
    "\n",
    "In some chapters it is necessary to differentiate between strong and weak ties. The strength of a tie is specified via\n",
    "the weight attribute of an edge. The state of a tie can be specified with the strongWeadEdges ``emapping``."
   ]
  },
  {
   "cell_type": "code",
   "execution_count": 8,
   "metadata": {},
   "outputs": [
    {
     "data": {
      "image/svg+xml": [
       "<svg height=\"56pt\" viewBox=\"0.00 0.00 186.63 55.73\" width=\"187pt\" xmlns=\"http://www.w3.org/2000/svg\" xmlns:xlink=\"http://www.w3.org/1999/xlink\">\n",
       "<g class=\"graph\" id=\"graph0\" transform=\"scale(1 1) rotate(0) translate(93.212 28.5202)\">\n",
       "<title>A</title>\n",
       "<polygon fill=\"white\" points=\"-93.212,27.2146 -93.212,-28.5202 93.418,-28.5202 93.418,27.2146 -93.212,27.2146\" stroke=\"none\"/>\n",
       "<!-- A -->\n",
       "<g class=\"node\" id=\"node1\"><title>A</title>\n",
       "<ellipse cx=\"-62.212\" cy=\"5.2146\" fill=\"none\" rx=\"27\" ry=\"18\" stroke=\"black\"/>\n",
       "<text font-family=\"Times New Roman,serif\" font-size=\"14.00\" text-anchor=\"middle\" x=\"-62.212\" y=\"8.9146\">A</text>\n",
       "</g>\n",
       "<!-- B -->\n",
       "<g class=\"node\" id=\"node2\"><title>B</title>\n",
       "<ellipse cx=\"-0.20585\" cy=\"-6.5202\" fill=\"none\" rx=\"27\" ry=\"18\" stroke=\"black\"/>\n",
       "<text font-family=\"Times New Roman,serif\" font-size=\"14.00\" text-anchor=\"middle\" x=\"-0.20585\" y=\"-2.8202\">B</text>\n",
       "</g>\n",
       "<!-- A&#45;&gt;B -->\n",
       "<g class=\"edge\" id=\"edge1\"><title>A-&gt;B</title>\n",
       "<path d=\"M-35.916,0.23799C-35.817,0.21925 -35.718,0.2005 -35.619,0.18174\" fill=\"none\" stroke=\"black\"/>\n",
       "<polygon fill=\"black\" points=\"-36.8214,-3.15275 -26.345,-1.5733 -35.5198,3.72518 -36.8214,-3.15275\" stroke=\"black\"/>\n",
       "<text font-family=\"Times New Roman,serif\" font-size=\"14.00\" text-anchor=\"middle\" x=\"-32.267\" y=\"-3.5901\">s</text>\n",
       "</g>\n",
       "<!-- C -->\n",
       "<g class=\"node\" id=\"node3\"><title>C</title>\n",
       "<ellipse cx=\"62.418\" cy=\"1.3056\" fill=\"none\" rx=\"27\" ry=\"18\" stroke=\"black\"/>\n",
       "<text font-family=\"Times New Roman,serif\" font-size=\"14.00\" text-anchor=\"middle\" x=\"62.418\" y=\"5.0056\">C</text>\n",
       "</g>\n",
       "<!-- C&#45;&gt;B -->\n",
       "<g class=\"edge\" id=\"edge2\"><title>C-&gt;B</title>\n",
       "<path d=\"M35.86,-2.0132C35.764,-2.0252 35.668,-2.0372 35.572,-2.0492\" fill=\"none\" stroke=\"black\"/>\n",
       "<polygon fill=\"black\" points=\"36.0828,1.54196 26.594,-3.1712 36.9509,-5.40401 36.0828,1.54196\" stroke=\"black\"/>\n",
       "<text font-family=\"Times New Roman,serif\" font-size=\"14.00\" text-anchor=\"middle\" x=\"30.716\" y=\"9.1688\">w</text>\n",
       "</g>\n",
       "</g>\n",
       "</svg>"
      ],
      "text/plain": [
       "<IPython.core.display.SVG object>"
      ]
     },
     "execution_count": 8,
     "metadata": {},
     "output_type": "execute_result"
    }
   ],
   "source": [
    "# You can number paths\n",
    "G = fromDot('''\n",
    "strict graph A {\n",
    "A -- B [weight=0.9]; # end\n",
    "B -- C [weight=0.1]; # weak\n",
    "}''')\n",
    "draw(G, emapping=strongWeakEdges())"
   ]
  },
  {
   "cell_type": "markdown",
   "metadata": {},
   "source": [
    "# Chapter 2. Accessing Nodes and Edges                   <a id=\"chapter10\"></a>\n",
    "\n",
    "When doing the programming assignments, it is often necessary to access all nodes and edges of a graph. This chapter tells you how to do this with the ``networkx`` library.  \n"
   ]
  },
  {
   "cell_type": "markdown",
   "metadata": {},
   "source": [
    "## Iterating through nodes                   <a id=\"chapter11\"></a>\n",
    "\n",
    "You can iterate over all nodes of a graph by using the ``nodes()`` method. By default, the function returns a list of node keys. To access the data of a node, you can specify the optional parameter ``data`` to be true. See the following example."
   ]
  },
  {
   "cell_type": "code",
   "execution_count": 9,
   "metadata": {},
   "outputs": [
    {
     "name": "stdout",
     "output_type": "stream",
     "text": [
      "A\n",
      "C\n",
      "B\n",
      "E\n",
      "D\n",
      "A {}\n",
      "C {}\n",
      "B {}\n",
      "E {'style': 'filled', 'fillcolor': 'green'}\n",
      "D {}\n"
     ]
    }
   ],
   "source": [
    "G = fromDot('''\n",
    "strict graph A {\n",
    "A -- B -- C -- A;\n",
    "E -- D;\n",
    "E[fillcolor=green, style=filled];\n",
    "}''')\n",
    "for n in G.nodes():\n",
    "    print n\n",
    "# including the nodes' data\n",
    "for n,d in G.nodes(data=True):\n",
    "    print n,d"
   ]
  },
  {
   "cell_type": "markdown",
   "metadata": {},
   "source": [
    "## Iterating over edges                   <a id=\"chapter12\"></a>\n",
    "\n",
    "You can iterate over the edges of a graph using the ``edges`` method. By default the method returns a two-tuple of nodes consituting the edge. Similar to the method ``nodes``, supplying the optional parameter ``data`` returns a dictionary with additional data of each edge."
   ]
  },
  {
   "cell_type": "code",
   "execution_count": 10,
   "metadata": {},
   "outputs": [
    {
     "name": "stdout",
     "output_type": "stream",
     "text": [
      "A B\n",
      "C B\n",
      "A B {'weight': '0.9'}\n",
      "C B {'weight': '0.1'}\n"
     ]
    }
   ],
   "source": [
    "G = fromDot('''\n",
    "strict graph A {\n",
    "A -- B [weight=0.9]; # end\n",
    "B -- C [weight=0.1]; # weak\n",
    "}''')\n",
    "# without additional data\n",
    "for u,v in G.edges():\n",
    "    print u,v\n",
    "# including additional data saved with the edge\n",
    "for u,v,d in G.edges(data=True):\n",
    "    print u,v,d"
   ]
  },
  {
   "cell_type": "markdown",
   "metadata": {},
   "source": [
    "## Iterating over neighbors of graphs                   <a id=\"chapter13\"></a>\n",
    "\n",
    "You can also iterate over the neightbors of a node by using the ``[]`` notation on the graph passing the node key as an argument."
   ]
  },
  {
   "cell_type": "code",
   "execution_count": 11,
   "metadata": {},
   "outputs": [
    {
     "name": "stdout",
     "output_type": "stream",
     "text": [
      "B\n"
     ]
    }
   ],
   "source": [
    "for n in G['A']:\n",
    "    print n"
   ]
  },
  {
   "cell_type": "markdown",
   "metadata": {},
   "source": [
    "## Iterating over pairs of neighbors                   <a id=\"chapter14\"></a>\n",
    "\n",
    "In some exercises it is necessary to iterate over distinct pairs of neightbors of a certain node. To achieve this, we provide the ``neighborPairs`` function in ``utils``."
   ]
  },
  {
   "cell_type": "code",
   "execution_count": 12,
   "metadata": {},
   "outputs": [
    {
     "name": "stdout",
     "output_type": "stream",
     "text": [
      "C D\n",
      "B C\n",
      "B D\n"
     ]
    }
   ],
   "source": [
    "G = fromDot('''\n",
    "strict graph A {\n",
    "A -- B;\n",
    "A -- C;\n",
    "A -- D;\n",
    "}''')\n",
    "for n1,n2 in neighborPairs(G, 'A'):\n",
    "    print n1,n2"
   ]
  },
  {
   "cell_type": "markdown",
   "metadata": {},
   "source": [
    "# Chapter 3. Transitioning Graphs                   <a id=\"chapter15\"></a>\n",
    "\n",
    "The basis for many graph operations requires iterating over the nodes starting from a particular start node. Here we discuss the two most basic iteration algorithms:\n",
    "\n",
    "* Breadth-first search,\n",
    "* Depth first search."
   ]
  },
  {
   "cell_type": "markdown",
   "metadata": {},
   "source": [
    "## Breadth-first search                   <a id=\"chapter16\"></a>\n",
    "\n",
    "In breadth first search, discovered nodes are attached to the end of the queue. Thus, the algorithm first searches through all nodes in the same distance from the start node. The dictionary visited maps each node to a visiting time and thus keeps track of which node was already visited. Also refer to <a href=\"https://en.wikipedia.org/wiki/Breadth-first_search\">this wikipedia page</a>."
   ]
  },
  {
   "cell_type": "code",
   "execution_count": 13,
   "metadata": {},
   "outputs": [
    {
     "data": {
      "image/svg+xml": [
       "<svg height=\"375pt\" viewBox=\"0.00 0.00 259.39 374.92\" width=\"259pt\" xmlns=\"http://www.w3.org/2000/svg\" xmlns:xlink=\"http://www.w3.org/1999/xlink\">\n",
       "<g class=\"graph\" id=\"graph0\" transform=\"scale(1 1) rotate(0) translate(122.564 202.98)\">\n",
       "<title>A</title>\n",
       "<polygon fill=\"white\" points=\"-122.564,171.94 -122.564,-202.98 136.83,-202.98 136.83,171.94 -122.564,171.94\" stroke=\"none\"/>\n",
       "<!-- A -->\n",
       "<g class=\"node\" id=\"node1\"><title>A</title>\n",
       "<ellipse cx=\"-91.564\" cy=\"37.693\" fill=\"none\" rx=\"27\" ry=\"18\" stroke=\"black\"/>\n",
       "<text font-family=\"Times New Roman,serif\" font-size=\"14.00\" text-anchor=\"middle\" x=\"-91.564\" y=\"41.393\">A 0</text>\n",
       "</g>\n",
       "<!-- B -->\n",
       "<g class=\"node\" id=\"node2\"><title>B</title>\n",
       "<ellipse cx=\"-27.995\" cy=\"11.526\" fill=\"none\" rx=\"27\" ry=\"18\" stroke=\"black\"/>\n",
       "<text font-family=\"Times New Roman,serif\" font-size=\"14.00\" text-anchor=\"middle\" x=\"-27.995\" y=\"15.226\">B 1</text>\n",
       "</g>\n",
       "<!-- A&#45;&gt;B -->\n",
       "<g class=\"edge\" id=\"edge1\"><title>A-&gt;B</title>\n",
       "<path d=\"M-68.254,28.098C-65.75,27.067 -63.169,26.005 -60.581,24.94\" fill=\"none\" stroke=\"black\"/>\n",
       "<polygon fill=\"black\" points=\"-61.8815,21.6904 -51.302,21.12 -59.2166,28.1634 -61.8815,21.6904\" stroke=\"black\"/>\n",
       "</g>\n",
       "<!-- F -->\n",
       "<g class=\"node\" id=\"node3\"><title>F</title>\n",
       "<ellipse cx=\"22.744\" cy=\"55.53\" fill=\"none\" rx=\"27\" ry=\"18\" stroke=\"black\"/>\n",
       "<text font-family=\"Times New Roman,serif\" font-size=\"14.00\" text-anchor=\"middle\" x=\"22.744\" y=\"59.23\">F 3</text>\n",
       "</g>\n",
       "<!-- B&#45;&gt;F -->\n",
       "<g class=\"edge\" id=\"edge2\"><title>B-&gt;F</title>\n",
       "<path d=\"M-11.381,25.934C-8.1948,28.698 -4.7984,31.643 -1.43,34.565\" fill=\"none\" stroke=\"black\"/>\n",
       "<polygon fill=\"black\" points=\"1.00426,32.0432 6.2662,41.239 -3.58184,37.3317 1.00426,32.0432\" stroke=\"black\"/>\n",
       "</g>\n",
       "<!-- C -->\n",
       "<g class=\"node\" id=\"node4\"><title>C</title>\n",
       "<ellipse cx=\"-22.935\" cy=\"-55.447\" fill=\"none\" rx=\"27\" ry=\"18\" stroke=\"black\"/>\n",
       "<text font-family=\"Times New Roman,serif\" font-size=\"14.00\" text-anchor=\"middle\" x=\"-22.935\" y=\"-51.747\">C 2</text>\n",
       "</g>\n",
       "<!-- C&#45;&gt;B -->\n",
       "<g class=\"edge\" id=\"edge3\"><title>C-&gt;B</title>\n",
       "<path d=\"M-24.318,-37.147C-24.787,-30.945 -25.322,-23.862 -25.836,-17.055\" fill=\"none\" stroke=\"black\"/>\n",
       "<polygon fill=\"black\" points=\"-22.3708,-16.4608 -26.614,-6.7528 -29.3509,-16.988 -22.3708,-16.4608\" stroke=\"black\"/>\n",
       "</g>\n",
       "<!-- D -->\n",
       "<g class=\"node\" id=\"node5\"><title>D</title>\n",
       "<ellipse cx=\"-22.98\" cy=\"-118.97\" fill=\"none\" rx=\"27\" ry=\"18\" stroke=\"black\"/>\n",
       "<text font-family=\"Times New Roman,serif\" font-size=\"14.00\" text-anchor=\"middle\" x=\"-22.98\" y=\"-115.27\">D 4</text>\n",
       "</g>\n",
       "<!-- C&#45;&gt;D -->\n",
       "<g class=\"edge\" id=\"edge4\"><title>C-&gt;D</title>\n",
       "<path d=\"M-22.948,-73.481C-22.952,-78.8 -22.956,-84.754 -22.96,-90.558\" fill=\"none\" stroke=\"black\"/>\n",
       "<polygon fill=\"black\" points=\"-26.46,-90.6675 -22.967,-100.67 -19.46,-90.6725 -26.46,-90.6675\" stroke=\"black\"/>\n",
       "</g>\n",
       "<!-- E -->\n",
       "<g class=\"node\" id=\"node6\"><title>E</title>\n",
       "<ellipse cx=\"-30.495\" cy=\"-180.98\" fill=\"none\" rx=\"27\" ry=\"18\" stroke=\"black\"/>\n",
       "<text font-family=\"Times New Roman,serif\" font-size=\"14.00\" text-anchor=\"middle\" x=\"-30.495\" y=\"-177.28\">E 6</text>\n",
       "</g>\n",
       "<!-- E&#45;&gt;D -->\n",
       "<g class=\"edge\" id=\"edge5\"><title>E-&gt;D</title>\n",
       "<path d=\"M-28.281,-162.71C-27.705,-157.96 -27.071,-152.72 -26.447,-147.58\" fill=\"none\" stroke=\"black\"/>\n",
       "<polygon fill=\"black\" points=\"-22.9322,-147.668 -25.204,-137.32 -29.8814,-146.826 -22.9322,-147.668\" stroke=\"black\"/>\n",
       "</g>\n",
       "<!-- G -->\n",
       "<g class=\"node\" id=\"node7\"><title>G</title>\n",
       "<ellipse cx=\"67.395\" cy=\"100.71\" fill=\"none\" rx=\"27\" ry=\"18\" stroke=\"black\"/>\n",
       "<text font-family=\"Times New Roman,serif\" font-size=\"14.00\" text-anchor=\"middle\" x=\"67.395\" y=\"104.41\">G 5</text>\n",
       "</g>\n",
       "<!-- G&#45;&gt;F -->\n",
       "<g class=\"edge\" id=\"edge6\"><title>G-&gt;F</title>\n",
       "<path d=\"M52.527,85.666C50.143,83.253 47.63,80.711 45.116,78.167\" fill=\"none\" stroke=\"black\"/>\n",
       "<polygon fill=\"black\" points=\"42.2398,80.2359 37.7,70.663 47.2187,75.3154 42.2398,80.2359\" stroke=\"black\"/>\n",
       "</g>\n",
       "<!-- H -->\n",
       "<g class=\"node\" id=\"node8\"><title>H</title>\n",
       "<ellipse cx=\"105.83\" cy=\"149.94\" fill=\"none\" rx=\"27\" ry=\"18\" stroke=\"black\"/>\n",
       "<text font-family=\"Times New Roman,serif\" font-size=\"14.00\" text-anchor=\"middle\" x=\"105.83\" y=\"153.64\">H 7</text>\n",
       "</g>\n",
       "<!-- G&#45;&gt;H -->\n",
       "<g class=\"edge\" id=\"edge7\"><title>G-&gt;H</title>\n",
       "<path d=\"M79.98,116.83C82.26,119.75 84.682,122.85 87.093,125.94\" fill=\"none\" stroke=\"black\"/>\n",
       "<polygon fill=\"black\" points=\"89.9518,123.914 93.348,133.95 84.4347,128.223 89.9518,123.914\" stroke=\"black\"/>\n",
       "</g>\n",
       "</g>\n",
       "</svg>"
      ],
      "text/plain": [
       "<IPython.core.display.SVG object>"
      ]
     },
     "execution_count": 13,
     "metadata": {},
     "output_type": "execute_result"
    }
   ],
   "source": [
    "G = fromDot('''\n",
    "strict graph A {\n",
    "A -- B;\n",
    "B -- C -- D -- E;\n",
    "B -- F -- G -- H;\n",
    "}''')\n",
    "\n",
    "def bfs(graph, start):\n",
    "    ''' \n",
    "    Iterate nodes starting from the node start\n",
    "    '''\n",
    "    visited, queue = dict(), [start]\n",
    "    while queue:\n",
    "        vertex = queue.pop(0)\n",
    "        if vertex not in visited:\n",
    "            visited[vertex] = len(visited)\n",
    "            queue.extend(set(graph[vertex]) - set(visited))\n",
    "    return visited\n",
    "visits = bfs(G, 'A')\n",
    "draw(G,visits)"
   ]
  },
  {
   "cell_type": "markdown",
   "metadata": {},
   "source": [
    "Notice that breadth-first search visits both branches alternatingly. "
   ]
  },
  {
   "cell_type": "markdown",
   "metadata": {},
   "source": [
    "## Depth-first search                 <a id=\"chapter17\"></a>\n",
    "\n",
    "Depth-first-search in graph starting from the node 'start'. The algorithm starts at the start and explores the first discovered branch until it reaches no more new nodes. It then uses a technique called backtracking to return to the last node with an undiscoverd branch. Also refer to <a href=\"https://en.wikipedia.org/wiki/Depth-first_search\">this wikipedia page</a>."
   ]
  },
  {
   "cell_type": "code",
   "execution_count": 14,
   "metadata": {},
   "outputs": [
    {
     "data": {
      "image/svg+xml": [
       "<svg height=\"375pt\" viewBox=\"0.00 0.00 259.39 374.92\" width=\"259pt\" xmlns=\"http://www.w3.org/2000/svg\" xmlns:xlink=\"http://www.w3.org/1999/xlink\">\n",
       "<g class=\"graph\" id=\"graph0\" transform=\"scale(1 1) rotate(0) translate(122.564 202.98)\">\n",
       "<title>A</title>\n",
       "<polygon fill=\"white\" points=\"-122.564,171.94 -122.564,-202.98 136.83,-202.98 136.83,171.94 -122.564,171.94\" stroke=\"none\"/>\n",
       "<!-- A -->\n",
       "<g class=\"node\" id=\"node1\"><title>A</title>\n",
       "<ellipse cx=\"-91.564\" cy=\"37.693\" fill=\"none\" rx=\"27\" ry=\"18\" stroke=\"black\"/>\n",
       "<text font-family=\"Times New Roman,serif\" font-size=\"14.00\" text-anchor=\"middle\" x=\"-91.564\" y=\"41.393\">A 0</text>\n",
       "</g>\n",
       "<!-- B -->\n",
       "<g class=\"node\" id=\"node2\"><title>B</title>\n",
       "<ellipse cx=\"-27.995\" cy=\"11.526\" fill=\"none\" rx=\"27\" ry=\"18\" stroke=\"black\"/>\n",
       "<text font-family=\"Times New Roman,serif\" font-size=\"14.00\" text-anchor=\"middle\" x=\"-27.995\" y=\"15.226\">B 1</text>\n",
       "</g>\n",
       "<!-- A&#45;&gt;B -->\n",
       "<g class=\"edge\" id=\"edge1\"><title>A-&gt;B</title>\n",
       "<path d=\"M-68.254,28.098C-65.75,27.067 -63.169,26.005 -60.581,24.94\" fill=\"none\" stroke=\"black\"/>\n",
       "<polygon fill=\"black\" points=\"-61.8815,21.6904 -51.302,21.12 -59.2166,28.1634 -61.8815,21.6904\" stroke=\"black\"/>\n",
       "</g>\n",
       "<!-- F -->\n",
       "<g class=\"node\" id=\"node3\"><title>F</title>\n",
       "<ellipse cx=\"22.744\" cy=\"55.53\" fill=\"none\" rx=\"27\" ry=\"18\" stroke=\"black\"/>\n",
       "<text font-family=\"Times New Roman,serif\" font-size=\"14.00\" text-anchor=\"middle\" x=\"22.744\" y=\"59.23\">F 2</text>\n",
       "</g>\n",
       "<!-- B&#45;&gt;F -->\n",
       "<g class=\"edge\" id=\"edge2\"><title>B-&gt;F</title>\n",
       "<path d=\"M-11.381,25.934C-8.1948,28.698 -4.7984,31.643 -1.43,34.565\" fill=\"none\" stroke=\"black\"/>\n",
       "<polygon fill=\"black\" points=\"1.00426,32.0432 6.2662,41.239 -3.58184,37.3317 1.00426,32.0432\" stroke=\"black\"/>\n",
       "</g>\n",
       "<!-- C -->\n",
       "<g class=\"node\" id=\"node4\"><title>C</title>\n",
       "<ellipse cx=\"-22.935\" cy=\"-55.447\" fill=\"none\" rx=\"27\" ry=\"18\" stroke=\"black\"/>\n",
       "<text font-family=\"Times New Roman,serif\" font-size=\"14.00\" text-anchor=\"middle\" x=\"-22.935\" y=\"-51.747\">C 5</text>\n",
       "</g>\n",
       "<!-- C&#45;&gt;B -->\n",
       "<g class=\"edge\" id=\"edge3\"><title>C-&gt;B</title>\n",
       "<path d=\"M-24.318,-37.147C-24.787,-30.945 -25.322,-23.862 -25.836,-17.055\" fill=\"none\" stroke=\"black\"/>\n",
       "<polygon fill=\"black\" points=\"-22.3708,-16.4608 -26.614,-6.7528 -29.3509,-16.988 -22.3708,-16.4608\" stroke=\"black\"/>\n",
       "</g>\n",
       "<!-- D -->\n",
       "<g class=\"node\" id=\"node5\"><title>D</title>\n",
       "<ellipse cx=\"-22.98\" cy=\"-118.97\" fill=\"none\" rx=\"27\" ry=\"18\" stroke=\"black\"/>\n",
       "<text font-family=\"Times New Roman,serif\" font-size=\"14.00\" text-anchor=\"middle\" x=\"-22.98\" y=\"-115.27\">D 6</text>\n",
       "</g>\n",
       "<!-- C&#45;&gt;D -->\n",
       "<g class=\"edge\" id=\"edge4\"><title>C-&gt;D</title>\n",
       "<path d=\"M-22.948,-73.481C-22.952,-78.8 -22.956,-84.754 -22.96,-90.558\" fill=\"none\" stroke=\"black\"/>\n",
       "<polygon fill=\"black\" points=\"-26.46,-90.6675 -22.967,-100.67 -19.46,-90.6725 -26.46,-90.6675\" stroke=\"black\"/>\n",
       "</g>\n",
       "<!-- E -->\n",
       "<g class=\"node\" id=\"node6\"><title>E</title>\n",
       "<ellipse cx=\"-30.495\" cy=\"-180.98\" fill=\"none\" rx=\"27\" ry=\"18\" stroke=\"black\"/>\n",
       "<text font-family=\"Times New Roman,serif\" font-size=\"14.00\" text-anchor=\"middle\" x=\"-30.495\" y=\"-177.28\">E 7</text>\n",
       "</g>\n",
       "<!-- E&#45;&gt;D -->\n",
       "<g class=\"edge\" id=\"edge5\"><title>E-&gt;D</title>\n",
       "<path d=\"M-28.281,-162.71C-27.705,-157.96 -27.071,-152.72 -26.447,-147.58\" fill=\"none\" stroke=\"black\"/>\n",
       "<polygon fill=\"black\" points=\"-22.9322,-147.668 -25.204,-137.32 -29.8814,-146.826 -22.9322,-147.668\" stroke=\"black\"/>\n",
       "</g>\n",
       "<!-- G -->\n",
       "<g class=\"node\" id=\"node7\"><title>G</title>\n",
       "<ellipse cx=\"67.395\" cy=\"100.71\" fill=\"none\" rx=\"27\" ry=\"18\" stroke=\"black\"/>\n",
       "<text font-family=\"Times New Roman,serif\" font-size=\"14.00\" text-anchor=\"middle\" x=\"67.395\" y=\"104.41\">G 3</text>\n",
       "</g>\n",
       "<!-- G&#45;&gt;F -->\n",
       "<g class=\"edge\" id=\"edge6\"><title>G-&gt;F</title>\n",
       "<path d=\"M52.527,85.666C50.143,83.253 47.63,80.711 45.116,78.167\" fill=\"none\" stroke=\"black\"/>\n",
       "<polygon fill=\"black\" points=\"42.2398,80.2359 37.7,70.663 47.2187,75.3154 42.2398,80.2359\" stroke=\"black\"/>\n",
       "</g>\n",
       "<!-- H -->\n",
       "<g class=\"node\" id=\"node8\"><title>H</title>\n",
       "<ellipse cx=\"105.83\" cy=\"149.94\" fill=\"none\" rx=\"27\" ry=\"18\" stroke=\"black\"/>\n",
       "<text font-family=\"Times New Roman,serif\" font-size=\"14.00\" text-anchor=\"middle\" x=\"105.83\" y=\"153.64\">H 4</text>\n",
       "</g>\n",
       "<!-- G&#45;&gt;H -->\n",
       "<g class=\"edge\" id=\"edge7\"><title>G-&gt;H</title>\n",
       "<path d=\"M79.98,116.83C82.26,119.75 84.682,122.85 87.093,125.94\" fill=\"none\" stroke=\"black\"/>\n",
       "<polygon fill=\"black\" points=\"89.9518,123.914 93.348,133.95 84.4347,128.223 89.9518,123.914\" stroke=\"black\"/>\n",
       "</g>\n",
       "</g>\n",
       "</svg>"
      ],
      "text/plain": [
       "<IPython.core.display.SVG object>"
      ]
     },
     "execution_count": 14,
     "metadata": {},
     "output_type": "execute_result"
    }
   ],
   "source": [
    "def dfs(graph, start):\n",
    "    ''' \n",
    "    Depth-first-search in graph starting from the node 'start'.\n",
    "    '''\n",
    "    visited, stack = dict(), [start]\n",
    "    while stack:\n",
    "        vertex = stack.pop()\n",
    "        if vertex not in visited:\n",
    "            visited[vertex] = len(visited)\n",
    "            stack.extend(set(graph[vertex]) - set(visited.keys()))\n",
    "    return visited\n",
    "visits = dfs(G, 'A')\n",
    "draw(G, visits)"
   ]
  },
  {
   "cell_type": "markdown",
   "metadata": {},
   "source": [
    "Notice how depth-first search descends into one branch first and then switches to the second branch."
   ]
  }
 ],
 "metadata": {
  "kernelspec": {
   "display_name": "Python 2",
   "language": "python",
   "name": "python2"
  },
  "language_info": {
   "codemirror_mode": {
    "name": "ipython",
    "version": 2
   },
   "file_extension": ".py",
   "mimetype": "text/x-python",
   "name": "python",
   "nbconvert_exporter": "python",
   "pygments_lexer": "ipython2",
   "version": "2.7.16"
  }
 },
 "nbformat": 4,
 "nbformat_minor": 2
}
