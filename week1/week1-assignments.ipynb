{
 "cells": [
  {
   "cell_type": "markdown",
   "metadata": {},
   "source": [
    "# Table of Contents\n",
    "\n",
    "* [Part 1: Graph Theory and Social Networks                                                    ](#chapter1)\n",
    "* [Chapter 2: Graphs                                                    ](#chapter2)\n",
    " * [Exercise: Distance from Node                                                    ](#chapter3)\n",
    " * [Advanced Exercise: Distance Distribution                                                    ](#chapter4)\n",
    " * [Advanced Exercise: Paths Between Nodes                                                    ](#chapter5)\n",
    " * [Exercise: Connected Components                                                    ](#chapter6)\n",
    " * [Exercise 2.1: Pivotal                                                  ](#chapter7)\n",
    " * [Exercise 2.2: Gatekeeping                                                    ](#chapter8)\n",
    " * [Advanced Exercise 2.3: Diameter and Average Distance                                                    ](#chapter9)\n",
    "* [Chapter 3: Strong and Weak Ties                                                    ](#chapter10)\n",
    " * [Exercise: Triadic Closure                                                    ](#chapter11)\n",
    " * [Exercise: Clustering Coefficient                                                    ](#chapter12)\n",
    " * [Exercise: Bridges                                                    ](#chapter13)\n",
    " * [Exercise: Local Bridges                                                    ](#chapter14)\n",
    " * [Exercise: Strong Triadic Closure                                                    ](#chapter15)\n",
    " * [Exercise: Neighborhood Overlap                                                    ](#chapter16)\n",
    " * [Exercise 3.1                                                    ](#chapter17)\n",
    " * [Exercise 3.2                                                    ](#chapter18)\n",
    " * [Exercise 3.3                                                    ](#chapter19)\n",
    " * [Exercise 3.4                                                    ](#chapter20)\n",
    " * [Exercise 3.5                                                    ](#chapter21)\n",
    "* [Chapter 4: Network in their Surrounding Context                                                    ](#chapter22)\n",
    " * [Advanced Exercise: Homophily                                                    ](#chapter23)\n"
   ]
  },
  {
   "cell_type": "markdown",
   "metadata": {},
   "source": [
    "# Part 1: Graph Theory and Social Networks                                                     <a id=\"chapter1\"></a>\n",
    "\n",
    "This ipython document contains the tutorial exercises for the WebScience module based on Networks, Crowds, and Markets by Easly and Kleinberg 2010. Your task is to solve the Exercises by adding the answers into the designated code or text areas. Some exercises are marked as 'advanced exercises' and are not compulsory to be answered.\n"
   ]
  },
  {
   "cell_type": "code",
   "execution_count": 4,
   "metadata": {},
   "outputs": [],
   "source": [
    "# The following includes are needed to work with graphs and display solutions.\n",
    "import networkx as nx\n",
    "from IPython.display import display\n",
    "from collections import Counter\n",
    "from utils import *\n",
    "from graphs import *"
   ]
  },
  {
   "cell_type": "markdown",
   "metadata": {},
   "source": [
    "# Chapter 2: Graphs                                                     <a id=\"chapter2\"></a>\n"
   ]
  },
  {
   "cell_type": "markdown",
   "metadata": {},
   "source": [
    "## Exercise: Distance from Node                                                     <a id=\"chapter3\"></a>\n",
    "\n",
    "* (a) Complete the function ``bfs_distances`` that calculates for given node ``start`` the shortest distance of each node connected to ``start``."
   ]
  },
  {
   "cell_type": "code",
   "execution_count": 47,
   "metadata": {},
   "outputs": [
    {
     "data": {
      "image/svg+xml": [
       "<svg height=\"679pt\" viewBox=\"0.00 0.00 412.95 678.59\" width=\"413pt\" xmlns=\"http://www.w3.org/2000/svg\" xmlns:xlink=\"http://www.w3.org/1999/xlink\">\n",
       "<g class=\"graph\" id=\"graph0\" transform=\"scale(1 1) rotate(0) translate(200.397 351.2)\">\n",
       "<title>%3</title>\n",
       "<polygon fill=\"white\" points=\"-200.397,327.39 -200.397,-351.2 212.55,-351.2 212.55,327.39 -200.397,327.39\" stroke=\"none\"/>\n",
       "<!-- CASE -->\n",
       "<g class=\"node\" id=\"node1\"><title>CASE</title>\n",
       "<ellipse cx=\"-125.52\" cy=\"-306.57\" fill=\"none\" rx=\"34.5\" ry=\"18\" stroke=\"black\"/>\n",
       "<text font-family=\"Times New Roman,serif\" font-size=\"14.00\" text-anchor=\"middle\" x=\"-125.52\" y=\"-302.87\">CASE</text>\n",
       "</g>\n",
       "<!-- CARN -->\n",
       "<g class=\"node\" id=\"node2\"><title>CARN</title>\n",
       "<ellipse cx=\"11.567\" cy=\"-329.2\" fill=\"none\" rx=\"36.5\" ry=\"18\" stroke=\"black\"/>\n",
       "<text font-family=\"Times New Roman,serif\" font-size=\"14.00\" text-anchor=\"middle\" x=\"11.567\" y=\"-325.5\">CARN</text>\n",
       "</g>\n",
       "<!-- CASE&#45;&gt;CARN -->\n",
       "<g class=\"edge\" id=\"edge1\"><title>CASE-&gt;CARN</title>\n",
       "<path d=\"M-92.338,-312.05C-74.605,-314.97 -52.524,-318.62 -33.283,-321.79\" fill=\"none\" stroke=\"black\"/>\n",
       "<polygon fill=\"black\" points=\"-33.6625,-325.275 -23.226,-323.45 -32.5225,-318.368 -33.6625,-325.275\" stroke=\"black\"/>\n",
       "</g>\n",
       "<!-- LNC -->\n",
       "<g class=\"node\" id=\"node3\"><title>LNC</title>\n",
       "<ellipse cx=\"-167.8\" cy=\"-173.12\" fill=\"none\" rx=\"28.6953\" ry=\"18\" stroke=\"black\"/>\n",
       "<text font-family=\"Times New Roman,serif\" font-size=\"14.00\" text-anchor=\"middle\" x=\"-167.8\" y=\"-169.42\">LNC</text>\n",
       "</g>\n",
       "<!-- CASE&#45;&gt;LNC -->\n",
       "<g class=\"edge\" id=\"edge2\"><title>CASE-&gt;LNC</title>\n",
       "<path d=\"M-131.23,-288.57C-138.39,-265.96 -150.75,-226.94 -159.1,-200.59\" fill=\"none\" stroke=\"black\"/>\n",
       "<polygon fill=\"black\" points=\"-155.835,-199.307 -162.19,-190.83 -162.508,-201.42 -155.835,-199.307\" stroke=\"black\"/>\n",
       "</g>\n",
       "<!-- HARV -->\n",
       "<g class=\"node\" id=\"node4\"><title>HARV</title>\n",
       "<ellipse cx=\"93.461\" cy=\"-215.46\" fill=\"none\" rx=\"36.5\" ry=\"18\" stroke=\"black\"/>\n",
       "<text font-family=\"Times New Roman,serif\" font-size=\"14.00\" text-anchor=\"middle\" x=\"93.461\" y=\"-211.76\">HARV</text>\n",
       "</g>\n",
       "<!-- CARN&#45;&gt;HARV -->\n",
       "<g class=\"edge\" id=\"edge3\"><title>CARN-&gt;HARV</title>\n",
       "<path d=\"M24.005,-311.92C37.612,-293.03 59.558,-262.55 75.136,-240.91\" fill=\"none\" stroke=\"black\"/>\n",
       "<polygon fill=\"black\" points=\"78.168,-242.689 81.175,-232.53 72.489,-238.597 78.168,-242.689\" stroke=\"black\"/>\n",
       "</g>\n",
       "<!-- BBN -->\n",
       "<g class=\"node\" id=\"node5\"><title>BBN</title>\n",
       "<ellipse cx=\"51.612\" cy=\"-84.753\" fill=\"none\" rx=\"28.6953\" ry=\"18\" stroke=\"black\"/>\n",
       "<text font-family=\"Times New Roman,serif\" font-size=\"14.00\" text-anchor=\"middle\" x=\"51.612\" y=\"-81.053\">BBN</text>\n",
       "</g>\n",
       "<!-- BBN&#45;&gt;HARV -->\n",
       "<g class=\"edge\" id=\"edge4\"><title>BBN-&gt;HARV</title>\n",
       "<path d=\"M57.343,-102.65C64.378,-124.63 76.386,-162.13 84.61,-187.82\" fill=\"none\" stroke=\"black\"/>\n",
       "<polygon fill=\"black\" points=\"81.2819,-188.904 87.665,-197.36 87.9484,-186.769 81.2819,-188.904\" stroke=\"black\"/>\n",
       "</g>\n",
       "<!-- RAND -->\n",
       "<g class=\"node\" id=\"node6\"><title>RAND</title>\n",
       "<ellipse cx=\"48.75\" cy=\"51.377\" fill=\"none\" rx=\"36.5\" ry=\"18\" stroke=\"black\"/>\n",
       "<text font-family=\"Times New Roman,serif\" font-size=\"14.00\" text-anchor=\"middle\" x=\"48.75\" y=\"55.077\">RAND</text>\n",
       "</g>\n",
       "<!-- BBN&#45;&gt;RAND -->\n",
       "<g class=\"edge\" id=\"edge5\"><title>BBN-&gt;RAND</title>\n",
       "<path d=\"M51.232,-66.676C50.751,-43.792 49.916,-4.107 49.349,22.874\" fill=\"none\" stroke=\"black\"/>\n",
       "<polygon fill=\"black\" points=\"52.8409,23.3019 49.131,33.226 45.8424,23.1545 52.8409,23.3019\" stroke=\"black\"/>\n",
       "</g>\n",
       "<!-- MIT -->\n",
       "<g class=\"node\" id=\"node7\"><title>MIT</title>\n",
       "<ellipse cx=\"-85.888\" cy=\"-61.885\" fill=\"none\" rx=\"27.5\" ry=\"18\" stroke=\"black\"/>\n",
       "<text font-family=\"Times New Roman,serif\" font-size=\"14.00\" text-anchor=\"middle\" x=\"-85.888\" y=\"-58.185\">MIT</text>\n",
       "</g>\n",
       "<!-- BBN&#45;&gt;MIT -->\n",
       "<g class=\"edge\" id=\"edge6\"><title>BBN-&gt;MIT</title>\n",
       "<path d=\"M23.787,-80.125C2.8271,-76.639 -26.111,-71.827 -49,-68.02\" fill=\"none\" stroke=\"black\"/>\n",
       "<polygon fill=\"black\" points=\"-48.6012,-64.5383 -59.04,-66.35 -49.7498,-71.4435 -48.6012,-64.5383\" stroke=\"black\"/>\n",
       "</g>\n",
       "<!-- UCLA -->\n",
       "<g class=\"node\" id=\"node8\"><title>UCLA</title>\n",
       "<ellipse cx=\"116.35\" cy=\"167\" fill=\"none\" rx=\"35.194\" ry=\"18\" stroke=\"black\"/>\n",
       "<text font-family=\"Times New Roman,serif\" font-size=\"14.00\" text-anchor=\"middle\" x=\"116.35\" y=\"170.7\">UCLA</text>\n",
       "</g>\n",
       "<!-- RAND&#45;&gt;UCLA -->\n",
       "<g class=\"edge\" id=\"edge7\"><title>RAND-&gt;UCLA</title>\n",
       "<path d=\"M58.871,68.687C70.022,87.759 88.085,118.65 100.99,140.71\" fill=\"none\" stroke=\"black\"/>\n",
       "<polygon fill=\"black\" points=\"104.143,139.169 106.16,149.57 98.097,142.697 104.143,139.169\" stroke=\"black\"/>\n",
       "</g>\n",
       "<!-- SDC -->\n",
       "<g class=\"node\" id=\"node9\"><title>SDC</title>\n",
       "<ellipse cx=\"-129.6\" cy=\"114.33\" fill=\"none\" rx=\"28.6953\" ry=\"18\" stroke=\"black\"/>\n",
       "<text font-family=\"Times New Roman,serif\" font-size=\"14.00\" text-anchor=\"middle\" x=\"-129.6\" y=\"118.03\">SDC</text>\n",
       "</g>\n",
       "<!-- RAND&#45;&gt;SDC -->\n",
       "<g class=\"edge\" id=\"edge8\"><title>RAND-&gt;SDC</title>\n",
       "<path d=\"M18.898,61.915C-12.465,72.985 -61.747,90.381 -94.841,102.06\" fill=\"none\" stroke=\"black\"/>\n",
       "<polygon fill=\"black\" points=\"-93.9552,105.459 -104.55,105.49 -96.287,98.8588 -93.9552,105.459\" stroke=\"black\"/>\n",
       "</g>\n",
       "<!-- MIT&#45;&gt;LNC -->\n",
       "<g class=\"edge\" id=\"edge9\"><title>MIT-&gt;LNC</title>\n",
       "<path d=\"M-97.975,-78.298C-111.59,-96.783 -133.86,-127.02 -149.58,-148.37\" fill=\"none\" stroke=\"black\"/>\n",
       "<polygon fill=\"black\" points=\"-152.559,-146.512 -155.67,-156.64 -146.922,-150.663 -152.559,-146.512\" stroke=\"black\"/>\n",
       "</g>\n",
       "<!-- UCSB -->\n",
       "<g class=\"node\" id=\"node10\"><title>UCSB</title>\n",
       "<ellipse cx=\"174.05\" cy=\"244.39\" fill=\"none\" rx=\"34.5\" ry=\"18\" stroke=\"black\"/>\n",
       "<text font-family=\"Times New Roman,serif\" font-size=\"14.00\" text-anchor=\"middle\" x=\"174.05\" y=\"248.09\">UCSB</text>\n",
       "</g>\n",
       "<!-- UCLA&#45;&gt;UCSB -->\n",
       "<g class=\"edge\" id=\"edge10\"><title>UCLA-&gt;UCSB</title>\n",
       "<path d=\"M129.16,184.17C136.83,194.46 146.72,207.73 155.27,219.2\" fill=\"none\" stroke=\"black\"/>\n",
       "<polygon fill=\"black\" points=\"158.309,217.421 161.48,227.53 152.697,221.605 158.309,217.421\" stroke=\"black\"/>\n",
       "</g>\n",
       "<!-- STAN -->\n",
       "<g class=\"node\" id=\"node11\"><title>STAN</title>\n",
       "<ellipse cx=\"50.364\" cy=\"305.39\" fill=\"none\" rx=\"34.5\" ry=\"18\" stroke=\"black\"/>\n",
       "<text font-family=\"Times New Roman,serif\" font-size=\"14.00\" text-anchor=\"middle\" x=\"50.364\" y=\"309.09\">STAN</text>\n",
       "</g>\n",
       "<!-- UCLA&#45;&gt;STAN -->\n",
       "<g class=\"edge\" id=\"edge11\"><title>UCLA-&gt;STAN</title>\n",
       "<path d=\"M108,184.52C96.703,208.21 76.465,250.65 63.227,278.41\" fill=\"none\" stroke=\"black\"/>\n",
       "<polygon fill=\"black\" points=\"66.3267,280.041 58.862,287.56 60.0087,277.027 66.3267,280.041\" stroke=\"black\"/>\n",
       "</g>\n",
       "<!-- SRI -->\n",
       "<g class=\"node\" id=\"node12\"><title>SRI</title>\n",
       "<ellipse cx=\"19.907\" cy=\"207.97\" fill=\"none\" rx=\"27\" ry=\"18\" stroke=\"black\"/>\n",
       "<text font-family=\"Times New Roman,serif\" font-size=\"14.00\" text-anchor=\"middle\" x=\"19.907\" y=\"211.67\">SRI</text>\n",
       "</g>\n",
       "<!-- SRI&#45;&gt;UCLA -->\n",
       "<g class=\"edge\" id=\"edge12\"><title>SRI-&gt;UCLA</title>\n",
       "<path d=\"M42.763,198.26C53.86,193.55 67.463,187.77 79.942,182.47\" fill=\"none\" stroke=\"black\"/>\n",
       "<polygon fill=\"black\" points=\"78.6329,179.223 89.205,178.53 81.3728,185.665 78.6329,179.223\" stroke=\"black\"/>\n",
       "</g>\n",
       "<!-- SRI&#45;&gt;UCSB -->\n",
       "<g class=\"edge\" id=\"edge13\"><title>SRI-&gt;UCSB</title>\n",
       "<path d=\"M45.36,213.99C69.045,219.58 104.77,228.02 132.57,234.59\" fill=\"none\" stroke=\"black\"/>\n",
       "<polygon fill=\"black\" points=\"133.494,231.212 142.42,236.92 131.883,238.024 133.494,231.212\" stroke=\"black\"/>\n",
       "</g>\n",
       "<!-- SRI&#45;&gt;STAN -->\n",
       "<g class=\"edge\" id=\"edge14\"><title>SRI-&gt;STAN</title>\n",
       "<path d=\"M25.493,225.84C30.015,240.31 36.465,260.93 41.663,277.56\" fill=\"none\" stroke=\"black\"/>\n",
       "<polygon fill=\"black\" points=\"45.0646,276.711 44.71,287.3 38.3839,278.801 45.0646,276.711\" stroke=\"black\"/>\n",
       "</g>\n",
       "<!-- UTAH -->\n",
       "<g class=\"node\" id=\"node13\"><title>UTAH</title>\n",
       "<ellipse cx=\"-57.248\" cy=\"80.534\" fill=\"none\" rx=\"35.9954\" ry=\"18\" stroke=\"black\"/>\n",
       "<text font-family=\"Times New Roman,serif\" font-size=\"14.00\" text-anchor=\"middle\" x=\"-57.248\" y=\"84.234\">UTAH</text>\n",
       "</g>\n",
       "<!-- SRI&#45;&gt;UTAH -->\n",
       "<g class=\"edge\" id=\"edge15\"><title>SRI-&gt;UTAH</title>\n",
       "<path d=\"M9.661,191.05C-3.4089,169.46 -26.148,131.9 -41.446,106.64\" fill=\"none\" stroke=\"black\"/>\n",
       "<polygon fill=\"black\" points=\"-44.5302,108.304 -46.713,97.936 -38.5414,104.68 -44.5302,108.304\" stroke=\"black\"/>\n",
       "</g>\n",
       "<!-- UTAH&#45;&gt;MIT -->\n",
       "<g class=\"edge\" id=\"edge16\"><title>UTAH-&gt;MIT</title>\n",
       "<path d=\"M-60.876,62.496C-65.76,38.205 -74.502,-5.2662 -80.249,-33.842\" fill=\"none\" stroke=\"black\"/>\n",
       "<polygon fill=\"black\" points=\"-83.7503,-33.5003 -82.29,-43.994 -76.8876,-34.88 -83.7503,-33.5003\" stroke=\"black\"/>\n",
       "</g>\n",
       "<!-- UTAH&#45;&gt;SDC -->\n",
       "<g class=\"edge\" id=\"edge17\"><title>UTAH-&gt;SDC</title>\n",
       "<path d=\"M-83.779,92.927C-88.185,94.985 -92.797,97.14 -97.326,99.256\" fill=\"none\" stroke=\"black\"/>\n",
       "<polygon fill=\"black\" points=\"-95.8781,102.443 -106.42,103.5 -98.8384,96.0994 -95.8781,102.443\" stroke=\"black\"/>\n",
       "</g>\n",
       "</g>\n",
       "</svg>"
      ],
      "text/plain": [
       "<IPython.core.display.SVG object>"
      ]
     },
     "metadata": {},
     "output_type": "display_data"
    },
    {
     "data": {
      "text/html": [
       "<h2 style='color: green;'>Correct</h2>"
      ],
      "text/plain": [
       "<IPython.core.display.HTML object>"
      ]
     },
     "execution_count": 47,
     "metadata": {},
     "output_type": "execute_result"
    }
   ],
   "source": [
    "def bfs_distances(G, start):\n",
    "    ''' \n",
    "    breadth first search that calculates the distances from start node \n",
    "    The function returns a dictionary mapping node names to distances. \n",
    "    '''\n",
    "    visited, queue = dict(), [(start,0)]\n",
    "    # BEGIN SOLUTION\n",
    "    while len(queue) > 0:\n",
    "        curr_node, curr_val = queue.pop(0)\n",
    "        for neighbour in G[curr_node]:\n",
    "            if neighbour in visited:\n",
    "                pass\n",
    "            else:\n",
    "                visited[neighbour] = curr_val + 1\n",
    "                queue.append([neighbour, curr_val + 1])\n",
    "    # END SOLUTION\n",
    "#     print visited\n",
    "    return visited\n",
    "\n",
    "# Check\n",
    "display(draw(F23))\n",
    "visits = bfs_distances(F23, 'BBN')\n",
    "answer('CASE' in visits and visits['CASE'] == 3)"
   ]
  },
  {
   "cell_type": "markdown",
   "metadata": {},
   "source": [
    "## Advanced Exercise: Distance Distribution                                                     <a id=\"chapter4\"></a>\n",
    "Let H be the distance between two randomly chosen connected nodes in a graph. \n",
    "\n",
    "* (a) Complete the function ``distanceDistribution`` to compute the smallest c such that P(H>c)<0.05 holds. \n",
    "* (b) What problems will you encounter if you want to use your proposed algorithm on a really large graph such as Facebook."
   ]
  },
  {
   "cell_type": "code",
   "execution_count": 6,
   "metadata": {},
   "outputs": [
    {
     "ename": "NameError",
     "evalue": "global name 'l' is not defined",
     "output_type": "error",
     "traceback": [
      "\u001b[1;31m\u001b[0m",
      "\u001b[1;31mNameError\u001b[0mTraceback (most recent call last)",
      "\u001b[1;32m<ipython-input-6-1e831842f2b8>\u001b[0m in \u001b[0;36m<module>\u001b[1;34m()\u001b[0m\n\u001b[0;32m      9\u001b[0m \u001b[1;33m\u001b[0m\u001b[0m\n\u001b[0;32m     10\u001b[0m \u001b[1;31m# Check\u001b[0m\u001b[1;33m\u001b[0m\u001b[1;33m\u001b[0m\u001b[0m\n\u001b[1;32m---> 11\u001b[1;33m \u001b[0mdist\u001b[0m \u001b[1;33m=\u001b[0m \u001b[0mdistanceDistribution\u001b[0m\u001b[1;33m(\u001b[0m\u001b[0mF23\u001b[0m\u001b[1;33m)\u001b[0m\u001b[1;33m\u001b[0m\u001b[0m\n\u001b[0m\u001b[0;32m     12\u001b[0m \u001b[1;32mprint\u001b[0m \u001b[0mdist\u001b[0m\u001b[1;33m\u001b[0m\u001b[0m\n\u001b[0;32m     13\u001b[0m \u001b[0manswer\u001b[0m\u001b[1;33m(\u001b[0m\u001b[0mdist\u001b[0m \u001b[1;33m==\u001b[0m \u001b[1;36m5\u001b[0m\u001b[1;33m)\u001b[0m\u001b[1;33m\u001b[0m\u001b[0m\n",
      "\u001b[1;32m<ipython-input-6-1e831842f2b8>\u001b[0m in \u001b[0;36mdistanceDistribution\u001b[1;34m(G)\u001b[0m\n\u001b[0;32m      6\u001b[0m     \u001b[1;31m# BEGIN SOLUTION\u001b[0m\u001b[1;33m\u001b[0m\u001b[1;33m\u001b[0m\u001b[0m\n\u001b[0;32m      7\u001b[0m     \u001b[1;31m# END SOLUTION\u001b[0m\u001b[1;33m\u001b[0m\u001b[1;33m\u001b[0m\u001b[0m\n\u001b[1;32m----> 8\u001b[1;33m     \u001b[1;32mreturn\u001b[0m \u001b[0ml\u001b[0m\u001b[1;33m[\u001b[0m\u001b[1;36m0\u001b[0m\u001b[1;33m]\u001b[0m\u001b[1;33m[\u001b[0m\u001b[1;36m0\u001b[0m\u001b[1;33m]\u001b[0m\u001b[1;33m+\u001b[0m\u001b[1;36m1\u001b[0m\u001b[1;33m\u001b[0m\u001b[0m\n\u001b[0m\u001b[0;32m      9\u001b[0m \u001b[1;33m\u001b[0m\u001b[0m\n\u001b[0;32m     10\u001b[0m \u001b[1;31m# Check\u001b[0m\u001b[1;33m\u001b[0m\u001b[1;33m\u001b[0m\u001b[0m\n",
      "\u001b[1;31mNameError\u001b[0m: global name 'l' is not defined"
     ]
    }
   ],
   "source": [
    "def distanceDistribution(G):\n",
    "    '''\n",
    "    Your task\n",
    "    '''\n",
    "    c = 0\n",
    "    # BEGIN SOLUTION\n",
    "    # END SOLUTION\n",
    "    return l[0][0]+1\n",
    "\n",
    "# Check\n",
    "dist = distanceDistribution(F23)\n",
    "print dist\n",
    "answer(dist == 5)"
   ]
  },
  {
   "cell_type": "markdown",
   "metadata": {},
   "source": [
    "** Answer (b) **: *Add your answer here*"
   ]
  },
  {
   "cell_type": "markdown",
   "metadata": {},
   "source": [
    "## Advanced Exercise: Paths Between Nodes                                                     <a id=\"chapter5\"></a>\n",
    "\n",
    "Complete the function ``bfs_paths`` that returns all possible paths in graph 'G' between node 'start' and node 'end'."
   ]
  },
  {
   "cell_type": "code",
   "execution_count": null,
   "metadata": {},
   "outputs": [],
   "source": [
    "def bfs_paths(G, start, end):\n",
    "    '''\n",
    "    calculates all paths from start to end\n",
    "    '''\n",
    "    paths = []\n",
    "    # BEGIN SOLUTION\n",
    "    \n",
    "    # END SOLUTION\n",
    "    return paths\n",
    "\n",
    "# Check\n",
    "''' get all paths from 'CARN' to 'UCSB' '''\n",
    "display(draw(F23))\n",
    "paths = bfs_paths(F23, 'CARN', 'UCSB')\n",
    "print len(paths)\n",
    "answer(len(paths) == 24)"
   ]
  },
  {
   "cell_type": "markdown",
   "metadata": {},
   "source": [
    "## Exercise: Connected Components                                                     <a id=\"chapter6\"></a>\n",
    "\n",
    "* Complete the function ``connected_components`` that returns a list of connected components, which are presented by the lists of its nodes. \n"
   ]
  },
  {
   "cell_type": "code",
   "execution_count": 37,
   "metadata": {},
   "outputs": [
    {
     "data": {
      "image/svg+xml": [
       "<svg height=\"679pt\" viewBox=\"0.00 0.00 412.95 678.59\" width=\"413pt\" xmlns=\"http://www.w3.org/2000/svg\" xmlns:xlink=\"http://www.w3.org/1999/xlink\">\n",
       "<g class=\"graph\" id=\"graph0\" transform=\"scale(1 1) rotate(0) translate(200.397 351.2)\">\n",
       "<title>%3</title>\n",
       "<polygon fill=\"white\" points=\"-200.397,327.39 -200.397,-351.2 212.55,-351.2 212.55,327.39 -200.397,327.39\" stroke=\"none\"/>\n",
       "<!-- CASE -->\n",
       "<g class=\"node\" id=\"node1\"><title>CASE</title>\n",
       "<ellipse cx=\"-125.52\" cy=\"-306.57\" fill=\"none\" rx=\"34.5\" ry=\"18\" stroke=\"black\"/>\n",
       "<text font-family=\"Times New Roman,serif\" font-size=\"14.00\" text-anchor=\"middle\" x=\"-125.52\" y=\"-302.87\">CASE</text>\n",
       "</g>\n",
       "<!-- CARN -->\n",
       "<g class=\"node\" id=\"node2\"><title>CARN</title>\n",
       "<ellipse cx=\"11.567\" cy=\"-329.2\" fill=\"none\" rx=\"36.5\" ry=\"18\" stroke=\"black\"/>\n",
       "<text font-family=\"Times New Roman,serif\" font-size=\"14.00\" text-anchor=\"middle\" x=\"11.567\" y=\"-325.5\">CARN</text>\n",
       "</g>\n",
       "<!-- CASE&#45;&gt;CARN -->\n",
       "<g class=\"edge\" id=\"edge1\"><title>CASE-&gt;CARN</title>\n",
       "<path d=\"M-92.338,-312.05C-74.605,-314.97 -52.524,-318.62 -33.283,-321.79\" fill=\"none\" stroke=\"black\"/>\n",
       "<polygon fill=\"black\" points=\"-33.6625,-325.275 -23.226,-323.45 -32.5225,-318.368 -33.6625,-325.275\" stroke=\"black\"/>\n",
       "</g>\n",
       "<!-- LNC -->\n",
       "<g class=\"node\" id=\"node3\"><title>LNC</title>\n",
       "<ellipse cx=\"-167.8\" cy=\"-173.12\" fill=\"none\" rx=\"28.6953\" ry=\"18\" stroke=\"black\"/>\n",
       "<text font-family=\"Times New Roman,serif\" font-size=\"14.00\" text-anchor=\"middle\" x=\"-167.8\" y=\"-169.42\">LNC</text>\n",
       "</g>\n",
       "<!-- CASE&#45;&gt;LNC -->\n",
       "<g class=\"edge\" id=\"edge2\"><title>CASE-&gt;LNC</title>\n",
       "<path d=\"M-131.23,-288.57C-138.39,-265.96 -150.75,-226.94 -159.1,-200.59\" fill=\"none\" stroke=\"black\"/>\n",
       "<polygon fill=\"black\" points=\"-155.835,-199.307 -162.19,-190.83 -162.508,-201.42 -155.835,-199.307\" stroke=\"black\"/>\n",
       "</g>\n",
       "<!-- HARV -->\n",
       "<g class=\"node\" id=\"node4\"><title>HARV</title>\n",
       "<ellipse cx=\"93.461\" cy=\"-215.46\" fill=\"none\" rx=\"36.5\" ry=\"18\" stroke=\"black\"/>\n",
       "<text font-family=\"Times New Roman,serif\" font-size=\"14.00\" text-anchor=\"middle\" x=\"93.461\" y=\"-211.76\">HARV</text>\n",
       "</g>\n",
       "<!-- CARN&#45;&gt;HARV -->\n",
       "<g class=\"edge\" id=\"edge3\"><title>CARN-&gt;HARV</title>\n",
       "<path d=\"M24.005,-311.92C37.612,-293.03 59.558,-262.55 75.136,-240.91\" fill=\"none\" stroke=\"black\"/>\n",
       "<polygon fill=\"black\" points=\"78.168,-242.689 81.175,-232.53 72.489,-238.597 78.168,-242.689\" stroke=\"black\"/>\n",
       "</g>\n",
       "<!-- BBN -->\n",
       "<g class=\"node\" id=\"node5\"><title>BBN</title>\n",
       "<ellipse cx=\"51.612\" cy=\"-84.753\" fill=\"none\" rx=\"28.6953\" ry=\"18\" stroke=\"black\"/>\n",
       "<text font-family=\"Times New Roman,serif\" font-size=\"14.00\" text-anchor=\"middle\" x=\"51.612\" y=\"-81.053\">BBN</text>\n",
       "</g>\n",
       "<!-- BBN&#45;&gt;HARV -->\n",
       "<g class=\"edge\" id=\"edge4\"><title>BBN-&gt;HARV</title>\n",
       "<path d=\"M57.343,-102.65C64.378,-124.63 76.386,-162.13 84.61,-187.82\" fill=\"none\" stroke=\"black\"/>\n",
       "<polygon fill=\"black\" points=\"81.2819,-188.904 87.665,-197.36 87.9484,-186.769 81.2819,-188.904\" stroke=\"black\"/>\n",
       "</g>\n",
       "<!-- RAND -->\n",
       "<g class=\"node\" id=\"node6\"><title>RAND</title>\n",
       "<ellipse cx=\"48.75\" cy=\"51.377\" fill=\"none\" rx=\"36.5\" ry=\"18\" stroke=\"black\"/>\n",
       "<text font-family=\"Times New Roman,serif\" font-size=\"14.00\" text-anchor=\"middle\" x=\"48.75\" y=\"55.077\">RAND</text>\n",
       "</g>\n",
       "<!-- BBN&#45;&gt;RAND -->\n",
       "<g class=\"edge\" id=\"edge5\"><title>BBN-&gt;RAND</title>\n",
       "<path d=\"M51.232,-66.676C50.751,-43.792 49.916,-4.107 49.349,22.874\" fill=\"none\" stroke=\"black\"/>\n",
       "<polygon fill=\"black\" points=\"52.8409,23.3019 49.131,33.226 45.8424,23.1545 52.8409,23.3019\" stroke=\"black\"/>\n",
       "</g>\n",
       "<!-- MIT -->\n",
       "<g class=\"node\" id=\"node7\"><title>MIT</title>\n",
       "<ellipse cx=\"-85.888\" cy=\"-61.885\" fill=\"none\" rx=\"27.5\" ry=\"18\" stroke=\"black\"/>\n",
       "<text font-family=\"Times New Roman,serif\" font-size=\"14.00\" text-anchor=\"middle\" x=\"-85.888\" y=\"-58.185\">MIT</text>\n",
       "</g>\n",
       "<!-- BBN&#45;&gt;MIT -->\n",
       "<g class=\"edge\" id=\"edge6\"><title>BBN-&gt;MIT</title>\n",
       "<path d=\"M23.787,-80.125C2.8271,-76.639 -26.111,-71.827 -49,-68.02\" fill=\"none\" stroke=\"black\"/>\n",
       "<polygon fill=\"black\" points=\"-48.6012,-64.5383 -59.04,-66.35 -49.7498,-71.4435 -48.6012,-64.5383\" stroke=\"black\"/>\n",
       "</g>\n",
       "<!-- UCLA -->\n",
       "<g class=\"node\" id=\"node8\"><title>UCLA</title>\n",
       "<ellipse cx=\"116.35\" cy=\"167\" fill=\"none\" rx=\"35.194\" ry=\"18\" stroke=\"black\"/>\n",
       "<text font-family=\"Times New Roman,serif\" font-size=\"14.00\" text-anchor=\"middle\" x=\"116.35\" y=\"170.7\">UCLA</text>\n",
       "</g>\n",
       "<!-- RAND&#45;&gt;UCLA -->\n",
       "<g class=\"edge\" id=\"edge7\"><title>RAND-&gt;UCLA</title>\n",
       "<path d=\"M58.871,68.687C70.022,87.759 88.085,118.65 100.99,140.71\" fill=\"none\" stroke=\"black\"/>\n",
       "<polygon fill=\"black\" points=\"104.143,139.169 106.16,149.57 98.097,142.697 104.143,139.169\" stroke=\"black\"/>\n",
       "</g>\n",
       "<!-- SDC -->\n",
       "<g class=\"node\" id=\"node9\"><title>SDC</title>\n",
       "<ellipse cx=\"-129.6\" cy=\"114.33\" fill=\"none\" rx=\"28.6953\" ry=\"18\" stroke=\"black\"/>\n",
       "<text font-family=\"Times New Roman,serif\" font-size=\"14.00\" text-anchor=\"middle\" x=\"-129.6\" y=\"118.03\">SDC</text>\n",
       "</g>\n",
       "<!-- RAND&#45;&gt;SDC -->\n",
       "<g class=\"edge\" id=\"edge8\"><title>RAND-&gt;SDC</title>\n",
       "<path d=\"M18.898,61.915C-12.465,72.985 -61.747,90.381 -94.841,102.06\" fill=\"none\" stroke=\"black\"/>\n",
       "<polygon fill=\"black\" points=\"-93.9552,105.459 -104.55,105.49 -96.287,98.8588 -93.9552,105.459\" stroke=\"black\"/>\n",
       "</g>\n",
       "<!-- MIT&#45;&gt;LNC -->\n",
       "<g class=\"edge\" id=\"edge9\"><title>MIT-&gt;LNC</title>\n",
       "<path d=\"M-97.975,-78.298C-111.59,-96.783 -133.86,-127.02 -149.58,-148.37\" fill=\"none\" stroke=\"black\"/>\n",
       "<polygon fill=\"black\" points=\"-152.559,-146.512 -155.67,-156.64 -146.922,-150.663 -152.559,-146.512\" stroke=\"black\"/>\n",
       "</g>\n",
       "<!-- UCSB -->\n",
       "<g class=\"node\" id=\"node10\"><title>UCSB</title>\n",
       "<ellipse cx=\"174.05\" cy=\"244.39\" fill=\"none\" rx=\"34.5\" ry=\"18\" stroke=\"black\"/>\n",
       "<text font-family=\"Times New Roman,serif\" font-size=\"14.00\" text-anchor=\"middle\" x=\"174.05\" y=\"248.09\">UCSB</text>\n",
       "</g>\n",
       "<!-- UCLA&#45;&gt;UCSB -->\n",
       "<g class=\"edge\" id=\"edge10\"><title>UCLA-&gt;UCSB</title>\n",
       "<path d=\"M129.16,184.17C136.83,194.46 146.72,207.73 155.27,219.2\" fill=\"none\" stroke=\"black\"/>\n",
       "<polygon fill=\"black\" points=\"158.309,217.421 161.48,227.53 152.697,221.605 158.309,217.421\" stroke=\"black\"/>\n",
       "</g>\n",
       "<!-- STAN -->\n",
       "<g class=\"node\" id=\"node11\"><title>STAN</title>\n",
       "<ellipse cx=\"50.364\" cy=\"305.39\" fill=\"none\" rx=\"34.5\" ry=\"18\" stroke=\"black\"/>\n",
       "<text font-family=\"Times New Roman,serif\" font-size=\"14.00\" text-anchor=\"middle\" x=\"50.364\" y=\"309.09\">STAN</text>\n",
       "</g>\n",
       "<!-- UCLA&#45;&gt;STAN -->\n",
       "<g class=\"edge\" id=\"edge11\"><title>UCLA-&gt;STAN</title>\n",
       "<path d=\"M108,184.52C96.703,208.21 76.465,250.65 63.227,278.41\" fill=\"none\" stroke=\"black\"/>\n",
       "<polygon fill=\"black\" points=\"66.3267,280.041 58.862,287.56 60.0087,277.027 66.3267,280.041\" stroke=\"black\"/>\n",
       "</g>\n",
       "<!-- SRI -->\n",
       "<g class=\"node\" id=\"node12\"><title>SRI</title>\n",
       "<ellipse cx=\"19.907\" cy=\"207.97\" fill=\"none\" rx=\"27\" ry=\"18\" stroke=\"black\"/>\n",
       "<text font-family=\"Times New Roman,serif\" font-size=\"14.00\" text-anchor=\"middle\" x=\"19.907\" y=\"211.67\">SRI</text>\n",
       "</g>\n",
       "<!-- SRI&#45;&gt;UCLA -->\n",
       "<g class=\"edge\" id=\"edge12\"><title>SRI-&gt;UCLA</title>\n",
       "<path d=\"M42.763,198.26C53.86,193.55 67.463,187.77 79.942,182.47\" fill=\"none\" stroke=\"black\"/>\n",
       "<polygon fill=\"black\" points=\"78.6329,179.223 89.205,178.53 81.3728,185.665 78.6329,179.223\" stroke=\"black\"/>\n",
       "</g>\n",
       "<!-- SRI&#45;&gt;UCSB -->\n",
       "<g class=\"edge\" id=\"edge13\"><title>SRI-&gt;UCSB</title>\n",
       "<path d=\"M45.36,213.99C69.045,219.58 104.77,228.02 132.57,234.59\" fill=\"none\" stroke=\"black\"/>\n",
       "<polygon fill=\"black\" points=\"133.494,231.212 142.42,236.92 131.883,238.024 133.494,231.212\" stroke=\"black\"/>\n",
       "</g>\n",
       "<!-- SRI&#45;&gt;STAN -->\n",
       "<g class=\"edge\" id=\"edge14\"><title>SRI-&gt;STAN</title>\n",
       "<path d=\"M25.493,225.84C30.015,240.31 36.465,260.93 41.663,277.56\" fill=\"none\" stroke=\"black\"/>\n",
       "<polygon fill=\"black\" points=\"45.0646,276.711 44.71,287.3 38.3839,278.801 45.0646,276.711\" stroke=\"black\"/>\n",
       "</g>\n",
       "<!-- UTAH -->\n",
       "<g class=\"node\" id=\"node13\"><title>UTAH</title>\n",
       "<ellipse cx=\"-57.248\" cy=\"80.534\" fill=\"none\" rx=\"35.9954\" ry=\"18\" stroke=\"black\"/>\n",
       "<text font-family=\"Times New Roman,serif\" font-size=\"14.00\" text-anchor=\"middle\" x=\"-57.248\" y=\"84.234\">UTAH</text>\n",
       "</g>\n",
       "<!-- SRI&#45;&gt;UTAH -->\n",
       "<g class=\"edge\" id=\"edge15\"><title>SRI-&gt;UTAH</title>\n",
       "<path d=\"M9.661,191.05C-3.4089,169.46 -26.148,131.9 -41.446,106.64\" fill=\"none\" stroke=\"black\"/>\n",
       "<polygon fill=\"black\" points=\"-44.5302,108.304 -46.713,97.936 -38.5414,104.68 -44.5302,108.304\" stroke=\"black\"/>\n",
       "</g>\n",
       "<!-- UTAH&#45;&gt;MIT -->\n",
       "<g class=\"edge\" id=\"edge16\"><title>UTAH-&gt;MIT</title>\n",
       "<path d=\"M-60.876,62.496C-65.76,38.205 -74.502,-5.2662 -80.249,-33.842\" fill=\"none\" stroke=\"black\"/>\n",
       "<polygon fill=\"black\" points=\"-83.7503,-33.5003 -82.29,-43.994 -76.8876,-34.88 -83.7503,-33.5003\" stroke=\"black\"/>\n",
       "</g>\n",
       "<!-- UTAH&#45;&gt;SDC -->\n",
       "<g class=\"edge\" id=\"edge17\"><title>UTAH-&gt;SDC</title>\n",
       "<path d=\"M-83.779,92.927C-88.185,94.985 -92.797,97.14 -97.326,99.256\" fill=\"none\" stroke=\"black\"/>\n",
       "<polygon fill=\"black\" points=\"-95.8781,102.443 -106.42,103.5 -98.8384,96.0994 -95.8781,102.443\" stroke=\"black\"/>\n",
       "</g>\n",
       "</g>\n",
       "</svg>"
      ],
      "text/plain": [
       "<IPython.core.display.SVG object>"
      ]
     },
     "metadata": {},
     "output_type": "display_data"
    },
    {
     "name": "stdout",
     "output_type": "stream",
     "text": [
      "set(['BBN', 'RAND', 'SRI', 'UTAH', 'UCLA', 'UCSB', 'CARN', 'SDC', 'STAN', 'HARV', 'MIT', 'LNC'])\n",
      "set(['BBN', 'RAND', 'SRI', 'UTAH', 'UCLA', 'UCSB', 'SDC', 'STAN', 'HARV', 'MIT', 'LNC'])\n",
      "set(['BBN', 'RAND', 'SRI', 'UTAH', 'UCLA', 'UCSB', 'SDC', 'STAN', 'HARV', 'MIT'])\n",
      "set(['BBN', 'RAND', 'SRI', 'UTAH', 'UCLA', 'UCSB', 'SDC', 'STAN', 'HARV', 'MIT'])\n",
      "set(['BBN', 'RAND', 'SRI', 'UTAH', 'UCLA', 'UCSB', 'SDC', 'STAN', 'MIT'])\n",
      "set(['BBN', 'RAND', 'SRI', 'UTAH', 'UCLA', 'UCSB', 'SDC', 'STAN'])\n",
      "set(['RAND', 'SRI', 'UTAH', 'UCLA', 'UCSB', 'SDC', 'STAN'])\n",
      "set(['RAND', 'SRI', 'UCLA', 'UCSB', 'SDC', 'STAN'])\n",
      "set(['SRI', 'UCLA', 'UCSB', 'SDC', 'STAN'])\n",
      "set(['UCLA', 'UCSB', 'SDC', 'STAN'])\n",
      "set(['UCLA', 'UCSB', 'STAN'])\n",
      "set(['UCSB', 'STAN'])\n",
      "set(['UCSB'])\n",
      "components  [['CARN', 'LNC', 'CASE', 'HARV', 'MIT', 'BBN', 'UTAH', 'RAND', 'SRI', 'SDC', 'UCLA', 'STAN', 'UCSB']]\n"
     ]
    },
    {
     "data": {
      "text/html": [
       "<h2 style='color: red;'>Incorrect</h2>"
      ],
      "text/plain": [
       "<IPython.core.display.HTML object>"
      ]
     },
     "execution_count": 37,
     "metadata": {},
     "output_type": "execute_result"
    }
   ],
   "source": [
    "def connected_components(G):\n",
    "    ''' \n",
    "    outputs an list of connected components (represented by a list of component members)\n",
    "    '''\n",
    "    components = []\n",
    "    node_set = set(G.nodes())\n",
    "    while len(node_set) > 0:\n",
    "        start = node_set.pop()\n",
    "        # bfs\n",
    "        visited, queue = [], [start]\n",
    "        # BEGIN SOLUTION\n",
    "        while len(queue) > 0:\n",
    "            curr_node = queue.pop(0)\n",
    "            for neighbour in G[curr_node]:\n",
    "                if neighbour in visited:\n",
    "                    pass\n",
    "                else:\n",
    "                    visited.append(neighbour)\n",
    "                    queue.append(neighbour)\n",
    "                    print(node_set)\n",
    "                    node_set.discard(neighbour)\n",
    "#         print visited\n",
    "        components.append(visited)\n",
    "    print \"components \", components\n",
    "    return components\n",
    "\n",
    "# Check\n",
    "display(draw(F23))\n",
    "s= connected_components(F23)\n",
    "answer(s == [['BBN', 'CARN', 'CASE', 'HARV', 'LNC', 'MIT', 'RAND', 'SDC', 'SRI', 'STAN', 'UCLA', 'UCSB', 'UTAH']])"
   ]
  },
  {
   "cell_type": "markdown",
   "metadata": {},
   "source": [
    "## Exercise 2.1: Pivotal                                                   <a id=\"chapter7\"></a>\n",
    "\n",
    "* Give an example of a graph in which every node is pivotal for at least one pair of nodes. Explain your answer."
   ]
  },
  {
   "cell_type": "code",
   "execution_count": 21,
   "metadata": {},
   "outputs": [
    {
     "data": {
      "image/svg+xml": [
       "<svg height=\"152pt\" viewBox=\"0.00 0.00 167.96 152.34\" width=\"168pt\" xmlns=\"http://www.w3.org/2000/svg\" xmlns:xlink=\"http://www.w3.org/1999/xlink\">\n",
       "<g class=\"graph\" id=\"graph0\" transform=\"scale(1 1) rotate(0) translate(79.889 77.674)\">\n",
       "<title>A</title>\n",
       "<polygon fill=\"white\" points=\"-79.889,74.668 -79.889,-77.674 88.068,-77.674 88.068,74.668 -79.889,74.668\" stroke=\"none\"/>\n",
       "<!-- a -->\n",
       "<g class=\"node\" id=\"node1\"><title>a</title>\n",
       "<ellipse cx=\"-43.396\" cy=\"37.405\" fill=\"none\" rx=\"27\" ry=\"18\" stroke=\"black\"/>\n",
       "<text font-family=\"Times New Roman,serif\" font-size=\"14.00\" text-anchor=\"middle\" x=\"-43.396\" y=\"41.105\">a</text>\n",
       "</g>\n",
       "<!-- b -->\n",
       "<g class=\"node\" id=\"node2\"><title>b</title>\n",
       "<ellipse cx=\"-48.889\" cy=\"-29.613\" fill=\"none\" rx=\"27\" ry=\"18\" stroke=\"black\"/>\n",
       "<text font-family=\"Times New Roman,serif\" font-size=\"14.00\" text-anchor=\"middle\" x=\"-48.889\" y=\"-25.913\">b</text>\n",
       "</g>\n",
       "<!-- a&#45;&gt;b -->\n",
       "<g class=\"edge\" id=\"edge1\"><title>a-&gt;b</title>\n",
       "<path d=\"M-44.897,19.092C-45.406,12.886 -45.987,5.7984 -46.545,-1.013\" fill=\"none\" stroke=\"black\"/>\n",
       "<polygon fill=\"black\" points=\"-50.0613,-1.06947 -47.39,-11.322 -43.0847,-1.64138 -50.0613,-1.06947\" stroke=\"black\"/>\n",
       "</g>\n",
       "<!-- e -->\n",
       "<g class=\"node\" id=\"node3\"><title>e</title>\n",
       "<ellipse cx=\"22.101\" cy=\"52.668\" fill=\"none\" rx=\"27\" ry=\"18\" stroke=\"black\"/>\n",
       "<text font-family=\"Times New Roman,serif\" font-size=\"14.00\" text-anchor=\"middle\" x=\"22.101\" y=\"56.368\">e</text>\n",
       "</g>\n",
       "<!-- a&#45;&gt;e -->\n",
       "<g class=\"edge\" id=\"edge2\"><title>a-&gt;e</title>\n",
       "<path d=\"M-17.886,43.35C-16.404,43.695 -14.902,44.045 -13.392,44.397\" fill=\"none\" stroke=\"black\"/>\n",
       "<polygon fill=\"black\" points=\"-12.3927,41.036 -3.4478,46.714 -13.9812,47.8534 -12.3927,41.036\" stroke=\"black\"/>\n",
       "</g>\n",
       "<!-- d -->\n",
       "<g class=\"node\" id=\"node4\"><title>d</title>\n",
       "<ellipse cx=\"57.068\" cy=\"-4.7851\" fill=\"none\" rx=\"27\" ry=\"18\" stroke=\"black\"/>\n",
       "<text font-family=\"Times New Roman,serif\" font-size=\"14.00\" text-anchor=\"middle\" x=\"57.068\" y=\"-1.0851\">d</text>\n",
       "</g>\n",
       "<!-- e&#45;&gt;d -->\n",
       "<g class=\"edge\" id=\"edge3\"><title>e-&gt;d</title>\n",
       "<path d=\"M32.403,35.741C35.223,31.107 38.345,25.977 41.393,20.969\" fill=\"none\" stroke=\"black\"/>\n",
       "<polygon fill=\"black\" points=\"38.5294,18.9419 46.718,12.219 44.5091,22.581 38.5294,18.9419\" stroke=\"black\"/>\n",
       "</g>\n",
       "<!-- c -->\n",
       "<g class=\"node\" id=\"node5\"><title>c</title>\n",
       "<ellipse cx=\"13.117\" cy=\"-55.674\" fill=\"none\" rx=\"27\" ry=\"18\" stroke=\"black\"/>\n",
       "<text font-family=\"Times New Roman,serif\" font-size=\"14.00\" text-anchor=\"middle\" x=\"13.117\" y=\"-51.974\">c</text>\n",
       "</g>\n",
       "<!-- c&#45;&gt;b -->\n",
       "<g class=\"edge\" id=\"edge4\"><title>c-&gt;b</title>\n",
       "<path d=\"M-9.9718,-45.97C-12.18,-45.042 -14.445,-44.09 -16.719,-43.134\" fill=\"none\" stroke=\"black\"/>\n",
       "<polygon fill=\"black\" points=\"-15.413,-39.8864 -25.988,-39.239 -18.1248,-46.3398 -15.413,-39.8864\" stroke=\"black\"/>\n",
       "</g>\n",
       "<!-- c&#45;&gt;d -->\n",
       "<g class=\"edge\" id=\"edge5\"><title>c-&gt;d</title>\n",
       "<path d=\"M26.782,-39.852C29.954,-36.179 33.397,-32.193 36.786,-28.269\" fill=\"none\" stroke=\"black\"/>\n",
       "<polygon fill=\"black\" points=\"39.6747,-30.279 43.562,-20.423 34.3769,-25.7036 39.6747,-30.279\" stroke=\"black\"/>\n",
       "</g>\n",
       "</g>\n",
       "</svg>"
      ],
      "text/plain": [
       "<IPython.core.display.SVG object>"
      ]
     },
     "execution_count": 21,
     "metadata": {},
     "output_type": "execute_result"
    }
   ],
   "source": [
    "Answer = fromDot('''\n",
    "strict graph A {\n",
    "# BEGIN SOLUTION\n",
    "a -- b -- c -- d -- e -- a\n",
    "# END SOLUTION\n",
    "}\n",
    "''')\n",
    "draw(Answer)"
   ]
  },
  {
   "cell_type": "markdown",
   "metadata": {},
   "source": [
    "**Explanation a:** a pivotal node is a node that is on any shortest path for 2 nodes in a graph. A Circular graph would always satisfy that condition as there is only 1 shortest path for any 2 nodes in the graph. And thus any node will be pivotal for the path between its neighbours if n > 3"
   ]
  },
  {
   "cell_type": "markdown",
   "metadata": {},
   "source": [
    "* Give an example of a graph in which every node is pivotal for at least two different pairs of nodes. Explain your answer. "
   ]
  },
  {
   "cell_type": "code",
   "execution_count": 26,
   "metadata": {},
   "outputs": [
    {
     "data": {
      "image/svg+xml": [
       "<svg height=\"339pt\" viewBox=\"0.00 0.00 299.21 338.56\" width=\"299pt\" xmlns=\"http://www.w3.org/2000/svg\" xmlns:xlink=\"http://www.w3.org/1999/xlink\">\n",
       "<g class=\"graph\" id=\"graph0\" transform=\"scale(1 1) rotate(0) translate(154.67 171.13)\">\n",
       "<title>A</title>\n",
       "<polygon fill=\"white\" points=\"-154.67,167.43 -154.67,-171.13 144.54,-171.13 144.54,167.43 -154.67,167.43\" stroke=\"none\"/>\n",
       "<!-- a -->\n",
       "<g class=\"node\" id=\"node1\"><title>a</title>\n",
       "<ellipse cx=\"-123.67\" cy=\"-78.198\" fill=\"none\" rx=\"27\" ry=\"18\" stroke=\"black\"/>\n",
       "<text font-family=\"Times New Roman,serif\" font-size=\"14.00\" text-anchor=\"middle\" x=\"-123.67\" y=\"-74.498\">a</text>\n",
       "</g>\n",
       "<!-- b -->\n",
       "<g class=\"node\" id=\"node2\"><title>b</title>\n",
       "<ellipse cx=\"-50.887\" cy=\"-76.261\" fill=\"none\" rx=\"27\" ry=\"18\" stroke=\"black\"/>\n",
       "<text font-family=\"Times New Roman,serif\" font-size=\"14.00\" text-anchor=\"middle\" x=\"-50.887\" y=\"-72.561\">b</text>\n",
       "</g>\n",
       "<!-- a&#45;&gt;b -->\n",
       "<g class=\"edge\" id=\"edge1\"><title>a-&gt;b</title>\n",
       "<path d=\"M-96.571,-77.477C-93.86,-77.405 -91.076,-77.331 -88.284,-77.256\" fill=\"none\" stroke=\"black\"/>\n",
       "<polygon fill=\"black\" points=\"-88.1596,-80.754 -78.256,-76.99 -88.3453,-73.7565 -88.1596,-80.754\" stroke=\"black\"/>\n",
       "</g>\n",
       "<!-- f -->\n",
       "<g class=\"node\" id=\"node3\"><title>f</title>\n",
       "<ellipse cx=\"-45.113\" cy=\"-149.13\" fill=\"none\" rx=\"27\" ry=\"18\" stroke=\"black\"/>\n",
       "<text font-family=\"Times New Roman,serif\" font-size=\"14.00\" text-anchor=\"middle\" x=\"-45.113\" y=\"-145.43\">f</text>\n",
       "</g>\n",
       "<!-- b&#45;&gt;f -->\n",
       "<g class=\"edge\" id=\"edge2\"><title>b-&gt;f</title>\n",
       "<path d=\"M-49.46,-94.274C-48.821,-102.33 -48.053,-112.02 -47.342,-121\" fill=\"none\" stroke=\"black\"/>\n",
       "<polygon fill=\"black\" points=\"-50.8231,-121.378 -46.544,-131.07 -43.845,-120.825 -50.8231,-121.378\" stroke=\"black\"/>\n",
       "</g>\n",
       "<!-- c -->\n",
       "<g class=\"node\" id=\"node4\"><title>c</title>\n",
       "<ellipse cx=\"4.6926\" cy=\"-25.181\" fill=\"none\" rx=\"27\" ry=\"18\" stroke=\"black\"/>\n",
       "<text font-family=\"Times New Roman,serif\" font-size=\"14.00\" text-anchor=\"middle\" x=\"4.6926\" y=\"-21.481\">c</text>\n",
       "</g>\n",
       "<!-- c&#45;&gt;b -->\n",
       "<g class=\"edge\" id=\"edge3\"><title>c-&gt;b</title>\n",
       "<path d=\"M-11.383,-39.956C-16.295,-44.469 -21.803,-49.532 -27.112,-54.411\" fill=\"none\" stroke=\"black\"/>\n",
       "<polygon fill=\"black\" points=\"-29.6603,-51.9993 -34.655,-61.343 -24.9237,-57.1535 -29.6603,-51.9993\" stroke=\"black\"/>\n",
       "</g>\n",
       "<!-- d -->\n",
       "<g class=\"node\" id=\"node5\"><title>d</title>\n",
       "<ellipse cx=\"9.481\" cy=\"50.679\" fill=\"none\" rx=\"27\" ry=\"18\" stroke=\"black\"/>\n",
       "<text font-family=\"Times New Roman,serif\" font-size=\"14.00\" text-anchor=\"middle\" x=\"9.481\" y=\"54.379\">d</text>\n",
       "</g>\n",
       "<!-- c&#45;&gt;d -->\n",
       "<g class=\"edge\" id=\"edge4\"><title>c-&gt;d</title>\n",
       "<path d=\"M5.8518,-6.8177C6.4046,1.9413 7.0785,12.617 7.6948,22.381\" fill=\"none\" stroke=\"black\"/>\n",
       "<polygon fill=\"black\" points=\"11.1956,22.2844 8.3325,32.485 4.20947,22.7253 11.1956,22.2844\" stroke=\"black\"/>\n",
       "</g>\n",
       "<!-- g -->\n",
       "<g class=\"node\" id=\"node6\"><title>g</title>\n",
       "<ellipse cx=\"69.527\" cy=\"-62.582\" fill=\"none\" rx=\"27\" ry=\"18\" stroke=\"black\"/>\n",
       "<text font-family=\"Times New Roman,serif\" font-size=\"14.00\" text-anchor=\"middle\" x=\"69.527\" y=\"-58.882\">g</text>\n",
       "</g>\n",
       "<!-- c&#45;&gt;g -->\n",
       "<g class=\"edge\" id=\"edge5\"><title>c-&gt;g</title>\n",
       "<path d=\"M25.207,-37.015C29.937,-39.744 35.059,-42.699 40.086,-45.598\" fill=\"none\" stroke=\"black\"/>\n",
       "<polygon fill=\"black\" points=\"38.5131,-48.7312 48.924,-50.697 42.0113,-42.668 38.5131,-48.7312\" stroke=\"black\"/>\n",
       "</g>\n",
       "<!-- h -->\n",
       "<g class=\"node\" id=\"node7\"><title>h</title>\n",
       "<ellipse cx=\"-45.254\" cy=\"100.56\" fill=\"none\" rx=\"27\" ry=\"18\" stroke=\"black\"/>\n",
       "<text font-family=\"Times New Roman,serif\" font-size=\"14.00\" text-anchor=\"middle\" x=\"-45.254\" y=\"104.26\">h</text>\n",
       "</g>\n",
       "<!-- d&#45;&gt;h -->\n",
       "<g class=\"edge\" id=\"edge6\"><title>d-&gt;h</title>\n",
       "<path d=\"M-6.6454,65.376C-11.281,69.6 -16.437,74.3 -21.433,78.853\" fill=\"none\" stroke=\"black\"/>\n",
       "<polygon fill=\"black\" points=\"-19.3052,81.6493 -29.054,85.798 -24.0202,76.4754 -19.3052,81.6493\" stroke=\"black\"/>\n",
       "</g>\n",
       "<!-- e -->\n",
       "<g class=\"node\" id=\"node8\"><title>e</title>\n",
       "<ellipse cx=\"67.683\" cy=\"94.684\" fill=\"none\" rx=\"27\" ry=\"18\" stroke=\"black\"/>\n",
       "<text font-family=\"Times New Roman,serif\" font-size=\"14.00\" text-anchor=\"middle\" x=\"67.683\" y=\"98.384\">e</text>\n",
       "</g>\n",
       "<!-- e&#45;&gt;d -->\n",
       "<g class=\"edge\" id=\"edge7\"><title>e-&gt;d</title>\n",
       "<path d=\"M49.587,81.002C45.165,77.659 40.346,74.015 35.632,70.451\" fill=\"none\" stroke=\"black\"/>\n",
       "<polygon fill=\"black\" points=\"33.2323,73.0245 27.366,64.202 37.4537,67.4406 33.2323,73.0245\" stroke=\"black\"/>\n",
       "</g>\n",
       "<!-- i -->\n",
       "<g class=\"node\" id=\"node9\"><title>i</title>\n",
       "<ellipse cx=\"113.54\" cy=\"145.43\" fill=\"none\" rx=\"27\" ry=\"18\" stroke=\"black\"/>\n",
       "<text font-family=\"Times New Roman,serif\" font-size=\"14.00\" text-anchor=\"middle\" x=\"113.54\" y=\"149.13\">i</text>\n",
       "</g>\n",
       "<!-- e&#45;&gt;i -->\n",
       "<g class=\"edge\" id=\"edge8\"><title>e-&gt;i</title>\n",
       "<path d=\"M81.692,110.18C85.095,113.95 88.809,118.06 92.46,122.1\" fill=\"none\" stroke=\"black\"/>\n",
       "<polygon fill=\"black\" points=\"95.1941,119.905 99.305,129.67 90.0019,124.6 95.1941,119.905\" stroke=\"black\"/>\n",
       "</g>\n",
       "</g>\n",
       "</svg>"
      ],
      "text/plain": [
       "<IPython.core.display.SVG object>"
      ]
     },
     "execution_count": 26,
     "metadata": {},
     "output_type": "execute_result"
    }
   ],
   "source": [
    "Answer = fromDot('''\n",
    "strict graph A {\n",
    "# BEGIN SOLUTION\n",
    "a -- b -- c -- d -- e\n",
    "f -- b\n",
    "g -- c\n",
    "h -- d\n",
    "i -- e\n",
    "# END SOLUTION\n",
    "}\n",
    "''')\n",
    "draw(Answer)"
   ]
  },
  {
   "cell_type": "markdown",
   "metadata": {},
   "source": [
    "**Explanation b:** for example a binary tree of at least 3 levels where the grand levels also have a link to the "
   ]
  },
  {
   "cell_type": "markdown",
   "metadata": {},
   "source": [
    "## Exercise 2.2: Gatekeeping                                                     <a id=\"chapter8\"></a>\n",
    "\n",
    "\n",
    "* (p1) A node X is a gatekeeper if for two other nodes Y and Z every path between Y and Z passes throught X. Complete the functions ``gatekeepers`` and ``gatekeeperAB``. The function ``gatekeeperAB`` should return a set of nodes that are on all possible paths between node a and node b. The function ``gatekeepers`` returns the union of all gatekeepers.\n",
    "* (p2) A node X is a local gate keeper if there are two neighbors of X, say Y and Z, that are not connected to each other. Complete the functions ``local_gatekeeper and ``local_gatekeepers`` below.\n",
    "* (a) Give an example (with explanation) of a graph in which more than half of all nodes are gatekeepers.\n",
    "* (b) Give an example (with explanation) of a graph in there are no gatekeepers but in which every node is a local gate keeper."
   ]
  },
  {
   "cell_type": "code",
   "execution_count": 71,
   "metadata": {},
   "outputs": [
    {
     "name": "stdout",
     "output_type": "stream",
     "text": [
      "<class 'networkx.classes.graph.Graph'>\n",
      "copy ['A', 'C', 'B', 'E', 'D', 'F']\n",
      "copy2 ['C', 'B', 'E', 'D', 'F']\n"
     ]
    },
    {
     "ename": "KeyError",
     "evalue": "'A'",
     "output_type": "error",
     "traceback": [
      "\u001b[1;31m\u001b[0m",
      "\u001b[1;31mKeyError\u001b[0mTraceback (most recent call last)",
      "\u001b[1;32m<ipython-input-71-cbc283711378>\u001b[0m in \u001b[0;36m<module>\u001b[1;34m()\u001b[0m\n\u001b[0;32m     56\u001b[0m \u001b[1;33m\u001b[0m\u001b[0m\n\u001b[0;32m     57\u001b[0m \u001b[1;31m# Check\u001b[0m\u001b[1;33m\u001b[0m\u001b[1;33m\u001b[0m\u001b[0m\n\u001b[1;32m---> 58\u001b[1;33m \u001b[0manswer\u001b[0m\u001b[1;33m(\u001b[0m\u001b[0mgatekeepers\u001b[0m\u001b[1;33m(\u001b[0m\u001b[0mF214\u001b[0m\u001b[1;33m)\u001b[0m \u001b[1;33m==\u001b[0m \u001b[0mset\u001b[0m\u001b[1;33m(\u001b[0m\u001b[1;34m'A'\u001b[0m\u001b[1;33m)\u001b[0m\u001b[1;33m)\u001b[0m\u001b[1;33m\u001b[0m\u001b[0m\n\u001b[0m\u001b[0;32m     59\u001b[0m \u001b[0manswer\u001b[0m\u001b[1;33m(\u001b[0m\u001b[0mlocal_gatekeepers\u001b[0m\u001b[1;33m(\u001b[0m\u001b[0mF214\u001b[0m\u001b[1;33m)\u001b[0m \u001b[1;33m==\u001b[0m \u001b[1;33m{\u001b[0m\u001b[1;34m'A'\u001b[0m\u001b[1;33m,\u001b[0m \u001b[1;34m'D'\u001b[0m\u001b[1;33m}\u001b[0m\u001b[1;33m)\u001b[0m\u001b[1;33m\u001b[0m\u001b[0m\n",
      "\u001b[1;32m<ipython-input-71-cbc283711378>\u001b[0m in \u001b[0;36mgatekeepers\u001b[1;34m(G)\u001b[0m\n\u001b[0;32m     34\u001b[0m     \u001b[1;32mfor\u001b[0m \u001b[0mn1\u001b[0m \u001b[1;32min\u001b[0m \u001b[0mG\u001b[0m\u001b[1;33m:\u001b[0m\u001b[1;33m\u001b[0m\u001b[0m\n\u001b[0;32m     35\u001b[0m         \u001b[1;32mfor\u001b[0m \u001b[0mn2\u001b[0m \u001b[1;32min\u001b[0m \u001b[0mG\u001b[0m\u001b[1;33m:\u001b[0m\u001b[1;33m\u001b[0m\u001b[0m\n\u001b[1;32m---> 36\u001b[1;33m             \u001b[0mresult\u001b[0m \u001b[1;33m=\u001b[0m \u001b[0mresult\u001b[0m \u001b[1;33m|\u001b[0m \u001b[0mgatekeeperAB\u001b[0m\u001b[1;33m(\u001b[0m\u001b[0mG\u001b[0m\u001b[1;33m,\u001b[0m \u001b[0mn1\u001b[0m\u001b[1;33m,\u001b[0m \u001b[0mn2\u001b[0m\u001b[1;33m)\u001b[0m\u001b[1;33m\u001b[0m\u001b[0m\n\u001b[0m\u001b[0;32m     37\u001b[0m     \u001b[1;32mreturn\u001b[0m \u001b[0mresult\u001b[0m\u001b[1;33m\u001b[0m\u001b[0m\n\u001b[0;32m     38\u001b[0m \u001b[1;33m\u001b[0m\u001b[0m\n",
      "\u001b[1;32m<ipython-input-71-cbc283711378>\u001b[0m in \u001b[0;36mgatekeeperAB\u001b[1;34m(G, a, b)\u001b[0m\n\u001b[0;32m     18\u001b[0m         \u001b[0mcopy\u001b[0m\u001b[1;33m.\u001b[0m\u001b[0mremove_node\u001b[0m\u001b[1;33m(\u001b[0m\u001b[0mnode\u001b[0m\u001b[1;33m)\u001b[0m\u001b[1;33m\u001b[0m\u001b[0m\n\u001b[0;32m     19\u001b[0m         \u001b[1;32mprint\u001b[0m \u001b[1;34m\"copy2\"\u001b[0m\u001b[1;33m,\u001b[0m \u001b[0mcopy\u001b[0m\u001b[1;33m.\u001b[0m\u001b[0mnodes\u001b[0m\u001b[1;33m(\u001b[0m\u001b[1;33m)\u001b[0m\u001b[1;33m\u001b[0m\u001b[0m\n\u001b[1;32m---> 20\u001b[1;33m         \u001b[0mres\u001b[0m \u001b[1;33m=\u001b[0m \u001b[0mbfs_distances\u001b[0m\u001b[1;33m(\u001b[0m\u001b[0mG\u001b[0m\u001b[1;33m=\u001b[0m\u001b[0mcopy\u001b[0m\u001b[1;33m,\u001b[0m \u001b[0mstart\u001b[0m\u001b[1;33m=\u001b[0m\u001b[0ma\u001b[0m\u001b[1;33m)\u001b[0m\u001b[1;33m\u001b[0m\u001b[0m\n\u001b[0m\u001b[0;32m     21\u001b[0m         \u001b[1;32mif\u001b[0m \u001b[0mb\u001b[0m \u001b[1;32mnot\u001b[0m \u001b[1;32min\u001b[0m \u001b[0mres\u001b[0m\u001b[1;33m:\u001b[0m\u001b[1;33m\u001b[0m\u001b[0m\n\u001b[0;32m     22\u001b[0m             \u001b[1;32mprint\u001b[0m \u001b[1;34m\"added to found\"\u001b[0m\u001b[1;33m,\u001b[0m \u001b[0mb\u001b[0m\u001b[1;33m\u001b[0m\u001b[0m\n",
      "\u001b[1;32m<ipython-input-47-40f004ddcc1c>\u001b[0m in \u001b[0;36mbfs_distances\u001b[1;34m(G, start)\u001b[0m\n\u001b[0;32m      8\u001b[0m     \u001b[1;32mwhile\u001b[0m \u001b[0mlen\u001b[0m\u001b[1;33m(\u001b[0m\u001b[0mqueue\u001b[0m\u001b[1;33m)\u001b[0m \u001b[1;33m>\u001b[0m \u001b[1;36m0\u001b[0m\u001b[1;33m:\u001b[0m\u001b[1;33m\u001b[0m\u001b[0m\n\u001b[0;32m      9\u001b[0m         \u001b[0mcurr_node\u001b[0m\u001b[1;33m,\u001b[0m \u001b[0mcurr_val\u001b[0m \u001b[1;33m=\u001b[0m \u001b[0mqueue\u001b[0m\u001b[1;33m.\u001b[0m\u001b[0mpop\u001b[0m\u001b[1;33m(\u001b[0m\u001b[1;36m0\u001b[0m\u001b[1;33m)\u001b[0m\u001b[1;33m\u001b[0m\u001b[0m\n\u001b[1;32m---> 10\u001b[1;33m         \u001b[1;32mfor\u001b[0m \u001b[0mneighbour\u001b[0m \u001b[1;32min\u001b[0m \u001b[0mG\u001b[0m\u001b[1;33m[\u001b[0m\u001b[0mcurr_node\u001b[0m\u001b[1;33m]\u001b[0m\u001b[1;33m:\u001b[0m\u001b[1;33m\u001b[0m\u001b[0m\n\u001b[0m\u001b[0;32m     11\u001b[0m             \u001b[1;32mif\u001b[0m \u001b[0mneighbour\u001b[0m \u001b[1;32min\u001b[0m \u001b[0mvisited\u001b[0m\u001b[1;33m:\u001b[0m\u001b[1;33m\u001b[0m\u001b[0m\n\u001b[0;32m     12\u001b[0m                 \u001b[1;32mpass\u001b[0m\u001b[1;33m\u001b[0m\u001b[0m\n",
      "\u001b[1;32mC:\\ProgramData\\Anaconda2\\lib\\site-packages\\networkx\\classes\\graph.pyc\u001b[0m in \u001b[0;36m__getitem__\u001b[1;34m(self, n)\u001b[0m\n\u001b[0;32m    456\u001b[0m         \u001b[0mAtlasView\u001b[0m\u001b[1;33m(\u001b[0m\u001b[1;33m{\u001b[0m\u001b[1;36m1\u001b[0m\u001b[1;33m:\u001b[0m \u001b[1;33m{\u001b[0m\u001b[1;33m}\u001b[0m\u001b[1;33m}\u001b[0m\u001b[1;33m)\u001b[0m\u001b[1;33m\u001b[0m\u001b[0m\n\u001b[0;32m    457\u001b[0m         \"\"\"\n\u001b[1;32m--> 458\u001b[1;33m         \u001b[1;32mreturn\u001b[0m \u001b[0mself\u001b[0m\u001b[1;33m.\u001b[0m\u001b[0madj\u001b[0m\u001b[1;33m[\u001b[0m\u001b[0mn\u001b[0m\u001b[1;33m]\u001b[0m\u001b[1;33m\u001b[0m\u001b[0m\n\u001b[0m\u001b[0;32m    459\u001b[0m \u001b[1;33m\u001b[0m\u001b[0m\n\u001b[0;32m    460\u001b[0m     \u001b[1;32mdef\u001b[0m \u001b[0madd_node\u001b[0m\u001b[1;33m(\u001b[0m\u001b[0mself\u001b[0m\u001b[1;33m,\u001b[0m \u001b[0mnode_for_adding\u001b[0m\u001b[1;33m,\u001b[0m \u001b[1;33m**\u001b[0m\u001b[0mattr\u001b[0m\u001b[1;33m)\u001b[0m\u001b[1;33m:\u001b[0m\u001b[1;33m\u001b[0m\u001b[0m\n",
      "\u001b[1;32mC:\\ProgramData\\Anaconda2\\lib\\site-packages\\networkx\\classes\\coreviews.pyc\u001b[0m in \u001b[0;36m__getitem__\u001b[1;34m(self, name)\u001b[0m\n\u001b[0;32m     79\u001b[0m \u001b[1;33m\u001b[0m\u001b[0m\n\u001b[0;32m     80\u001b[0m     \u001b[1;32mdef\u001b[0m \u001b[0m__getitem__\u001b[0m\u001b[1;33m(\u001b[0m\u001b[0mself\u001b[0m\u001b[1;33m,\u001b[0m \u001b[0mname\u001b[0m\u001b[1;33m)\u001b[0m\u001b[1;33m:\u001b[0m\u001b[1;33m\u001b[0m\u001b[0m\n\u001b[1;32m---> 81\u001b[1;33m         \u001b[1;32mreturn\u001b[0m \u001b[0mAtlasView\u001b[0m\u001b[1;33m(\u001b[0m\u001b[0mself\u001b[0m\u001b[1;33m.\u001b[0m\u001b[0m_atlas\u001b[0m\u001b[1;33m[\u001b[0m\u001b[0mname\u001b[0m\u001b[1;33m]\u001b[0m\u001b[1;33m)\u001b[0m\u001b[1;33m\u001b[0m\u001b[0m\n\u001b[0m\u001b[0;32m     82\u001b[0m \u001b[1;33m\u001b[0m\u001b[0m\n\u001b[0;32m     83\u001b[0m     \u001b[1;32mdef\u001b[0m \u001b[0mcopy\u001b[0m\u001b[1;33m(\u001b[0m\u001b[0mself\u001b[0m\u001b[1;33m)\u001b[0m\u001b[1;33m:\u001b[0m\u001b[1;33m\u001b[0m\u001b[0m\n",
      "\u001b[1;31mKeyError\u001b[0m: 'A'"
     ]
    }
   ],
   "source": [
    "# p1 + p2\n",
    "def gatekeeperAB(G, a, b):\n",
    "    '''\n",
    "    Determines all gatekeepers between node 'a' and node 'b' \n",
    "    '''\n",
    "    found = set()\n",
    "    print type(G)\n",
    "    all_in = bfs_distances(G, a)\n",
    "    if b not in all_in:\n",
    "        print \"node b not accessible from node a\"\n",
    "#     print \"all_in\", all_in\n",
    "    # BEGIN SOLUTION\n",
    "    for node in G.nodes():\n",
    "        if (node == a) or (node == b):\n",
    "            pass\n",
    "        copy = G.copy()\n",
    "        print \"copy\", copy.nodes()\n",
    "        copy.remove_node(node)\n",
    "        print \"copy2\", copy.nodes()\n",
    "        res = bfs_distances(G=copy, start=a)\n",
    "        if b not in res:\n",
    "            print \"added to found\", b\n",
    "            found.add(node)\n",
    "    # END SOLUTION\n",
    "    print found\n",
    "    return found\n",
    "\n",
    "\n",
    "def gatekeepers(G):\n",
    "    '''\n",
    "    Determines all gatekeepers in graph 'G'\n",
    "    '''\n",
    "    result = set()\n",
    "    for n1 in G:\n",
    "        for n2 in G:\n",
    "            result = result | gatekeeperAB(G, n1, n2)\n",
    "    return result\n",
    "\n",
    "def local_gatekeeper(G, a):\n",
    "    '''\n",
    "    Determines whether a is a local gate keeper\n",
    "    '''\n",
    "    # BEGIN SOLUTION\n",
    "    # END SOLUTION\n",
    "    return False\n",
    "\n",
    "\n",
    "def local_gatekeepers(G):\n",
    "    '''\n",
    "    Determines all gatekeepers in graph 'G'\n",
    "    '''\n",
    "    result = set()\n",
    "    for n in G:\n",
    "        if local_gatekeeper(G,n): result.add(n)\n",
    "    return result\n",
    "\n",
    "# Check\n",
    "answer(gatekeepers(F214) == set('A'))\n",
    "answer(local_gatekeepers(F214) == {'A', 'D'})"
   ]
  },
  {
   "cell_type": "code",
   "execution_count": 49,
   "metadata": {},
   "outputs": [
    {
     "data": {
      "image/svg+xml": [
       "<svg height=\"198pt\" viewBox=\"0.00 0.00 219.69 197.60\" width=\"220pt\" xmlns=\"http://www.w3.org/2000/svg\" xmlns:xlink=\"http://www.w3.org/1999/xlink\">\n",
       "<g class=\"graph\" id=\"graph0\" transform=\"scale(1 1) rotate(0) translate(114.565 94.765)\">\n",
       "<title>%3</title>\n",
       "<polygon fill=\"white\" points=\"-114.565,102.839 -114.565,-94.765 105.127,-94.765 105.127,102.839 -114.565,102.839\" stroke=\"none\"/>\n",
       "<!-- A -->\n",
       "<g class=\"node\" id=\"node1\"><title>A</title>\n",
       "<ellipse cx=\"-3.7542\" cy=\"-2.3\" fill=\"none\" rx=\"27\" ry=\"18\" stroke=\"black\"/>\n",
       "<text font-family=\"Times New Roman,serif\" font-size=\"14.00\" text-anchor=\"middle\" x=\"-3.7542\" y=\"1.4\">A</text>\n",
       "</g>\n",
       "<!-- C -->\n",
       "<g class=\"node\" id=\"node2\"><title>C</title>\n",
       "<ellipse cx=\"74.127\" cy=\"-31.571\" fill=\"none\" rx=\"27\" ry=\"18\" stroke=\"black\"/>\n",
       "<text font-family=\"Times New Roman,serif\" font-size=\"14.00\" text-anchor=\"middle\" x=\"74.127\" y=\"-27.871\">C</text>\n",
       "</g>\n",
       "<!-- A&#45;&gt;C -->\n",
       "<g class=\"edge\" id=\"edge1\"><title>A-&gt;C</title>\n",
       "<path d=\"M20.036,-11.241C26.679,-13.738 34.018,-16.497 41.092,-19.155\" fill=\"none\" stroke=\"black\"/>\n",
       "<polygon fill=\"black\" points=\"39.8899,-22.4422 50.482,-22.685 42.3532,-15.8899 39.8899,-22.4422\" stroke=\"black\"/>\n",
       "</g>\n",
       "<!-- B -->\n",
       "<g class=\"node\" id=\"node3\"><title>B</title>\n",
       "<ellipse cx=\"-2.7375\" cy=\"80.839\" fill=\"none\" rx=\"27\" ry=\"18\" stroke=\"black\"/>\n",
       "<text font-family=\"Times New Roman,serif\" font-size=\"14.00\" text-anchor=\"middle\" x=\"-2.7375\" y=\"84.539\">B</text>\n",
       "</g>\n",
       "<!-- A&#45;&gt;B -->\n",
       "<g class=\"edge\" id=\"edge2\"><title>A-&gt;B</title>\n",
       "<path d=\"M-3.5336,15.74C-3.4017,26.526 -3.2313,40.462 -3.0819,52.672\" fill=\"none\" stroke=\"black\"/>\n",
       "<polygon fill=\"black\" points=\"0.419731,52.7919 -2.9577,62.834 -6.57975,52.8776 0.419731,52.7919\" stroke=\"black\"/>\n",
       "</g>\n",
       "<!-- E -->\n",
       "<g class=\"node\" id=\"node4\"><title>E</title>\n",
       "<ellipse cx=\"-43.339\" cy=\"-72.765\" fill=\"none\" rx=\"27\" ry=\"18\" stroke=\"black\"/>\n",
       "<text font-family=\"Times New Roman,serif\" font-size=\"14.00\" text-anchor=\"middle\" x=\"-43.339\" y=\"-69.065\">E</text>\n",
       "</g>\n",
       "<!-- A&#45;&gt;E -->\n",
       "<g class=\"edge\" id=\"edge3\"><title>A-&gt;E</title>\n",
       "<path d=\"M-13.336,-19.358C-18.004,-27.667 -23.715,-37.833 -28.897,-47.058\" fill=\"none\" stroke=\"black\"/>\n",
       "<polygon fill=\"black\" points=\"-31.9982,-45.4324 -33.845,-55.865 -25.8954,-48.8611 -31.9982,-45.4324\" stroke=\"black\"/>\n",
       "</g>\n",
       "<!-- D -->\n",
       "<g class=\"node\" id=\"node5\"><title>D</title>\n",
       "<ellipse cx=\"59.269\" cy=\"40.736\" fill=\"none\" rx=\"27\" ry=\"18\" stroke=\"black\"/>\n",
       "<text font-family=\"Times New Roman,serif\" font-size=\"14.00\" text-anchor=\"middle\" x=\"59.269\" y=\"44.436\">D</text>\n",
       "</g>\n",
       "<!-- A&#45;&gt;D -->\n",
       "<g class=\"edge\" id=\"edge4\"><title>A-&gt;D</title>\n",
       "<path d=\"M15.155,10.612C20.389,14.187 26.18,18.141 31.796,21.976\" fill=\"none\" stroke=\"black\"/>\n",
       "<polygon fill=\"black\" points=\"34.0885,19.3033 40.373,27.833 30.141,25.084 34.0885,19.3033\" stroke=\"black\"/>\n",
       "</g>\n",
       "<!-- F -->\n",
       "<g class=\"node\" id=\"node6\"><title>F</title>\n",
       "<ellipse cx=\"-83.565\" cy=\"-14.938\" fill=\"none\" rx=\"27\" ry=\"18\" stroke=\"black\"/>\n",
       "<text font-family=\"Times New Roman,serif\" font-size=\"14.00\" text-anchor=\"middle\" x=\"-83.565\" y=\"-11.238\">F</text>\n",
       "</g>\n",
       "<!-- A&#45;&gt;F -->\n",
       "<g class=\"edge\" id=\"edge5\"><title>A-&gt;F</title>\n",
       "<path d=\"M-30.33,-6.5083C-35.715,-7.361 -41.466,-8.2716 -47.123,-9.1674\" fill=\"none\" stroke=\"black\"/>\n",
       "<polygon fill=\"black\" points=\"-47.7755,-5.72702 -57.105,-10.748 -46.6806,-12.6409 -47.7755,-5.72702\" stroke=\"black\"/>\n",
       "</g>\n",
       "<!-- C&#45;&gt;D -->\n",
       "<g class=\"edge\" id=\"edge6\"><title>C-&gt;D</title>\n",
       "<path d=\"M70.454,-13.698C68.811,-5.7019 66.835,3.9123 65.005,12.822\" fill=\"none\" stroke=\"black\"/>\n",
       "<polygon fill=\"black\" points=\"68.3924,13.7263 62.951,22.817 61.5357,12.3171 68.3924,13.7263\" stroke=\"black\"/>\n",
       "</g>\n",
       "<!-- B&#45;&gt;D -->\n",
       "<g class=\"edge\" id=\"edge7\"><title>B-&gt;D</title>\n",
       "<path d=\"M16.882,68.15C21.405,65.224 26.305,62.056 31.112,58.946\" fill=\"none\" stroke=\"black\"/>\n",
       "<polygon fill=\"black\" points=\"29.2663,55.9715 39.564,53.48 33.0676,61.8495 29.2663,55.9715\" stroke=\"black\"/>\n",
       "</g>\n",
       "<!-- E&#45;&gt;F -->\n",
       "<g class=\"edge\" id=\"edge8\"><title>E-&gt;F</title>\n",
       "<path d=\"M-54.758,-56.349C-58.295,-51.265 -62.275,-45.543 -66.123,-40.012\" fill=\"none\" stroke=\"black\"/>\n",
       "<polygon fill=\"black\" points=\"-63.3934,-37.8067 -71.977,-31.596 -69.14,-41.8039 -63.3934,-37.8067\" stroke=\"black\"/>\n",
       "</g>\n",
       "</g>\n",
       "</svg>"
      ],
      "text/plain": [
       "<IPython.core.display.SVG object>"
      ]
     },
     "execution_count": 49,
     "metadata": {},
     "output_type": "execute_result"
    }
   ],
   "source": [
    "draw(F214)"
   ]
  },
  {
   "cell_type": "code",
   "execution_count": 68,
   "metadata": {},
   "outputs": [
    {
     "name": "stdout",
     "output_type": "stream",
     "text": [
      "<class 'networkx.classes.multigraph.MultiGraph'>\n",
      "copy ['a', 'c', 'b', 'e', 'd', 'f']\n",
      "copy2 ['c', 'b', 'e', 'd', 'f']\n"
     ]
    },
    {
     "ename": "KeyError",
     "evalue": "'a'",
     "output_type": "error",
     "traceback": [
      "\u001b[1;31m\u001b[0m",
      "\u001b[1;31mKeyError\u001b[0mTraceback (most recent call last)",
      "\u001b[1;32m<ipython-input-68-9f00f588f3ad>\u001b[0m in \u001b[0;36m<module>\u001b[1;34m()\u001b[0m\n\u001b[0;32m     10\u001b[0m \u001b[1;33m\u001b[0m\u001b[0m\n\u001b[0;32m     11\u001b[0m \u001b[1;31m# Check\u001b[0m\u001b[1;33m\u001b[0m\u001b[1;33m\u001b[0m\u001b[0m\n\u001b[1;32m---> 12\u001b[1;33m \u001b[0manswer\u001b[0m\u001b[1;33m(\u001b[0m\u001b[0mlen\u001b[0m\u001b[1;33m(\u001b[0m\u001b[0mAnswer\u001b[0m\u001b[1;33m)\u001b[0m \u001b[1;33m/\u001b[0m \u001b[1;36m2\u001b[0m \u001b[1;33m<\u001b[0m \u001b[0mlen\u001b[0m\u001b[1;33m(\u001b[0m\u001b[0mgatekeepers\u001b[0m\u001b[1;33m(\u001b[0m\u001b[0mAnswer\u001b[0m\u001b[1;33m)\u001b[0m\u001b[1;33m)\u001b[0m\u001b[1;33m)\u001b[0m\u001b[1;33m\u001b[0m\u001b[0m\n\u001b[0m",
      "\u001b[1;32m<ipython-input-67-87fc326a7ef9>\u001b[0m in \u001b[0;36mgatekeepers\u001b[1;34m(G)\u001b[0m\n\u001b[0;32m     32\u001b[0m     \u001b[1;32mfor\u001b[0m \u001b[0mn1\u001b[0m \u001b[1;32min\u001b[0m \u001b[0mG\u001b[0m\u001b[1;33m:\u001b[0m\u001b[1;33m\u001b[0m\u001b[0m\n\u001b[0;32m     33\u001b[0m         \u001b[1;32mfor\u001b[0m \u001b[0mn2\u001b[0m \u001b[1;32min\u001b[0m \u001b[0mG\u001b[0m\u001b[1;33m:\u001b[0m\u001b[1;33m\u001b[0m\u001b[0m\n\u001b[1;32m---> 34\u001b[1;33m             \u001b[0mresult\u001b[0m \u001b[1;33m=\u001b[0m \u001b[0mresult\u001b[0m \u001b[1;33m|\u001b[0m \u001b[0mgatekeeperAB\u001b[0m\u001b[1;33m(\u001b[0m\u001b[0mG\u001b[0m\u001b[1;33m,\u001b[0m \u001b[0mn1\u001b[0m\u001b[1;33m,\u001b[0m \u001b[0mn2\u001b[0m\u001b[1;33m)\u001b[0m\u001b[1;33m\u001b[0m\u001b[0m\n\u001b[0m\u001b[0;32m     35\u001b[0m     \u001b[1;32mreturn\u001b[0m \u001b[0mresult\u001b[0m\u001b[1;33m\u001b[0m\u001b[0m\n\u001b[0;32m     36\u001b[0m \u001b[1;33m\u001b[0m\u001b[0m\n",
      "\u001b[1;32m<ipython-input-67-87fc326a7ef9>\u001b[0m in \u001b[0;36mgatekeeperAB\u001b[1;34m(G, a, b)\u001b[0m\n\u001b[0;32m     16\u001b[0m         \u001b[0mcopy\u001b[0m\u001b[1;33m.\u001b[0m\u001b[0mremove_node\u001b[0m\u001b[1;33m(\u001b[0m\u001b[0mnode\u001b[0m\u001b[1;33m)\u001b[0m\u001b[1;33m\u001b[0m\u001b[0m\n\u001b[0;32m     17\u001b[0m         \u001b[1;32mprint\u001b[0m \u001b[1;34m\"copy2\"\u001b[0m\u001b[1;33m,\u001b[0m \u001b[0mcopy\u001b[0m\u001b[1;33m.\u001b[0m\u001b[0mnodes\u001b[0m\u001b[1;33m(\u001b[0m\u001b[1;33m)\u001b[0m\u001b[1;33m\u001b[0m\u001b[0m\n\u001b[1;32m---> 18\u001b[1;33m         \u001b[0mres\u001b[0m \u001b[1;33m=\u001b[0m \u001b[0mbfs_distances\u001b[0m\u001b[1;33m(\u001b[0m\u001b[0mG\u001b[0m\u001b[1;33m=\u001b[0m\u001b[0mcopy\u001b[0m\u001b[1;33m,\u001b[0m \u001b[0mstart\u001b[0m\u001b[1;33m=\u001b[0m\u001b[0ma\u001b[0m\u001b[1;33m)\u001b[0m\u001b[1;33m\u001b[0m\u001b[0m\n\u001b[0m\u001b[0;32m     19\u001b[0m         \u001b[1;32mif\u001b[0m \u001b[0mb\u001b[0m \u001b[1;32mnot\u001b[0m \u001b[1;32min\u001b[0m \u001b[0mres\u001b[0m\u001b[1;33m:\u001b[0m\u001b[1;33m\u001b[0m\u001b[0m\n\u001b[0;32m     20\u001b[0m             \u001b[1;32mprint\u001b[0m \u001b[1;34m\"added to found\"\u001b[0m\u001b[1;33m,\u001b[0m \u001b[0mb\u001b[0m\u001b[1;33m\u001b[0m\u001b[0m\n",
      "\u001b[1;32m<ipython-input-47-40f004ddcc1c>\u001b[0m in \u001b[0;36mbfs_distances\u001b[1;34m(G, start)\u001b[0m\n\u001b[0;32m      8\u001b[0m     \u001b[1;32mwhile\u001b[0m \u001b[0mlen\u001b[0m\u001b[1;33m(\u001b[0m\u001b[0mqueue\u001b[0m\u001b[1;33m)\u001b[0m \u001b[1;33m>\u001b[0m \u001b[1;36m0\u001b[0m\u001b[1;33m:\u001b[0m\u001b[1;33m\u001b[0m\u001b[0m\n\u001b[0;32m      9\u001b[0m         \u001b[0mcurr_node\u001b[0m\u001b[1;33m,\u001b[0m \u001b[0mcurr_val\u001b[0m \u001b[1;33m=\u001b[0m \u001b[0mqueue\u001b[0m\u001b[1;33m.\u001b[0m\u001b[0mpop\u001b[0m\u001b[1;33m(\u001b[0m\u001b[1;36m0\u001b[0m\u001b[1;33m)\u001b[0m\u001b[1;33m\u001b[0m\u001b[0m\n\u001b[1;32m---> 10\u001b[1;33m         \u001b[1;32mfor\u001b[0m \u001b[0mneighbour\u001b[0m \u001b[1;32min\u001b[0m \u001b[0mG\u001b[0m\u001b[1;33m[\u001b[0m\u001b[0mcurr_node\u001b[0m\u001b[1;33m]\u001b[0m\u001b[1;33m:\u001b[0m\u001b[1;33m\u001b[0m\u001b[0m\n\u001b[0m\u001b[0;32m     11\u001b[0m             \u001b[1;32mif\u001b[0m \u001b[0mneighbour\u001b[0m \u001b[1;32min\u001b[0m \u001b[0mvisited\u001b[0m\u001b[1;33m:\u001b[0m\u001b[1;33m\u001b[0m\u001b[0m\n\u001b[0;32m     12\u001b[0m                 \u001b[1;32mpass\u001b[0m\u001b[1;33m\u001b[0m\u001b[0m\n",
      "\u001b[1;32mC:\\ProgramData\\Anaconda2\\lib\\site-packages\\networkx\\classes\\graph.pyc\u001b[0m in \u001b[0;36m__getitem__\u001b[1;34m(self, n)\u001b[0m\n\u001b[0;32m    456\u001b[0m         \u001b[0mAtlasView\u001b[0m\u001b[1;33m(\u001b[0m\u001b[1;33m{\u001b[0m\u001b[1;36m1\u001b[0m\u001b[1;33m:\u001b[0m \u001b[1;33m{\u001b[0m\u001b[1;33m}\u001b[0m\u001b[1;33m}\u001b[0m\u001b[1;33m)\u001b[0m\u001b[1;33m\u001b[0m\u001b[0m\n\u001b[0;32m    457\u001b[0m         \"\"\"\n\u001b[1;32m--> 458\u001b[1;33m         \u001b[1;32mreturn\u001b[0m \u001b[0mself\u001b[0m\u001b[1;33m.\u001b[0m\u001b[0madj\u001b[0m\u001b[1;33m[\u001b[0m\u001b[0mn\u001b[0m\u001b[1;33m]\u001b[0m\u001b[1;33m\u001b[0m\u001b[0m\n\u001b[0m\u001b[0;32m    459\u001b[0m \u001b[1;33m\u001b[0m\u001b[0m\n\u001b[0;32m    460\u001b[0m     \u001b[1;32mdef\u001b[0m \u001b[0madd_node\u001b[0m\u001b[1;33m(\u001b[0m\u001b[0mself\u001b[0m\u001b[1;33m,\u001b[0m \u001b[0mnode_for_adding\u001b[0m\u001b[1;33m,\u001b[0m \u001b[1;33m**\u001b[0m\u001b[0mattr\u001b[0m\u001b[1;33m)\u001b[0m\u001b[1;33m:\u001b[0m\u001b[1;33m\u001b[0m\u001b[0m\n",
      "\u001b[1;32mC:\\ProgramData\\Anaconda2\\lib\\site-packages\\networkx\\classes\\coreviews.pyc\u001b[0m in \u001b[0;36m__getitem__\u001b[1;34m(self, name)\u001b[0m\n\u001b[0;32m    100\u001b[0m \u001b[1;33m\u001b[0m\u001b[0m\n\u001b[0;32m    101\u001b[0m     \u001b[1;32mdef\u001b[0m \u001b[0m__getitem__\u001b[0m\u001b[1;33m(\u001b[0m\u001b[0mself\u001b[0m\u001b[1;33m,\u001b[0m \u001b[0mname\u001b[0m\u001b[1;33m)\u001b[0m\u001b[1;33m:\u001b[0m\u001b[1;33m\u001b[0m\u001b[0m\n\u001b[1;32m--> 102\u001b[1;33m         \u001b[1;32mreturn\u001b[0m \u001b[0mAdjacencyView\u001b[0m\u001b[1;33m(\u001b[0m\u001b[0mself\u001b[0m\u001b[1;33m.\u001b[0m\u001b[0m_atlas\u001b[0m\u001b[1;33m[\u001b[0m\u001b[0mname\u001b[0m\u001b[1;33m]\u001b[0m\u001b[1;33m)\u001b[0m\u001b[1;33m\u001b[0m\u001b[0m\n\u001b[0m\u001b[0;32m    103\u001b[0m \u001b[1;33m\u001b[0m\u001b[0m\n\u001b[0;32m    104\u001b[0m     \u001b[1;32mdef\u001b[0m \u001b[0mcopy\u001b[0m\u001b[1;33m(\u001b[0m\u001b[0mself\u001b[0m\u001b[1;33m)\u001b[0m\u001b[1;33m:\u001b[0m\u001b[1;33m\u001b[0m\u001b[0m\n",
      "\u001b[1;31mKeyError\u001b[0m: 'a'"
     ]
    }
   ],
   "source": [
    "# (a)\n",
    "\n",
    "Answer = fromDot('''\n",
    "strict graph A {\n",
    "# BEGIN SOLUTION\n",
    "a -- b -- c -- d -- e -- f\n",
    "# END SOLUTION\n",
    "}\n",
    "''')\n",
    "\n",
    "# Check\n",
    "answer(len(Answer) / 2 < len(gatekeepers(Answer)))\n"
   ]
  },
  {
   "cell_type": "markdown",
   "metadata": {},
   "source": [
    "**Explanation a**: linear graph. then all nodes, except at the ends, are essential for a path longer than neighbours."
   ]
  },
  {
   "cell_type": "code",
   "execution_count": null,
   "metadata": {},
   "outputs": [],
   "source": [
    "# (b)\n",
    "\n",
    "Answer = fromDot('''\n",
    "strict graph A {\n",
    "# BEGIN SOLUTION\n",
    "# END SOLUTION\n",
    "}\n",
    "''')\n",
    "\n",
    "# Check\n",
    "answer(len(gatekeepers(Answer)) == 0 and len(local_gatekeepers(Answer)) == len(Answer) and len(Answer)> 0)"
   ]
  },
  {
   "cell_type": "markdown",
   "metadata": {},
   "source": [
    "**Explanation b**: *Add your explanation here*"
   ]
  },
  {
   "cell_type": "markdown",
   "metadata": {},
   "source": [
    "## Advanced Exercise 2.3: Diameter and Average Distance                                                     <a id=\"chapter9\"></a>\n",
    "\n",
    "The diameter of a graph is the maxium distance between any two nodes in this graph. The average distance is, as the term suggests, is the average distance between all pairs of nodes in a graph [p 41].\n",
    "\n",
    "* (p) Complete the functions ``diameter`` and ``avg_distance``. \n",
    "* (a) Give an example of a graph where the diameter of a graph is more than tree times as large as the average distance.\n",
    "* (b) Describe how you could extend your construction from (a) to produce graphs in which the diameter exceeds the average distance by as large as factor as you would like. That is, for every number c, can you produce a graph in which the diameter is more than c times as large as the average distance"
   ]
  },
  {
   "cell_type": "code",
   "execution_count": null,
   "metadata": {},
   "outputs": [],
   "source": [
    "# (p)\n",
    "def diameter(G):\n",
    "    '''\n",
    "    Calculates the diameter of graph\n",
    "    '''\n",
    "    d = 0\n",
    "    # BEGIN SOLUTION\n",
    "    # END SOLUTION\n",
    "    return d\n",
    "\n",
    "def avg_distance(G):\n",
    "    '''\n",
    "    '''\n",
    "    avg = 0\n",
    "    # BEGIN SOLUTION\n",
    "    # END SOLUTION\n",
    "    return avg\n",
    "\n",
    "        "
   ]
  },
  {
   "cell_type": "code",
   "execution_count": null,
   "metadata": {},
   "outputs": [],
   "source": [
    "# Answer (a)\n",
    "# Construct a graph where diameter(Answer) > 3 * avg_distance(Answer)\n",
    "Answer = fromDot('''\n",
    "strict graph A {\n",
    "# BEGIN SOLUTION\n",
    "# END SOLUTION\n",
    "}\n",
    "''')\n",
    "display(draw(Answer))\n",
    "print diameter(Answer)\n",
    "print avg_distance(Answer)\n",
    "# Check\n",
    "answer(diameter(Answer) > 3 * avg_distance(Answer))"
   ]
  },
  {
   "cell_type": "markdown",
   "metadata": {},
   "source": [
    "**Answer (b)**: *Add your explanation here*"
   ]
  },
  {
   "cell_type": "markdown",
   "metadata": {},
   "source": [
    "# Chapter 3: Strong and Weak Ties                                                     <a id=\"chapter10\"></a>\n"
   ]
  },
  {
   "cell_type": "markdown",
   "metadata": {},
   "source": [
    "## Exercise: Triadic Closure                                                     <a id=\"chapter11\"></a>\n",
    "\n",
    "If nodes B and C have a neighbor A in common, the formation of an edge between B and C produces a situation in which A,B,C form a triangle. \n",
    "\n",
    "* (p1): Complete the functions ``trianglesA`` and  ``triangles``.\n",
    "* (p2): Complete the function ``open_triangles``."
   ]
  },
  {
   "cell_type": "code",
   "execution_count": 86,
   "metadata": {},
   "outputs": [
    {
     "data": {
      "text/plain": [
       "['A', 'D']"
      ]
     },
     "execution_count": 86,
     "metadata": {},
     "output_type": "execute_result"
    }
   ],
   "source": [
    "def trianglesA(G,a):\n",
    "    '''\n",
    "    Calculates the number of neighbors of node 'a' that are also neighbors themselves.\n",
    "    '''\n",
    "    results = []\n",
    "    # BEGIN SOLUTION\n",
    "#     print \"fdsfdsf \", G.degree(a)\n",
    "    for ne1 in G[a]:\n",
    "        for ne2 in G[a]:\n",
    "            if ne1 != ne2:\n",
    "                \n",
    "        if G.degree(ne) > 0:\n",
    "            results.append(ne)\n",
    "    # END SOLUTION\n",
    "    return results\n",
    "\n",
    "def triangles(G):\n",
    "    '''\n",
    "    Calculates all open triangles in graph 'G'\n",
    "    '''\n",
    "    results = set()\n",
    "    # BEGIN SOLUTION\n",
    "    # END SOLUTION\n",
    "    return results\n",
    "\n",
    "def open_triangles(G):\n",
    "    '''\n",
    "    Cacluates the number of triades in graph ``G``.\n",
    "    '''\n",
    "    results = []\n",
    "    # BEGIN SOLUTION\n",
    "    # END SOLUTION\n",
    "    return results\n",
    "\n",
    "# Check \n",
    "answer(len(open_triangles(F31)) == 10)\n",
    "\n",
    "# draw(F31)\n",
    "trianglesA(F31, \"C\")"
   ]
  },
  {
   "cell_type": "markdown",
   "metadata": {},
   "source": [
    "## Exercise: Clustering Coefficient                                                     <a id=\"chapter12\"></a>\n",
    "The clustering coefficient of a node 'a' is defined as the probability that two randomly selected neighbors of A are neighbors of each other [p44-45]\n",
    "\n",
    "* (p): Complete the function ``cluster_coefficient`` to calculate the cluster coefficient of a node 'a'."
   ]
  },
  {
   "cell_type": "code",
   "execution_count": null,
   "metadata": {},
   "outputs": [],
   "source": [
    "def cluster_coefficient(G, a):\n",
    "    '''\n",
    "    Calculate the number of neighbors in a triangle divided by the number of neighbors\n",
    "    '''\n",
    "    coef = 0.0\n",
    "    # BEGIN SOLUTION\n",
    "    # END SOLUTION\n",
    "    return coef\n",
    "\n",
    "# Check\n",
    "display(draw(F31))\n",
    "answer(cluster_coefficient(F31, 'C') == 1.0)"
   ]
  },
  {
   "cell_type": "markdown",
   "metadata": {},
   "source": [
    "## Exercise: Bridges                                                     <a id=\"chapter13\"></a>\n",
    "\n",
    "An edge between two nodes A and B is called a bridge if deleting the edge would cause A and B to lie in different components of the resulting graph [p 46]\n",
    "\n",
    "* (p) Complete the function ``bridge`` that checks whehter an edge between a node 'a' and a node 'b' is a bridge. "
   ]
  },
  {
   "cell_type": "code",
   "execution_count": null,
   "metadata": {},
   "outputs": [],
   "source": [
    "def bridge(G, a, b):\n",
    "    ''' \n",
    "    Checks whether an edge between node 'a' and 'b' is a bridge in 'G'.\n",
    "    '''\n",
    "    paths = []\n",
    "    # BEGIN SOLUTION\n",
    "    # END SOLUTION\n",
    "    return not paths\n",
    "\n",
    "# Check\n",
    "answer((bridge(F33, 'A', 'B') == True) and (bridge(F33, 'A', 'C') == False))"
   ]
  },
  {
   "cell_type": "markdown",
   "metadata": {},
   "source": [
    "## Exercise: Local Bridges                                                     <a id=\"chapter14\"></a>\n",
    "\n",
    "An edge joinging two nodes a and b in a graph is a local bridge if its endpoints have no neighbors (besides themselves) in common \n",
    "    \n",
    "* (p) Complete the function ``local_bridge`` that checks whether an edge between node 'a' and node 'b' forms a local bridge."
   ]
  },
  {
   "cell_type": "code",
   "execution_count": null,
   "metadata": {},
   "outputs": [],
   "source": [
    "def local_bridge(G, a, b):\n",
    "    '''\n",
    "    A local bridge is an edge where both ends of the edge have no other neighbor in common. \n",
    "    '''\n",
    "    is_bridge = False\n",
    "    # BEGIN SOLUTION\n",
    "    # END SOLUTION\n",
    "    return is_bridge\n",
    "\n",
    "# Check\n",
    "answer(local_bridge(F34, 'A', 'B') == True)"
   ]
  },
  {
   "cell_type": "markdown",
   "metadata": {},
   "source": [
    "## Exercise: Strong Triadic Closure                                                     <a id=\"chapter15\"></a>\n",
    "\n",
    "Node A violates the Strong Triadic Closure property if it has strong ties to two other nodes\n",
    "B and C and there is no edge at all between B and C. A node fulfills the Strong Triadic Closure propoerty  if it does not violate it. [p 49]\n",
    "\n",
    "* (p) Complete the code of the functions ``violoatStrongTriadicClosure``."
   ]
  },
  {
   "cell_type": "code",
   "execution_count": null,
   "metadata": {},
   "outputs": [],
   "source": [
    "# (p)\n",
    "def violateStrongTriadicClosure(G,a):\n",
    "    # BEGIN SOLUTION\n",
    "    # END SOLUTION\n",
    "    return False\n",
    "\n",
    "def strongTriadicClosure(G,a):\n",
    "    return not violateStrongTriadicClosure(G,a)\n",
    "\n",
    "# Check\n",
    "answer(strongTriadicClosure(F35, 'J') == True)\n",
    "        "
   ]
  },
  {
   "cell_type": "markdown",
   "metadata": {},
   "source": [
    "## Exercise: Neighborhood Overlap                                                     <a id=\"chapter16\"></a>\n",
    "\n",
    "* (p) Complete the function ``neighborhood_overlap`` that calculates the overlap between the neighborhoods of a node 'a' and a node 'b'."
   ]
  },
  {
   "cell_type": "code",
   "execution_count": null,
   "metadata": {},
   "outputs": [],
   "source": [
    "def neighborhood_overlap(G, a, b):\n",
    "    '''\n",
    "    The neighborhood overlap of two nodes a and b is the fraction of neighbors they have in common divided by the \n",
    "    total number of their neighbors.\n",
    "    '''\n",
    "    overlap = - 1.0\n",
    "    # BEGIN SOLUTION\n",
    "    # END SOLUTION\n",
    "    return overlap\n",
    "\n",
    "# Check\n",
    "answer(neighborhood_overlap(F34, 'C', 'A') == 0.75)"
   ]
  },
  {
   "cell_type": "markdown",
   "metadata": {},
   "source": [
    "## Exercise 3.1                                                     <a id=\"chapter17\"></a>\n",
    "In two to three sentences, explain what triadic closure is and how it plays a role in the formation of social networks. You can draw a schematic picture if you find it useful."
   ]
  },
  {
   "cell_type": "markdown",
   "metadata": {},
   "source": [
    "** Answer **: * Add your answer here *"
   ]
  },
  {
   "cell_type": "markdown",
   "metadata": {},
   "source": [
    "## Exercise 3.2                                                     <a id=\"chapter18\"></a>\n",
    "Consider the graph in Figure 3.21, in which each edge - except the edge connecting nodes B and C - is labeled as a strong tie (S) or a weak tie (W). \n",
    "\n",
    "<img src=\"files/fig321.png\">\n",
    "\n",
    "According to the theory of strong and weak ties, using the Strong Triadic Closure assumption, how would you expect the edge between B and C to be labeled. Give a brief one to three sentence explanation for your answer. \n"
   ]
  },
  {
   "cell_type": "markdown",
   "metadata": {},
   "source": [
    "** Answer **: * Add your answer here *"
   ]
  },
  {
   "cell_type": "markdown",
   "metadata": {},
   "source": [
    "## Exercise 3.3                                                     <a id=\"chapter19\"></a>\n",
    "In the social network depicted in Figure 3.22 in which each edge is labeled as either as a strong or weak tie, which nodes satisfy the Strong Triadic Closure property? Provide an explanation for your answer.\n",
    "\n",
    "<img src=\"files/fig322.png\">"
   ]
  },
  {
   "cell_type": "markdown",
   "metadata": {},
   "source": [
    "** Answer **: * Add your answer here *"
   ]
  },
  {
   "cell_type": "markdown",
   "metadata": {},
   "source": [
    "## Exercise 3.4                                                     <a id=\"chapter20\"></a>\n",
    "In the social network depicted in Figure 3.23 with each edge labeled as either a strong or weak tie, which two nodes violate the Strong Triadic Closure Property? Provide an explanation for your answer.\n",
    "\n",
    "<img src=\"files/fig323.png\">"
   ]
  },
  {
   "cell_type": "markdown",
   "metadata": {},
   "source": [
    "** Answer **: * Add your answer here *"
   ]
  },
  {
   "cell_type": "markdown",
   "metadata": {},
   "source": [
    "## Exercise 3.5                                                     <a id=\"chapter21\"></a>\n",
    "In the social network depicted in Figure 3.24, with each edge labeled as either a strong or weak tie, which nodes satisfy the Strong Triadic Closure Property from Chapter 3, and which do not? Provide an explanation for your answer."
   ]
  },
  {
   "cell_type": "markdown",
   "metadata": {},
   "source": [
    "** Answer **: * Add your answer here *"
   ]
  },
  {
   "cell_type": "markdown",
   "metadata": {},
   "source": [
    "# Chapter 4: Network in their Surrounding Context                                                     <a id=\"chapter22\"></a>\n"
   ]
  },
  {
   "cell_type": "markdown",
   "metadata": {},
   "source": [
    "## Advanced Exercise: Homophily                                                     <a id=\"chapter23\"></a>\n",
    "For a binary property b, let $r$ be the fraction $r$ of edges where both ends have different values of $b$ and let $p$ be the fraction of nodes with positive value of property $b$ and $q$ be the fraction of nodes with negative value of $b$. If $r$ is significantly less than $2\\; p\\; q$, then there is evidence of homophily [p.80]. Consider the following graph from Figure 4.2."
   ]
  },
  {
   "cell_type": "code",
   "execution_count": null,
   "metadata": {},
   "outputs": [],
   "source": [
    "draw(F42)"
   ]
  },
  {
   "cell_type": "markdown",
   "metadata": {},
   "source": [
    "** Assignment **\n",
    "\n",
    "* (p) Complete the function ``homophily`` using the property node has fillcolor green (already implemented in the function ``pos``)."
   ]
  },
  {
   "cell_type": "code",
   "execution_count": null,
   "metadata": {},
   "outputs": [],
   "source": [
    "# (p)\n",
    "def pos(G,n):\n",
    "    return G.node[n].get('fillcolor','green') == 'green'\n",
    "\n",
    "def homophily(G):\n",
    "    '''\n",
    "    '''\n",
    "    p,q,r = 0,0,0\n",
    "    # BEGIN SOLUTION\n",
    "    # END SOLUTION\n",
    "    return 2*p*q, r\n",
    "    \n",
    "# Check    \n",
    "answer(homophily(F42) == (0.4444444444444444, 0.25))"
   ]
  },
  {
   "cell_type": "code",
   "execution_count": null,
   "metadata": {},
   "outputs": [],
   "source": []
  }
 ],
 "metadata": {
  "kernelspec": {
   "display_name": "Python 2",
   "language": "python",
   "name": "python2"
  }
 },
 "nbformat": 4,
 "nbformat_minor": 2
}
