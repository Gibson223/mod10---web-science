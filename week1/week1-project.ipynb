{
 "cells": [
  {
   "cell_type": "markdown",
   "metadata": {},
   "source": [
    "# Project Week 1                                     <a id=\"chapter1\"></a>\n",
    "# Table of Contents\n",
    "\n",
    "* [Project Week 1                                    ](#chapter1)\n",
    "* [Student details](#chapter2)\n",
    "* [Project Description                                         ](#chapter3)\n",
    "* [Data                                    ](#chapter4)\n",
    "* [Predictive Power of Tie Strength                                    ](#chapter5)\n",
    "* [Predictive Power of the Number of Open Triades                                    ](#chapter6)\n",
    "* [Ranking Friends of Friends                                    ](#chapter7)\n",
    "* [Under construction                          ](#chapter8)\n"
   ]
  },
  {
   "cell_type": "markdown",
   "metadata": {},
   "source": [
    "# Student details <a id=\"chapter2\"></a>\n",
    "\n",
    "Please enter the student numbers and names in the cell below."
   ]
  },
  {
   "cell_type": "markdown",
   "metadata": {},
   "source": []
  },
  {
   "cell_type": "markdown",
   "metadata": {},
   "source": [
    "# Project Description                                          <a id=\"chapter3\"></a>\n",
    "\n",
    "\n",
    "\n",
    "Faculty employees at research universities have two major activities: teaching and research. The research is often done in collaboration with colleagues, which results in a joint publication. In this project we will analyse collaborations within the EWI department of the University of Twente based on joint publications. Such investigations are important in order to enhance the research results and applications, and in order to allocate the limited funding to the right research groups and topics.\n",
    "\n",
    "We represent each researcher as a vertex of a graph. We draw an undirected edge between two vertexes, if the corresponding two researchers have published a joint paper. The resulting graph is called a collaboration graph. We may label each edge as a weak or strong tie depending on the number of joint papers.\n",
    "In this project we want to verify the following hypotheses:\n",
    "\n",
    "\n",
    "In this project we want to verify the following hypotheses:\n",
    "\n",
    "*\tThe collaborations adhere to the strong triadic closure property: if two researchers A and B both actively collaborate with researcher C, then the chance is high that A and B will collaborate in the future.\n",
    "*\tThe large number of open triades, in which two researchers participate, implies that there is a high probability that the two researchers will collaborate in the future.\n",
    "\n",
    "You task is to explore the given data and make a case whether or not the above hypotheses are true. Additionally, you will have to develop an algorithm that ranks friends of friends by decreasing likelihood of becoming a friend in the future."
   ]
  },
  {
   "cell_type": "code",
   "execution_count": 3,
   "metadata": {
    "pycharm": {
     "is_executing": false
    }
   },
   "outputs": [],
   "source": [
    "# The following includes are needed to work with graphs and display solutions.\n",
    "%matplotlib inline\n",
    "import matplotlib\n",
    "import matplotlib.pyplot as plt\n",
    "import numpy as np\n",
    "import networkx as nx\n",
    "from IPython.display import display\n",
    "from collections import Counter\n",
    "from utils import *\n",
    "from graphs import *\n"
   ]
  },
  {
   "cell_type": "markdown",
   "metadata": {},
   "source": [
    "# Data                                     <a id=\"chapter4\"></a>\n",
    "The project is based on the UT collaboration graph. We made snapshots of the UT collaboration graph upto 1995 and upto 2015. The number of publications written by two researchers is noted as the weight of this edge. The following two statements load the collaborations upto these years:"
   ]
  },
  {
   "cell_type": "code",
   "execution_count": 3,
   "metadata": {
    "collapsed": true,
    "pycharm": {
     "is_executing": false
    }
   },
   "outputs": [],
   "source": [
    "G1995 = fromDot(open('graphs/bib-graph-1995.dot').read())\n",
    "G2015 = fromDot(open('graphs/bib-graph-2015.dot').read())"
   ]
  },
  {
   "cell_type": "markdown",
   "metadata": {},
   "source": [
    "For example, the researcher 283261 collaborated with researcher 176766, 520454, 617192, 729772, and 797848 and wrote with them 1, 6, 1, 5, and 2 papers respectively. This can be seen as follows:"
   ]
  },
  {
   "cell_type": "markdown",
   "metadata": {},
   "source": [
    "# Predictive Power of Tie Strength                                     <a id=\"chapter5\"></a>\n",
    "\n",
    "Show that the probability of a new collaboration to be formed in an open triangle A -- B -- C is increasing with the strength of A -- B and B -- C. The tie strength is defined as $\\frac{(x+y)}{2}$, where $x$ is the number of collaborations between A and B, and $y$ is the number of collaborations between A and C. The probability is defined as the chance that a new edge has formed between B and C between the G1995 and G2015 graph. You can use the pyplot library (imported as *plt*) to draw a graph to illustrate your answer.\n"
   ]
  },
  {
   "cell_type": "code",
   "execution_count": 49,
   "metadata": {
    "collapsed": true,
    "pycharm": {
     "is_executing": false
    }
   },
   "outputs": [],
   "source": [
    "# BEGIN SOLUTION\n",
    "\n",
    "def calc_tie_strength(tie0, tie1):\n",
    "    # tie0 = int(tie0.split('.')[0])\n",
    "    # tie1 = int(tie1.split('.')[1])\n",
    "    return (float(tie0)+float(tie1))/2\n",
    "\n",
    "def get_open_triangles(nodes_set, graph):\n",
    "    results = []\n",
    "    for n0 in nodes_set:\n",
    "        for n1, n2 in [(n1, n2) for n1 in graph[n0] for n2 in graph[n0] if n1 > n2]:  \n",
    "            if n2 not in graph[n1]:\n",
    "                r = tuple(sorted([n1, n0, n2]))\n",
    "                if r not in results: results.append(r)\n",
    "    return results\n",
    "\n",
    "def get_weight(dict_in_dict):\n",
    "    dictionary = dict_in_dict.values()[0]\n",
    "    return dictionary.values()[0]\n",
    "\n",
    "def tie_strength(triple, graph):\n",
    "    a = triple[0]\n",
    "    b = triple[1]\n",
    "    c = triple[2]\n",
    "    edges = []\n",
    "    try:\n",
    "        edges.append(get_weight(graph.get_edge_data(a,b)))\n",
    "    except:\n",
    "        pass\n",
    "    try:\n",
    "        edges.append(get_weight(graph.get_edge_data(a,c)))\n",
    "    except:\n",
    "        pass\n",
    "    try:\n",
    "        edges.append(get_weight(graph.get_edge_data(b,c)))\n",
    "    except:\n",
    "        pass\n",
    "    return calc_tie_strength(edges[0], edges[1])\n",
    "\n",
    "def triangles(graph, n0):\n",
    "    results = []\n",
    "    for n1, n2 in [ (n1, n2) for n1 in graph[n0] for n2 in graph[n0] if n1 > n2 ]:\n",
    "        if n2 in graph[n1]:\n",
    "            r = tuple(sorted([n1, n0, n2]))\n",
    "            if r not in results: results.append(r)\n",
    "    return results\n",
    "\n",
    "def get_closed_triangles(nodes0, graph):\n",
    "    results = set()\n",
    "    for n0 in nodes0:\n",
    "        for r in triangles(graph, n0):\n",
    "           results.add(r)\n",
    "    return results\n",
    "\n",
    "nodes1995 = set(G1995.nodes())\n",
    "nodes2015 = set(G2015.nodes())\n",
    "common_nodes = nodes1995.intersection(nodes2015)\n",
    "\n",
    "tie_strength_list = []\n",
    "for open_triple in get_open_triangles(nodes1995, G1995):\n",
    "    tie_strength_var = tie_strength(open_triple, G1995)\n",
    "    tie_strength_list.append((open_triple, tie_strength_var))\n",
    "\n",
    "closed2015 = get_closed_triangles(common_nodes, G2015)"
   ]
  },
  {
   "cell_type": "code",
   "execution_count": 100,
   "metadata": {
    "pycharm": {
     "is_executing": false,
     "name": "#%%\n"
    }
   },
   "outputs": [
    {
     "name": "stdout",
     "output_type": "stream",
     "text": [
      "Average tie strength of open triangles that stayed open:\n",
      "5.4034777982\n",
      "Average tie strength of open triangles that closed:\n",
      "6.55178837556\n"
     ]
    }
   ],
   "source": [
    "stayed_open = []\n",
    "stayed_open_count = 0\n",
    "stayed_open_total_tie = 0\n",
    "stayed_open_dict = {}\n",
    "went_closed = []\n",
    "went_closed_count = 0\n",
    "went_closed_total_tie = 0\n",
    "went_closed_dict = {}\n",
    "for triangle_triple in tie_strength_list:\n",
    "    if triangle_triple[0] in closed2015:\n",
    "        went_closed.append(triangle_triple)\n",
    "        went_closed_count += 1\n",
    "        went_closed_total_tie += triangle_triple[1]\n",
    "        if triangle_triple[1] in went_closed_dict:\n",
    "            went_closed_dict[triangle_triple[1]] += 1\n",
    "        else:\n",
    "            went_closed_dict[triangle_triple[1]] = 1\n",
    "    else:\n",
    "        stayed_open.append(triangle_triple)\n",
    "        stayed_open_count += 1\n",
    "        stayed_open_total_tie += triangle_triple[1]\n",
    "        if triangle_triple[1] in stayed_open_dict:\n",
    "            stayed_open_dict[triangle_triple[1]] += 1\n",
    "        else:\n",
    "            stayed_open_dict[triangle_triple[1]] = 1\n",
    "\n",
    "stayed_open_avg = stayed_open_total_tie / stayed_open_count\n",
    "print(\"Average tie strength of open triangles that stayed open:\")\n",
    "print(stayed_open_avg)\n",
    "went_closed_avg = went_closed_total_tie / went_closed_count\n",
    "print(\"Average tie strength of open triangles that closed:\")\n",
    "print(went_closed_avg)\n",
    "\n",
    "keys_set = set(went_closed_dict.keys()).union(set(stayed_open_dict.keys()))"
   ]
  },
  {
   "cell_type": "code",
   "execution_count": 141,
   "metadata": {
    "pycharm": {
     "is_executing": false,
     "name": "#%%\n"
    }
   },
   "outputs": [
    {
     "data": {
      "image/png": "[encoded data removed]",
      "text/plain": [
       "<Figure size 432x288 with 1 Axes>"
      ]
     },
     "metadata": {
      "needs_background": "light"
     },
     "output_type": "display_data"
    }
   ],
   "source": [
    "keys_list = list(keys_set)\n",
    "keys_list.sort()\n",
    "keys_list_len = len(keys_list)\n",
    "\n",
    "changed_percentage_list = []\n",
    "cumulative_percentage_list = []\n",
    "\n",
    "range_i = 101\n",
    "for i in range(1, range_i):\n",
    "    percentage = (float(i)/float(range_i))\n",
    "    cumulative_percentage_list.append(percentage)\n",
    "    nr_keys = percentage*keys_list_len\n",
    "    total_changed = 0\n",
    "    total_unchanged = 0\n",
    "    x = 0\n",
    "    while x <= nr_keys:\n",
    "        key = keys_list[x]\n",
    "        if key in went_closed_dict.keys():\n",
    "            total_changed += went_closed_dict[key]\n",
    "        if key in stayed_open_dict.keys():\n",
    "            total_unchanged += stayed_open_dict[key]\n",
    "        x += 1\n",
    "    changed = float(total_changed) / float(total_changed + total_unchanged)\n",
    "    changed_percentage_list.append(changed)\n",
    "    \n",
    "plt.plot(cumulative_percentage_list, changed_percentage_list)\n",
    "\n",
    "plt.xlabel(\"Cumulative percentile\")\n",
    "plt.ylabel(\"Percentile\")\n",
    "plt.figtext(0,-0.1,\"Figure 1: Percentile of open triangles that formed a third edge before 2015, \\nas a function of Cumulative percentile of open triangles in 1995 sorted by ascending tie strength.\")\n",
    "plt.show()"
   ]
  },
  {
   "cell_type": "code",
   "execution_count": 140,
   "metadata": {
    "pycharm": {
     "is_executing": false,
     "name": "#%%\n"
    }
   },
   "outputs": [
    {
     "data": {
      "image/png": "[encoded data removed]",
      "text/plain": [
       "<Figure size 432x288 with 1 Axes>"
      ]
     },
     "metadata": {
      "needs_background": "light"
     },
     "output_type": "display_data"
    }
   ],
   "source": [
    "graph_dict = {}\n",
    "for key in keys_list:\n",
    "    if (key in stayed_open_dict.keys()) and (key in went_closed_dict.keys()):\n",
    "        went_closed_amount = went_closed_dict[key]\n",
    "        stayed_open_amount = stayed_open_dict[key]\n",
    "        percentage = float(went_closed_amount) / float((went_closed_amount + stayed_open_amount))\n",
    "        graph_dict[key] =  percentage\n",
    "    elif key in stayed_open_dict:\n",
    "        graph_dict[key] = 0\n",
    "    else:\n",
    "        graph_dict[key] = 1\n",
    "\n",
    "plt.plot(graph_dict.keys(), graph_dict.values(), 'o')\n",
    "plt.xlabel(\"Tie strength\")\n",
    "plt.ylabel(\"Percentile\")\n",
    "plt.figtext(0,-0.1,\"Figure 2: Percentile of open triangles with a certain tie strength that formed a third edge before 2015, \\nas a function of the tie strength of the open triangles in 1995.\")\n",
    "\n",
    "tl_fit = np.polyfit(graph_dict.keys(), graph_dict.values(), 1)\n",
    "p = np.poly1d(tl_fit)\n",
    "plt.plot(graph_dict.keys(), p(graph_dict.keys()), \"r--\")\n",
    "\n",
    "plt.show()\n",
    "# END SOLUTION"
   ]
  },
  {
   "cell_type": "markdown",
   "metadata": {},
   "source": [
    "# Predictive Power of the Number of Open Triades                                     <a id=\"chapter6\"></a>\n",
    "\n",
    "Evaluate whether the number of open triades influences the probability that a new collaboration is formed between 1995 and 2015. For example, node B and C do not have an edge, but could be connected by A (one open triad), A and D (two open triades) or even A, D and E (three open triades) and so forth."
   ]
  },
  {
   "cell_type": "code",
   "execution_count": null,
   "metadata": {},
   "outputs": [],
   "source": [
    "G1995 = fromDot(open('graphs/bib-graph-1995.dot').read())\n",
    "G2015 = fromDot(open('graphs/bib-graph-2015.dot').read())\n",
    "# inplace removal unnecessary nodes\n",
    "G2015.remove_nodes_from([ n for n in G2015 if (n not in set(G1995.nodes))])"
   ]
  },
  {
   "cell_type": "code",
   "execution_count": 1,
   "metadata": {
    "pycharm": {
     "is_executing": false
    }
   },
   "outputs": [],
   "source": [
    "# answers from tutorial to ensure that is done correctly \n",
    "def trianglesA(G,a):\n",
    "    '''\n",
    "    Calculates the number of neighbors of node 'a' that are also neighbors themselves.\n",
    "    '''\n",
    "    results = []\n",
    "    # BEGIN SOLUTION\n",
    "    for n1, n2 in [ (n1, n2) for n1 in G[a] for n2 in G[a] if n1 > n2 ]:\n",
    "        if n2 in G[n1]:\n",
    "            r = tuple(sorted([n1, a, n2]))\n",
    "            if r not in results: results.append( r )\n",
    "    # END SOLUTION\n",
    "    return results\n",
    "\n",
    "def triangles(G):\n",
    "    '''\n",
    "    Calculates all closed triangles in graph 'G'\n",
    "    '''\n",
    "    results = set()\n",
    "    # BEGIN SOLUTION\n",
    "    for n in G.nodes():\n",
    "        for r in trianglesA(G, n):\n",
    "           results.add( r )\n",
    "    # END SOLUTION\n",
    "    return results\n",
    "\n",
    "def open_triangles(G):\n",
    "    '''\n",
    "    Cacluates the number of triades in graph ``G``.\n",
    "    '''\n",
    "    results = []\n",
    "    # BEGIN SOLUTION\n",
    "    for n in G.nodes():\n",
    "        for n1, n2 in [ (n1, n2) for n1 in G[n] for n2 in G[n] if n1 > n2 ]:  \n",
    "            if n2 not in G[n1]:\n",
    "                r = tuple(sorted([n1, n, n2]))\n",
    "                if r not in results: results.append( r )\n",
    "    # END SOLUTION\n",
    "    return results"
   ]
  },
  {
   "cell_type": "code",
   "execution_count": null,
   "metadata": {},
   "outputs": [],
   "source": [
    "# triples for all open triangles in given datasets\n",
    "open95 = open_triangles(G1995)\n",
    "open15 = open_triangles(G2015)"
   ]
  },
  {
   "cell_type": "code",
   "execution_count": 2,
   "metadata": {},
   "outputs": [
    {
     "ename": "NameError",
     "evalue": "name 'G1995' is not defined",
     "output_type": "error",
     "traceback": [
      "\u001b[1;31m\u001b[0m",
      "\u001b[1;31mNameError\u001b[0mTraceback (most recent call last)",
      "\u001b[1;32m<ipython-input-2-c3941fb6644c>\u001b[0m in \u001b[0;36m<module>\u001b[1;34m()\u001b[0m\n\u001b[0;32m     32\u001b[0m \u001b[1;33m\u001b[0m\u001b[0m\n\u001b[0;32m     33\u001b[0m \u001b[1;31m# triads that did not get closed over time with the amount of shared neighbours\u001b[0m\u001b[1;33m\u001b[0m\u001b[1;33m\u001b[0m\u001b[0m\n\u001b[1;32m---> 34\u001b[1;33m \u001b[0mremained_open\u001b[0m \u001b[1;33m=\u001b[0m \u001b[0mcount_open_triades\u001b[0m\u001b[1;33m(\u001b[0m\u001b[0mG1995\u001b[0m\u001b[1;33m,\u001b[0m \u001b[0mset\u001b[0m\u001b[1;33m(\u001b[0m\u001b[0mopen95\u001b[0m\u001b[1;33m)\u001b[0m\u001b[1;33m.\u001b[0m\u001b[0mintersection\u001b[0m\u001b[1;33m(\u001b[0m\u001b[0mset\u001b[0m\u001b[1;33m(\u001b[0m\u001b[0mopen15\u001b[0m\u001b[1;33m)\u001b[0m\u001b[1;33m)\u001b[0m\u001b[1;33m)\u001b[0m\u001b[1;33m\u001b[0m\u001b[0m\n\u001b[0m\u001b[0;32m     35\u001b[0m \u001b[1;33m\u001b[0m\u001b[0m\n\u001b[0;32m     36\u001b[0m \u001b[0mcountable_dict_open\u001b[0m \u001b[1;33m=\u001b[0m \u001b[0mconvert_dict\u001b[0m\u001b[1;33m(\u001b[0m\u001b[0mremained_open\u001b[0m\u001b[1;33m)\u001b[0m\u001b[1;33m\u001b[0m\u001b[0m\n",
      "\u001b[1;31mNameError\u001b[0m: name 'G1995' is not defined"
     ]
    }
   ],
   "source": [
    "# actual solution\n",
    "# BEGIN SOLUTION\n",
    "def count_open_triades(G, open_triang):\n",
    "    \"\"\"\n",
    "    converts triad tuples (open_triang) to a dictionary of how many common neighbours they have\n",
    "    example ('18282', '883925', '905252') -> ('883925', '905252'): 1\n",
    "    \"\"\"\n",
    "    nodes = dict()\n",
    "    for n1, n2, n3 in open_triang:\n",
    "        if (n2 in G[n1]) and (n3 in G[n1]):\n",
    "            nodes[(n2, n3)] = nodes.get((n2,n3), 0) + 1\n",
    "        elif (n1 in G[n2]) and (n3 in G[n2]):\n",
    "            nodes[(n1, n3)] = nodes.get((n1,n3), 0) + 1\n",
    "        elif (n1 in G[n3]) and (n2 in G[n3]):\n",
    "            nodes[(n1, n2)] = nodes.get((n1,n2), 0) + 1\n",
    "        else:\n",
    "            print n1, n2, n3\n",
    "            print G[n1][n2], G[n2][n1], G[n3][n1], G[n1][n2], G[n2][n3], G[n3][n2]\n",
    "            raise RuntimeError(\"should never happen\")\n",
    "    return nodes\n",
    "\n",
    "def convert_dict(pairs):\n",
    "    \"\"\"\n",
    "    converts ('883925', '905252'): 1 to 1: set(('883925', '905252'), etc, etc)\n",
    "    \"\"\"\n",
    "    value_dict = dict()\n",
    "    for key, value in pairs.items():\n",
    "#         print key, value\n",
    "        value_dict.setdefault(value, [])\n",
    "        value_dict[value].append(key)\n",
    "    return value_dict\n",
    "\n",
    "# triads that did not get closed over time with the amount of shared neighbours\n",
    "remained_open = count_open_triades(G1995, set(open95).intersection(set(open15)))\n",
    "\n",
    "countable_dict_open = convert_dict(remained_open)\n",
    "for key in countable_dict_open:\n",
    "    countable_dict_open[key] = len(countable_dict_open[key])\n",
    "\n",
    "# triads that did close over time with the amount of common neighbours each tuple had in 1995\n",
    "closed = count_open_triades(G1995, set(open95).difference(set(open15)))\n",
    "\n",
    "countable_dict_closed = convert_dict(closed)\n",
    "for key in countable_dict_closed:\n",
    "    countable_dict_closed[key] = len(countable_dict_closed[key])\n",
    "\n",
    "max_both = max(max(countable_dict_open.keys()), max(countable_dict_closed.keys()))\n",
    "\n",
    "totals = dict()\n",
    "for x in range(0,max_both+1):\n",
    "    totals[x] = countable_dict_open.get(x, 0) + countable_dict_closed.get(x, 0)\n",
    "print \"totals\", totals\n",
    "\n",
    "\n",
    "# print closed\n",
    "print len(remained_open), len(closed), sum(closed.values())\n",
    "\n",
    "print \"dict_closed\", countable_dict_closed\n",
    "print countable_dict_closed[9]\n",
    "# END SOLUTION"
   ]
  },
  {
   "cell_type": "code",
   "execution_count": null,
   "metadata": {},
   "outputs": [],
   "source": [
    "a = [(countable_dict_closed.get(x, 0) / float(max(totals[x], 1)))*100 for x in range(0, max_both+1)]\n",
    "y_pos = np.arange(len(range(0, max_both+1)))\n",
    "print a\n",
    "plt.bar(y_pos, a)\n",
    "\n",
    "plt.title(\"correlation for number of open triades tuple and probability of triad being closed over time\")\n",
    "plt.xlabel(\"number of common neighbours through which a closed triad can be obtained\")\n",
    "plt.xticks(range(1, max_both+1))\n",
    "plt.ylabel(\"probability of closure triad (%)\")\n",
    "plt.show()"
   ]
  },
  {
   "cell_type": "code",
   "execution_count": null,
   "metadata": {},
   "outputs": [],
   "source": [
    "a = [(countable_dict_closed.get(x, 0) / float(max(totals[x], 1)))*100 for x in range(0, max_both+1)]\n",
    "y_pos = np.arange(len(range(0, max_both+1)))\n",
    "print a\n",
    "plt.scatter(y_pos, a)\n",
    "\n",
    "plt.title(\"correlation for number of open triades tuple and probability of triad being closed over time\")\n",
    "plt.xlabel(\"# of triads\")\n",
    "plt.xticks(range(1, max_both+1))\n",
    "plt.ylabel(\"probability of closure triad (%)\")\n",
    "plt.show()"
   ]
  },
  {
   "cell_type": "code",
   "execution_count": null,
   "metadata": {},
   "outputs": [],
   "source": [
    "# [countable_dict_closed.get(x, 0) / totals[x] for x in range(1, max_both+1)]\n",
    "for x in range(1, max_both+1):\n",
    "    print x, countable_dict_closed.get(x, 0), totals[x] "
   ]
  },
  {
   "cell_type": "markdown",
   "metadata": {},
   "source": [
    "# Ranking Friends of Friends                                     <a id=\"chapter7\"></a>\n",
    "\n",
    "In this exercise you should apply your knowlege gained from the two previous exercises to answer a common problem in todays social media platforms: given a person, an employee in our case, generate a ranked list of his friends of friends that are likely to become his friends. At the end of the following cell, we provide a code snippet that calculates the precision of your algorithm in predicting future ties in the top-10. "
   ]
  },
  {
   "cell_type": "code",
   "execution_count": null,
   "metadata": {
    "pycharm": {
     "is_executing": false
    }
   },
   "outputs": [],
   "source": [
    "# employees to test\n",
    "nodes = ['943855', '587677', '905252', '839906', '554748', '220387', '456096', '136755', '652488', '617192', '154879', '860536', '127930', '266261', '925761', '334823', '879631', '922044', '485657', '347203']\n",
    "# dictionary mapping an employee to a list of employees with whom he/she collaborated in 2015 and which belonged\n",
    "# to his friends of friends in 1995. \n",
    "result = {'879631': ['587677', '265264', '925761', '860536', '725186', '721127', '142327', '23872', '943855'], '127930': ['26850', '935705', '136755', '659445', '805057', '293364', '681672', '565759', '868762', '596394'], '154879': ['691913', '817338', '659445', '169325', '542646', '644335', '293364', '165240', '485657', '905252', '408618'], '587677': ['879631', '725186', '785747', '70007', '561122', '136755', '721127', '142327', '72828', '334823', '839906', '433369', '943855'], '266261': ['265264', '208388', '70007', '495819', '725186', '839906', '136755', '721127', '142327', '408600'], '860536': ['811970', '879631', '456096', '839906', '396817', '136755', '653075', '72828', '596215', '346572', '922044'], '839906': ['587677', '308351', '860536', '378229', '240448', '379649', '334823', '201753', '565759', '943855', '174262', '922044', '266261'], '347203': ['265464', '578175', '136755', '596215', '220387', '906277', '897180', '652488'], '617192': ['793831', '254964', '522310', '932010', '528813', '922964', '485657', '58492', '694245', '166980', '905252'], '136755': ['811970', '127930', '587677', '266261', '815411', '422460', '860536', '347203', '943855', '691913', '174262', '922044'], '925761': ['879631', '725186', '456096', '70007', '561122', '136803', '596215', '334823', '905252', '943855'], '554748': ['23872', '916957', '659445', '169325', '644335', '293364', '220387', '433369', '943855', '174262', '922044', '652488'], '334823': ['587677', '725186', '785747', '839906', '721127', '142327', '72828', '925761', '943855', '867536'], '220387': ['450166', '571150', '565465', '901612', '554748', '18282', '883925', '347203', '9418', '943855', '265464', '652488'], '485657': ['811970', '154879', '617192', '702341', '41963', '661899', '293364', '668817', '218489'], '905252': ['23872', '742360', '561250', '523695', '222137', '617192', '564846', '925761', '661899', '571150', '154879', '691913', '392536'], '943855': ['265264', '60541', '220387', '14499', '783415', '679997', '811970', '785747', '961828', '587677', '925761', '905502', '561122', '136755', '41963', '554748', '879631', '642974', '725186', '676753', '839906', '213482', '396817', '721127', '576951', '334823', '978812'], '456096': ['206983', '925761', '706765', '860536', '565708', '296067', '902949', '549825', '201753', '961828', '240448', '922044'], '922044': ['456096', '308351', '860536', '839906', '136755', '554748', '433369', '999230', '240448'], '652488': ['602959', '60541', '846007', '143158', '347203', '422460', '14499', '554748', '220387', '265464', '9418']}\n",
    "\n",
    "def fof(G,n):\n",
    "    '''\n",
    "    returns the friends of friends of Node n in Graph G\n",
    "    '''\n",
    "    res = set()\n",
    "    for n1 in G[n]:\n",
    "        res = res | set(G[n1])\n",
    "    res = res - set(G[n])\n",
    "    return res\n",
    "\n",
    "# BEGIN SOLUTION\n",
    "# END SOLUTION\n",
    "\n",
    "def score(n, f):\n",
    "    '''\n",
    "    calculates a score by which potential friends should be sorted\n",
    "    '''\n",
    "    s = 0\n",
    "    # BEGIN SOLUTION\n",
    "    # END SOLUTION\n",
    "    return s\n",
    "\n",
    "# Check \n",
    "topn = 20\n",
    "\n",
    "for n in nodes:\n",
    "    # get all friends of friends and their score\n",
    "    fofG1995 = fof(G1995, n)\n",
    "    l = [(f,score(n,f)) for f in fofG1995 ]\n",
    "    # sort descending by score\n",
    "    l.sort(key=lambda x: -x[1])\n",
    "    # count number of correct results\n",
    "    found = 0\n",
    "    for x,z in l[:topn]:\n",
    "        if x in result[n]:\n",
    "            found += 1            \n",
    "    print n, found / float(topn)"
   ]
  },
  {
   "cell_type": "markdown",
   "metadata": {
    "pycharm": {
     "name": "#%% md\n"
    }
   },
   "source": [
    "**Explanation: ** Add an explanation of your proposed algorithm here."
   ]
  }
 ],
 "metadata": {
  "kernelspec": {
   "display_name": "Python 2",
   "language": "python",
   "name": "python2"
  },
  "language_info": {
   "codemirror_mode": {
    "name": "ipython",
    "version": 2
   },
   "file_extension": ".py",
   "mimetype": "text/x-python",
   "name": "python",
   "nbconvert_exporter": "python",
   "pygments_lexer": "ipython2",
   "version": "2.7.16"
  },
  "pycharm": {
   "stem_cell": {
    "cell_type": "raw",
    "metadata": {
     "collapsed": false
    },
    "source": []
   }
  }
 },
 "nbformat": 4,
 "nbformat_minor": 2
}
