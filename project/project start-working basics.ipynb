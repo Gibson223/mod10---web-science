{
 "cells": [
  {
   "cell_type": "code",
   "execution_count": 1,
   "metadata": {
    "ExecuteTime": {
     "end_time": "2020-01-17T15:59:33.302081Z",
     "start_time": "2020-01-17T15:59:32.378124Z"
    }
   },
   "outputs": [],
   "source": [
    "from random import shuffle\n",
    "import matplotlib.pyplot as plt\n",
    "import numpy as np\n",
    "from numpy.random import shuffle\n",
    "\n",
    "# %matplotlib inline\n",
    "\n",
    "import logging as LG\n",
    "\n",
    "# LG.basicConfig(level=LG.DEBUG,\n",
    "#                     format=' %(message)s %(levelname)',\n",
    "#                     )\n",
    "\n",
    "\n",
    "lg = LG.getLogger(\"python-ajupyter\")\n",
    "\n",
    "N=100_000\n",
    "Default_val = 100"
   ]
  },
  {
   "cell_type": "code",
   "execution_count": 2,
   "metadata": {
    "ExecuteTime": {
     "end_time": "2020-01-17T15:59:33.321938Z",
     "start_time": "2020-01-17T15:59:33.310316Z"
    }
   },
   "outputs": [],
   "source": [
    "def setup(quant: int, val: int) -> np.array:\n",
    "    return np.full(quant, val)"
   ]
  },
  {
   "cell_type": "code",
   "execution_count": 3,
   "metadata": {
    "ExecuteTime": {
     "end_time": "2020-01-17T15:59:33.361528Z",
     "start_time": "2020-01-17T15:59:33.331587Z"
    }
   },
   "outputs": [],
   "source": [
    "def simple_returns(quant=None, retmax=10, ret=None, whole=True) -> np.array:\n",
    "    \"\"\"half makes profit of ret and half loses ret (percentage)\n",
    "    :ret float to indicate max profit, so >= 0\"\"\"\n",
    "    if ret is None:\n",
    "        if whole:\n",
    "            ret = np.random.randint(0,retmax)\n",
    "        else:\n",
    "            ret = np.random.uniform(0,retmax)\n",
    "    lg.debug(\"ret: \" + str(ret) +\" %\")\n",
    "    return np.concatenate((np.full(quant//2, 1+(ret/100)), np.full(quant//2, 1-(ret/100))))\n"
   ]
  },
  {
   "cell_type": "code",
   "execution_count": 11,
   "metadata": {
    "ExecuteTime": {
     "end_time": "2020-01-17T16:00:54.495845Z",
     "start_time": "2020-01-17T16:00:54.489808Z"
    },
    "code_folding": []
   },
   "outputs": [],
   "source": [
    "def simulateSimple(init=None, shuffleOn=True, iterations=10,graph=False, cumulative=False,retmax=10, ret=None, whole=True):\n",
    "    original = iterations\n",
    "    if init is None:\n",
    "        init = setup(N, Default_val)\n",
    "    result = [init]\n",
    "    while iterations > 0:\n",
    "        lg.debug(f\"iteration {original - iterations +1}\")\n",
    "        iterations -= 1\n",
    "        \n",
    "        simpleret = simple_returns(len(init),retmax, ret, whole)\n",
    "        if shuffleOn:\n",
    "            shuffle(simpleret)\n",
    "        comb = np.multiply(init, simpleret)\n",
    "        lg.debug(\"after multiplying: \" + str(comb))\n",
    "        result.append(comb)\n",
    "        init = comb\n",
    "        \n",
    "    draw_graph(result, cumulative=cumulative)\n",
    "    return result"
   ]
  },
  {
   "cell_type": "code",
   "execution_count": 28,
   "metadata": {
    "ExecuteTime": {
     "end_time": "2020-01-17T17:46:58.001088Z",
     "start_time": "2020-01-17T17:46:57.825078Z"
    }
   },
   "outputs": [
    {
     "data": {
      "text/plain": [
       "(None, None)"
      ]
     },
     "execution_count": 28,
     "metadata": {},
     "output_type": "execute_result"
    },
    {
     "data": {
      "image/png": "[encoded data removed]",
      "text/plain": [
       "<Figure size 432x288 with 1 Axes>"
      ]
     },
     "metadata": {
      "needs_background": "light"
     },
     "output_type": "display_data"
    }
   ],
   "source": [
    "def draw_graph(data: np.array(np.array), cumulative=False, log=False, fmt=\".-\", grid=True):\n",
    "#     fig, ax = plt.subplots()\n",
    "    \n",
    "    for i in data:\n",
    "        lg.debug(\"presort \" + str(i))\n",
    "        i.sort()\n",
    "        if cumulative:\n",
    "            og=i\n",
    "            cumulated = np.cumsum(i)\n",
    "            i = np.divide(cumulated, cumulated[-1])\n",
    "            lg.debug(f\"postsort (cumulated={cumulative} (og {og} \\ncumulated{cumulated}\\ni {i} -- {cumulated[-1]})) \")\n",
    "        \n",
    "        plt.grid(True) if grid else plt.grid(False)\n",
    "        plot_in = ([x/len(i) for x in range(1,len(i)+1)],i, fmt)\n",
    "        if log:\n",
    "            plt.loglog(*plot_in)\n",
    "        else:\n",
    "            plt.plot(*plot_in)\n",
    "        break\n",
    "# lg.setLevel(LG.CRITICAL)\n",
    "lg.setLevel(LG.DEBUG)\n",
    "\n",
    "# draw_graph([[1,2,3]], cumulative=True)\n",
    "draw_graph([[2,4,6,8]], cumulative=False),draw_graph([[2,2,2,2]], cumulative=True), #draw_graph([[4,5,6]])"
   ]
  },
  {
   "cell_type": "code",
   "execution_count": 18,
   "metadata": {
    "ExecuteTime": {
     "end_time": "2020-01-17T17:30:31.871169Z",
     "start_time": "2020-01-17T17:30:31.471833Z"
    },
    "scrolled": true
   },
   "outputs": [
    {
     "data": {
      "image/png": "[encoded data removed]",
      "text/plain": [
       "<Figure size 432x288 with 1 Axes>"
      ]
     },
     "metadata": {
      "needs_background": "light"
     },
     "output_type": "display_data"
    }
   ],
   "source": [
    "a = simulateSimple(iterations=20,graph=True, cumulative=True)"
   ]
  },
  {
   "cell_type": "code",
   "execution_count": null,
   "metadata": {
    "ExecuteTime": {
     "end_time": "2020-01-17T15:59:33.516029Z",
     "start_time": "2020-01-17T15:59:32.406Z"
    }
   },
   "outputs": [],
   "source": [
    "np.random.uniform(0,1,2)\n",
    "print(*enumerate([1,2,3]))"
   ]
  },
  {
   "cell_type": "code",
   "execution_count": null,
   "metadata": {
    "ExecuteTime": {
     "end_time": "2020-01-17T15:59:33.517538Z",
     "start_time": "2020-01-17T15:59:32.410Z"
    }
   },
   "outputs": [],
   "source": [
    "np.full(10//2, 1+(10/100))"
   ]
  },
  {
   "cell_type": "code",
   "execution_count": null,
   "metadata": {
    "ExecuteTime": {
     "end_time": "2020-01-17T15:59:33.518414Z",
     "start_time": "2020-01-17T15:59:32.426Z"
    }
   },
   "outputs": [],
   "source": [
    "a = [1,2,3,4]\n",
    "shuffle(a)"
   ]
  },
  {
   "cell_type": "code",
   "execution_count": null,
   "metadata": {
    "ExecuteTime": {
     "end_time": "2020-01-17T15:59:33.519322Z",
     "start_time": "2020-01-17T15:59:32.441Z"
    }
   },
   "outputs": [],
   "source": [
    "print(np.sort(a), a.sort())"
   ]
  },
  {
   "cell_type": "code",
   "execution_count": null,
   "metadata": {
    "ExecuteTime": {
     "end_time": "2020-01-17T15:59:33.520616Z",
     "start_time": "2020-01-17T15:59:32.466Z"
    }
   },
   "outputs": [],
   "source": [
    "b = np.array((1,2,3,4,5))\n",
    "su = np.cumsum(b)\n",
    "su"
   ]
  },
  {
   "cell_type": "code",
   "execution_count": null,
   "metadata": {
    "ExecuteTime": {
     "end_time": "2020-01-17T15:59:33.521862Z",
     "start_time": "2020-01-17T15:59:32.483Z"
    }
   },
   "outputs": [],
   "source": [
    "np.divide(su,su[-1]),su[-1]"
   ]
  },
  {
   "cell_type": "code",
   "execution_count": null,
   "metadata": {
    "ExecuteTime": {
     "end_time": "2020-01-17T15:59:33.522747Z",
     "start_time": "2020-01-17T15:59:32.496Z"
    }
   },
   "outputs": [],
   "source": [
    "f = np.divide([1,2,3],[1,3,6])\n",
    "f, f[2]"
   ]
  },
  {
   "cell_type": "code",
   "execution_count": null,
   "metadata": {
    "ExecuteTime": {
     "end_time": "2020-01-17T15:59:33.523927Z",
     "start_time": "2020-01-17T15:59:32.506Z"
    }
   },
   "outputs": [],
   "source": [
    "lg.warning(\"dfsaf\")\n",
    "\n",
    "lg.debug(\"dfsaf\")\n",
    "print(\"fdsafds\")"
   ]
  },
  {
   "cell_type": "code",
   "execution_count": null,
   "metadata": {
    "ExecuteTime": {
     "end_time": "2020-01-17T15:59:33.525364Z",
     "start_time": "2020-01-17T15:59:32.515Z"
    }
   },
   "outputs": [],
   "source": [
    "lg.getEffectiveLevel()\n",
    "lg."
   ]
  },
  {
   "cell_type": "code",
   "execution_count": null,
   "metadata": {
    "ExecuteTime": {
     "end_time": "2020-01-17T15:59:33.526432Z",
     "start_time": "2020-01-17T15:59:32.524Z"
    }
   },
   "outputs": [],
   "source": [
    "a = np.array([1,2,3,4,5])\n",
    "shuffle(a)\n",
    "a"
   ]
  },
  {
   "cell_type": "code",
   "execution_count": null,
   "metadata": {
    "ExecuteTime": {
     "end_time": "2020-01-17T15:59:33.527505Z",
     "start_time": "2020-01-17T15:59:32.536Z"
    }
   },
   "outputs": [],
   "source": [
    "lg.debug(a)"
   ]
  },
  {
   "cell_type": "code",
   "execution_count": null,
   "metadata": {
    "ExecuteTime": {
     "end_time": "2020-01-17T15:59:33.528561Z",
     "start_time": "2020-01-17T15:59:32.549Z"
    }
   },
   "outputs": [],
   "source": [
    "np.cumsum(a)"
   ]
  },
  {
   "cell_type": "code",
   "execution_count": null,
   "metadata": {
    "ExecuteTime": {
     "end_time": "2020-01-17T15:59:33.529652Z",
     "start_time": "2020-01-17T15:59:32.558Z"
    }
   },
   "outputs": [],
   "source": [
    "lg.callHandlers"
   ]
  },
  {
   "cell_type": "code",
   "execution_count": null,
   "metadata": {
    "ExecuteTime": {
     "end_time": "2020-01-17T13:29:08.634358Z",
     "start_time": "2020-01-17T13:29:08.631548Z"
    }
   },
   "outputs": [],
   "source": []
  },
  {
   "cell_type": "code",
   "execution_count": null,
   "metadata": {},
   "outputs": [],
   "source": []
  }
 ],
 "metadata": {
  "hide_input": false,
  "kernelspec": {
   "display_name": "Python 3",
   "language": "python",
   "name": "python3"
  },
  "language_info": {
   "codemirror_mode": {
    "name": "ipython",
    "version": 3
   },
   "file_extension": ".py",
   "mimetype": "text/x-python",
   "name": "python",
   "nbconvert_exporter": "python",
   "pygments_lexer": "ipython3",
   "version": "3.6.9"
  },
  "varInspector": {
   "cols": {
    "lenName": 16,
    "lenType": 16,
    "lenVar": 40
   },
   "kernels_config": {
    "python": {
     "delete_cmd_postfix": "",
     "delete_cmd_prefix": "del ",
     "library": "var_list.py",
     "varRefreshCmd": "print(var_dic_list())"
    },
    "r": {
     "delete_cmd_postfix": ") ",
     "delete_cmd_prefix": "rm(",
     "library": "var_list.r",
     "varRefreshCmd": "cat(var_dic_list()) "
    }
   },
   "position": {
    "height": "144.85px",
    "left": "1535px",
    "right": "20px",
    "top": "86px",
    "width": "350px"
   },
   "types_to_exclude": [
    "module",
    "function",
    "builtin_function_or_method",
    "instance",
    "_Feature"
   ],
   "window_display": false
  }
 },
 "nbformat": 4,
 "nbformat_minor": 2
}
