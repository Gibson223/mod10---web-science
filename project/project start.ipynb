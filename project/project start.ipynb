{
 "cells": [
  {
   "cell_type": "code",
   "execution_count": 25,
   "metadata": {
    "ExecuteTime": {
     "end_time": "2020-01-19T17:36:12.945571Z",
     "start_time": "2020-01-19T17:36:12.937241Z"
    }
   },
   "outputs": [
    {
     "name": "stdout",
     "output_type": "stream",
     "text": [
      "50\n"
     ]
    }
   ],
   "source": [
    "\n",
    "from random import shuffle\n",
    "import matplotlib.pyplot as plt\n",
    "import numpy as np\n",
    "from numpy.random import shuffle\n",
    "\n",
    "%matplotlib inline\n",
    "\n",
    "import logging as LG\n",
    "\n",
    "LG.basicConfig( #level=LG.DEBUG, # changes for all imports as well\n",
    "               format=\"%(levelname).1s: %(message)s\") # changing here requires restart notebook\n",
    "\n",
    "lg = LG.getLogger(\"python-ajupyter\")\n",
    "print(lg.getEffectiveLevel())\n",
    "lg.setLevel(LG.DEBUG)\n",
    "\n",
    "# lg.debug('This is a debug message')\n",
    "# lg.info('This is an info message')\n",
    "# lg.warning('This is a warning message')\n",
    "# lg.error('This is an error message')\n",
    "# lg.critical('This is a critical message')\n",
    "N=100_000\n",
    "Default_val = 100"
   ]
  },
  {
   "cell_type": "code",
   "execution_count": 2,
   "metadata": {
    "ExecuteTime": {
     "end_time": "2020-01-18T20:13:32.124831Z",
     "start_time": "2020-01-18T20:13:32.121759Z"
    }
   },
   "outputs": [],
   "source": [
    "from ipywidgets import interact, interactive, fixed, interact_manual, widgets"
   ]
  },
  {
   "cell_type": "code",
   "execution_count": 3,
   "metadata": {
    "ExecuteTime": {
     "end_time": "2020-01-18T20:13:32.129787Z",
     "start_time": "2020-01-18T20:13:32.126349Z"
    }
   },
   "outputs": [],
   "source": [
    "def setup(quant: int, val: int) -> np.array:\n",
    "    return np.full(quant, val)"
   ]
  },
  {
   "cell_type": "code",
   "execution_count": 4,
   "metadata": {
    "ExecuteTime": {
     "end_time": "2020-01-18T20:13:32.136604Z",
     "start_time": "2020-01-18T20:13:32.131456Z"
    }
   },
   "outputs": [],
   "source": [
    "def simple_returns(quant=None, retmax=10, ret=None, whole=True) -> np.array:\n",
    "    \"\"\"half makes profit of ret and half loses ret (percentage)\n",
    "    :ret float to indicate max profit, so >= 0\"\"\"\n",
    "    if ret is None:\n",
    "        if whole:\n",
    "            ret = np.random.randint(0,retmax)\n",
    "        else:\n",
    "            ret = np.random.uniform(0,retmax)\n",
    "    lg.debug(\"ret: \" + str(ret) +\" %\")\n",
    "    return np.concatenate((np.full(quant//2, 1+(ret/100)), np.full(quant//2, 1-(ret/100))))\n"
   ]
  },
  {
   "cell_type": "code",
   "execution_count": 46,
   "metadata": {
    "ExecuteTime": {
     "end_time": "2020-01-20T11:21:51.409617Z",
     "start_time": "2020-01-20T11:21:50.933409Z"
    },
    "code_folding": []
   },
   "outputs": [
    {
     "data": {
      "application/vnd.jupyter.widget-view+json": {
       "model_id": "e59b126c243849faacc13fba159117fb",
       "version_major": 2,
       "version_minor": 0
      },
      "text/plain": [
       "interactive(children=(Checkbox(value=True, description='shuffleOn'), IntText(value=0, description='iterations'…"
      ]
     },
     "metadata": {},
     "output_type": "display_data"
    }
   ],
   "source": [
    "@interact(ret=widgets.IntText(continuous_update=False, value=-101), iterations=widgets.IntText(), steps=(1,100,5))\n",
    "def simulateSimple( shuffleOn=True, iterations=10,graph=False, \n",
    "                   cumulative=False,retmax=10, ret=-101, whole=True, steps=1, days_legend=True):\n",
    "    original = iterations\n",
    "    \n",
    "    init = setup(N, Default_val)\n",
    "    \n",
    "    result = [init]\n",
    "    while iterations > 0:\n",
    "        lg.debug(f\"iteration {original - iterations +1}\")\n",
    "        iterations -= 1\n",
    "        \n",
    "        simpleret = simple_returns(len(init),retmax, ret if ret != -101 else None, whole)\n",
    "        if shuffleOn:\n",
    "            shuffle(simpleret)\n",
    "        comb = np.multiply(init, simpleret)\n",
    "        lg.debug(\"after multiplying: \" + str(comb))\n",
    "        result.append(comb)\n",
    "        init = comb\n",
    "        \n",
    "    draw_graph(result, cumulative=cumulative, steps=steps, days_legend=days_legend)\n",
    "    return result"
   ]
  },
  {
   "cell_type": "code",
   "execution_count": 44,
   "metadata": {
    "ExecuteTime": {
     "end_time": "2020-01-20T11:20:18.871849Z",
     "start_time": "2020-01-20T11:20:18.651872Z"
    },
    "code_folding": []
   },
   "outputs": [
    {
     "name": "stderr",
     "output_type": "stream",
     "text": [
      "D: presort [2, 4, 6, 8]\n"
     ]
    },
    {
     "data": {
      "image/png": "[encoded data removed]",
      "text/plain": [
       "<Figure size 432x288 with 1 Axes>"
      ]
     },
     "metadata": {
      "needs_background": "light"
     },
     "output_type": "display_data"
    }
   ],
   "source": [
    "def draw_graph(data: np.array(np.array), cumulative=False, \n",
    "               log=False, fmt=\".-\", grid=True, days_legend=True, steps=1):\n",
    "    \n",
    "    fig, ax = plt.subplots()\n",
    "    \n",
    "    for year, i in list(enumerate(data, 1))[::steps]:\n",
    "        lg.debug(\"presort \" + str(i))\n",
    "        i.sort()\n",
    "        if cumulative:\n",
    "            og=i\n",
    "            cumulated = np.cumsum(i)\n",
    "            i = np.divide(cumulated, cumulated[-1])\n",
    "            lg.debug(f\"postsort (cumulated={cumulative} (og {og} \\ncumulated{cumulated}\\ni {i} -- {cumulated[-1]})) \")\n",
    "        \n",
    "        ax.grid(True) if grid else plt.grid(False)\n",
    "        plot_in =([x/len(i) for x in range(1,len(i)+1)],i, fmt)#, label:f\"year {year}\"}\n",
    "#         print(plot_in)\n",
    "        if log:\n",
    "            ax.loglog(*plot_in)\n",
    "        else:\n",
    "            ax.plot(*plot_in, linewidth=0.5)\n",
    "    fig.savefig(\"test.png\")\n",
    "#     return fig\n",
    "\n",
    "\n",
    "draw_graph([[2,4,6,8]], cumulative=False)\n",
    "\n",
    "# draw_graph([[2,4,6,8]], cumulative=False),draw_graph([[2,2,2,2]], cumulative=True), #draw_graph([[4,5,6]])\n",
    "\n",
    "# x, y = (draw_graph([[2,4,6,8]], cumulative=False),draw_graph([[2,2,2,2]], cumulative=True))"
   ]
  },
  {
   "cell_type": "code",
   "execution_count": 7,
   "metadata": {
    "ExecuteTime": {
     "end_time": "2020-01-18T20:13:35.955952Z",
     "start_time": "2020-01-18T20:13:32.485939Z"
    },
    "collapsed": true
   },
   "outputs": [
    {
     "name": "stderr",
     "output_type": "stream",
     "text": [
      "D: iteration 1\n",
      "D: ret: 3 %\n",
      "D: after multiplying: [103.  97.  97. ... 103.  97. 103.]\n",
      "D: iteration 2\n",
      "D: ret: 5 %\n",
      "D: after multiplying: [108.15  92.15 101.85 ...  97.85  92.15  97.85]\n",
      "D: iteration 3\n",
      "D: ret: 5 %\n",
      "D: after multiplying: [113.5575  87.5425 106.9425 ... 102.7425  87.5425  92.9575]\n",
      "D: iteration 4\n",
      "D: ret: 7 %\n",
      "D: after multiplying: [105.608475  81.414525  99.456525 ... 109.934475  93.670475  86.450475]\n",
      "D: iteration 5\n",
      "D: ret: 5 %\n",
      "D: after multiplying: [110.88889875  85.48525125  94.48369875 ... 115.43119875  88.98695125\n",
      "  90.77299875]\n",
      "D: iteration 6\n",
      "D: ret: 8 %\n",
      "D: after multiplying: [119.76001065  92.32407135 102.04239465 ... 106.19670285  96.10590735\n",
      "  83.51115885]\n",
      "D: iteration 7\n",
      "D: ret: 2 %\n",
      "D: after multiplying: [117.36481044  90.47758992 100.00154676 ... 104.07276879  94.1837892\n",
      "  81.84093567]\n",
      "D: iteration 8\n",
      "D: ret: 5 %\n",
      "D: after multiplying: [111.49656992  85.95371043  95.00146942 ...  98.86913035  98.89297866\n",
      "  77.74888889]\n",
      "D: iteration 9\n",
      "D: ret: 8 %\n",
      "D: after multiplying: [102.57684432  79.07741359 102.60158697 ...  90.95959993  90.98154037\n",
      "  71.52897778]\n",
      "D: iteration 10\n",
      "D: ret: 5 %\n",
      "D: after multiplying: [107.70568654  75.12354291  97.47150762 ...  86.41161993  86.43246335\n",
      "  67.95252889]\n",
      "D: iteration 11\n",
      "D: ret: 8 %\n",
      "D: after multiplying: [116.32214146  81.13342635 105.26922823 ...  79.49869033  93.34706042\n",
      "  62.51632658]\n",
      "D: iteration 12\n",
      "D: ret: 9 %\n",
      "D: after multiplying: [126.79113419  73.83141797 114.74345878 ...  72.3438082  101.74829586\n",
      "  68.14279597]\n",
      "D: iteration 13\n",
      "D: ret: 0 %\n",
      "D: after multiplying: [126.79113419  73.83141797 114.74345878 ...  72.3438082  101.74829586\n",
      "  68.14279597]\n",
      "D: iteration 14\n",
      "D: ret: 3 %\n",
      "D: after multiplying: [122.98740017  76.04636051 111.30115501 ...  70.17349396  98.69584698\n",
      "  70.18707985]\n",
      "D: iteration 15\n",
      "D: ret: 1 %\n",
      "D: after multiplying: [121.75752617  76.80682412 110.18814346 ...  69.47175902  97.70888851\n",
      "  69.48520905]\n",
      "D: iteration 16\n",
      "D: ret: 3 %\n",
      "D: after multiplying: [118.10480038  79.11102884 113.49378777 ...  71.55591179  94.77762186\n",
      "  67.40065278]\n",
      "D: iteration 17\n",
      "D: ret: 3 %\n",
      "D: after multiplying: [121.64794439  81.48435971 116.8986014  ...  69.40923444  97.62095051\n",
      "  69.42267236]\n",
      "D: iteration 18\n",
      "D: ret: 0 %\n",
      "D: after multiplying: [121.64794439  81.48435971 116.8986014  ...  69.40923444  97.62095051\n",
      "  69.42267236]\n",
      "D: iteration 19\n",
      "D: ret: 2 %\n",
      "D: after multiplying: [119.2149855   83.1140469  119.23657343 ...  68.02104975  95.6685315\n",
      "  68.03421892]\n",
      "D: iteration 20\n",
      "D: ret: 0 %\n",
      "D: after multiplying: [119.2149855   83.1140469  119.23657343 ...  68.02104975  95.6685315\n",
      "  68.03421892]\n",
      "D: presort [100 100 100 ... 100 100 100]\n",
      "D: postsort (cumulated=True (og [100 100 100 ... 100 100 100] \n",
      "cumulated[     100      200      300 ... 49999800 49999900 50000000]\n",
      "i [2.00000e-06 4.00000e-06 6.00000e-06 ... 9.99996e-01 9.99998e-01\n",
      " 1.00000e+00] -- 50000000)) \n",
      "D: presort [116.32214146  81.13342635 105.26922823 ...  79.49869033  93.34706042\n",
      "  62.51632658]\n",
      "D: postsort (cumulated=True (og [ 53.26749417  53.26749417  53.26749417 ... 180.73361525 180.73361525\n",
      " 180.73361525] \n",
      "cumulated[5.32674942e+01 1.06534988e+02 1.59802483e+02 ... 5.00020926e+07\n",
      " 5.00022733e+07 5.00024541e+07]\n",
      "i [1.06529760e-06 2.13059519e-06 3.19589279e-06 ... 9.99992771e-01\n",
      " 9.99996386e-01 1.00000000e+00] -- 50002454.08156734)) \n",
      "IOPub data rate exceeded.\n",
      "The notebook server will temporarily stop sending output\n",
      "to the client in order to avoid crashing it.\n",
      "To change this limit, set the config variable\n",
      "`--NotebookApp.iopub_data_rate_limit`.\n",
      "\n",
      "Current values:\n",
      "NotebookApp.iopub_data_rate_limit=1000000.0 (bytes/sec)\n",
      "NotebookApp.rate_limit_window=3.0 (secs)\n",
      "\n"
     ]
    },
    {
     "data": {
      "image/png": "[encoded data removed]",
      "text/plain": [
       "<Figure size 432x288 with 1 Axes>"
      ]
     },
     "metadata": {
      "needs_background": "light"
     },
     "output_type": "display_data"
    }
   ],
   "source": [
    "a = simulateSimple(iterations=20,graph=True, cumulative=True, steps=11)"
   ]
  },
  {
   "cell_type": "code",
   "execution_count": 10,
   "metadata": {
    "ExecuteTime": {
     "end_time": "2020-01-18T20:14:31.833135Z",
     "start_time": "2020-01-18T20:14:31.642960Z"
    }
   },
   "outputs": [
    {
     "data": {
      "application/vnd.jupyter.widget-view+json": {
       "model_id": "da3ef447b62e4342bc485cd0c1875d1b",
       "version_major": 2,
       "version_minor": 0
      },
      "text/plain": [
       "interactive(children=(Dropdown(description='x', options={'1-4': [1, 2, 3, 4], '5-8': [5, 6, 7, 8]}, value=[1, …"
      ]
     },
     "metadata": {},
     "output_type": "display_data"
    }
   ],
   "source": [
    "@interact(x={\"1-4\":[1,2,3,4], \"5-8\":[5,6,7,8]}, y=[[10,20,30,40]], z=widgets.Text(continuous_update=False))\n",
    "def lala(x, y,z=\"\"):\n",
    "    if z is not \"\":\n",
    "        x = np.fromstring(z, dtype=np.float, sep=' ')\n",
    "    plt.plot(x,y)"
   ]
  },
  {
   "cell_type": "code",
   "execution_count": 20,
   "metadata": {
    "ExecuteTime": {
     "end_time": "2020-01-18T20:54:46.437915Z",
     "start_time": "2020-01-18T20:54:46.430450Z"
    }
   },
   "outputs": [],
   "source": [
    "lg.setLevel(LG.CRITICAL)"
   ]
  },
  {
   "cell_type": "code",
   "execution_count": null,
   "metadata": {},
   "outputs": [],
   "source": []
  }
 ],
 "metadata": {
  "hide_input": false,
  "kernelspec": {
   "display_name": "Python 3",
   "language": "python",
   "name": "python3"
  },
  "language_info": {
   "codemirror_mode": {
    "name": "ipython",
    "version": 3
   },
   "file_extension": ".py",
   "mimetype": "text/x-python",
   "name": "python",
   "nbconvert_exporter": "python",
   "pygments_lexer": "ipython3",
   "version": "3.6.9"
  },
  "varInspector": {
   "cols": {
    "lenName": 16,
    "lenType": 16,
    "lenVar": 40
   },
   "kernels_config": {
    "python": {
     "delete_cmd_postfix": "",
     "delete_cmd_prefix": "del ",
     "library": "var_list.py",
     "varRefreshCmd": "print(var_dic_list())"
    },
    "r": {
     "delete_cmd_postfix": ") ",
     "delete_cmd_prefix": "rm(",
     "library": "var_list.r",
     "varRefreshCmd": "cat(var_dic_list()) "
    }
   },
   "position": {
    "height": "144.85px",
    "left": "1535px",
    "right": "20px",
    "top": "86px",
    "width": "350px"
   },
   "types_to_exclude": [
    "module",
    "function",
    "builtin_function_or_method",
    "instance",
    "_Feature"
   ],
   "window_display": false
  },
  "widgets": {
   "application/vnd.jupyter.widget-state+json": {
    "state": {},
    "version_major": 2,
    "version_minor": 0
   }
  }
 },
 "nbformat": 4,
 "nbformat_minor": 2
}
