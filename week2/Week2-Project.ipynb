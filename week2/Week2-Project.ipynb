{
 "cells": [
  {
   "cell_type": "code",
   "execution_count": 164,
   "metadata": {
    "pycharm": {
     "is_executing": false
    }
   },
   "outputs": [],
   "source": [
    "%matplotlib inline\n",
    "import matplotlib\n",
    "import matplotlib.pyplot as plt\n",
    "import numpy as np\n",
    "import networkx as nx\n",
    "from IPython.display import display\n",
    "from collections import Counter"
   ]
  },
  {
   "cell_type": "code",
   "execution_count": 165,
   "metadata": {
    "pycharm": {
     "is_executing": false
    }
   },
   "outputs": [],
   "source": [
    "# spider trap avoidance factor\n",
    "beta = 0.85\n",
    "# all n connect bidirectional to each other n, and bidirectional to each p\n",
    "number_n = 3\n",
    "# all p connect bidirectional to each n, and directional from p to t\n",
    "number_p = 1\n",
    "# all f connect bidirectional to each t\n",
    "number_f = 1\n",
    "\n",
    "# DO NOT CHANGE BELOW\n",
    "number_t = 1"
   ]
  },
  {
   "cell_type": "code",
   "execution_count": 166,
   "outputs": [],
   "source": [
    "# start from 1st week utils.py file\n",
    "\n",
    "import matplotlib.pyplot as plt\n",
    "import IPython\n",
    "from IPython.display import SVG\n",
    "from IPython.display import HTML\n",
    "from IPython.display import display\n",
    "import networkx as nx\n",
    "import StringIO\n",
    "from networkx.drawing.nx_pydot import read_dot\n",
    "from networkx.drawing.nx_pydot import from_pydot\n",
    "from networkx.drawing.nx_agraph import to_agraph\n",
    "import pydot\n",
    "\n",
    "def toGraph(g):\n",
    "    G = nx.Graph()\n",
    "    for n in g:\n",
    "        for n2 in g[n]:\n",
    "            G.add_edge(n,n2)\n",
    "    return G\n",
    "\n",
    "def fromDot(s):\n",
    "  P_list = pydot.graph_from_dot_data(s)\n",
    "  return from_pydot(P_list[0])\n",
    "\n",
    "def nM(d):\n",
    "    '''Generate node labeler from dictionary''' \n",
    "    def m(n, N):\n",
    "        if n in d:\n",
    "            N.attr['label'] = n + ' ' + str(d[n])\n",
    "    return m\n",
    "def eM(d):\n",
    "    '''Generate edge labeler from dictionary''' \n",
    "    def m(e, E):\n",
    "        if e in d:\n",
    "            E.attr['label'] = str(d[e])\n",
    "    return m\n",
    "\n",
    "def draw(G, mapping=None, emapping=None):\n",
    "    '''draw graph with node mapping and emapping''' \n",
    "    A=to_agraph(G)\n",
    "    A.graph_attr['overlap']='False'\n",
    "    if mapping:\n",
    "        if isinstance(mapping, dict):\n",
    "            mapping = nM(mapping)\n",
    "        for n in A.nodes():\n",
    "            mapping(n, A.get_node(n))\n",
    "    if emapping:\n",
    "        if isinstance(emapping, dict):\n",
    "            emapping = eM(emapping)\n",
    "        for e in A.edges():\n",
    "            emapping(e, A.get_edge(e[0],e[1]))\n",
    "    A.layout()\n",
    "    output = StringIO.StringIO()\n",
    "    A.draw(output, format='svg')\n",
    "    return SVG(data=output.getvalue())\n",
    "\n",
    "# end from 1st week utils.py file"
   ],
   "metadata": {
    "collapsed": false,
    "pycharm": {
     "name": "#%%\n",
     "is_executing": false
    }
   }
  },
  {
   "cell_type": "code",
   "execution_count": 167,
   "metadata": {
    "pycharm": {
     "is_executing": false
    }
   },
   "outputs": [],
   "source": [
    "# matrix rows and cols order: all n, then all p, then t, then all f\n",
    "# example rows: n1 n2 n3 p1 p2 t f1 f2\n",
    "# returns numpy matrix\n",
    "def setup_matrix():\n",
    "    # number of outgoing connections\n",
    "    out_connections_n = number_n + number_p - 1\n",
    "    out_connections_p = number_n + number_p\n",
    "    out_connections_t = number_f\n",
    "    out_connections_f = number_t\n",
    "\n",
    "    # first node of type at index\n",
    "    first_n = 0\n",
    "    first_p = first_n + number_n\n",
    "    first_t = first_p + number_p\n",
    "    first_f = first_t + number_t\n",
    "    total_size = first_f + number_f\n",
    "\n",
    "    # ranges\n",
    "    range_n = range(first_p)\n",
    "    range_p = range(first_p, first_t)\n",
    "    range_t = range(first_t, first_f)\n",
    "    range_f = range(first_f, total_size)\n",
    "\n",
    "    # probability of randomly taking each outgoing connection\n",
    "    p_n = float(1)/out_connections_n\n",
    "    p_p = float(1)/out_connections_p\n",
    "    p_t = float(1)/out_connections_t\n",
    "    p_f = float(1)/out_connections_f\n",
    "\n",
    "    # make a numpy matrix of total_size by total_size\n",
    "    matrix = np.zeros((total_size, total_size))\n",
    "    # matrix = np.matrix(matrix)\n",
    "\n",
    "    for x in range(total_size):\n",
    "        if x in range_n:\n",
    "            # all n go to all n\n",
    "            for y in range_n:\n",
    "                if x != y:\n",
    "                    matrix.put((y*total_size + x), p_n)\n",
    "            # all n go to all p\n",
    "            for y in range_p:\n",
    "                matrix.put((y*total_size + x), p_n)\n",
    "\n",
    "        elif x in range_p:\n",
    "            # all p go to all p\n",
    "            for y in range_p:\n",
    "                if x != y:\n",
    "                    matrix.put((y*total_size + x), p_p)\n",
    "            # all p go to all n\n",
    "            for y in range_n:\n",
    "                matrix.put((y*total_size + x), p_p)\n",
    "\n",
    "        elif x in range_t:\n",
    "            # all t go to f\n",
    "            for y in range_f:\n",
    "                matrix.put((y*total_size + x), p_t)\n",
    "\n",
    "        elif x in range_f:\n",
    "            # all f to to all t\n",
    "            for y in range_t:\n",
    "                matrix.put((y*total_size + x), p_f)\n",
    "\n",
    "    return matrix\n",
    "\n",
    "# generates a matrix from a graph \n",
    "# matrix can be a float matrix for PageRank, or a 0,1 matrix for HITS when hts=true\n",
    "# returns a matrix, together with a dictionary which maps each axis index onto a node\n",
    "def setup_matrix_with_graph(graph, hts=False):\n",
    "    axis_len = len(graph.nodes())\n",
    "    matrix = np.zeros((axis_len, axis_len))\n",
    "    # matrix = np.matrix(matrix)\n",
    "\n",
    "    nodes_dict = {}\n",
    "    inverted_dict = {}\n",
    "    number = 0\n",
    "    # first assign each node a number \n",
    "    for node in sorted(graph.nodes()):\n",
    "        nodes_dict[node] = number\n",
    "        inverted_dict[number] = node\n",
    "        number += 1\n",
    "    # then setup matrix with those numbers as x or y\n",
    "    for x_node in graph.nodes():\n",
    "        x_number = nodes_dict[x_node]\n",
    "        number_neighbours = len(graph[x_node])\n",
    "        if number_neighbours == 0:\n",
    "            if not hts:\n",
    "                # make circular to avoid spider traps\n",
    "                matrix.put((x_number*axis_len + x_number), 1)\n",
    "        else:\n",
    "            out_probability = float(1)/number_neighbours\n",
    "            for y_node in graph[x_node]:\n",
    "                y_number = nodes_dict[y_node]\n",
    "                if hts:\n",
    "                    matrix.put((y_number*axis_len + x_number), 1)\n",
    "                else:\n",
    "                    matrix.put((y_number*axis_len + x_number), out_probability)\n",
    "                    \n",
    "    # PageRank matrix goes from x to y\n",
    "    # HITS matrix goes from y to x\n",
    "    # However, matrix is always made from x to y\n",
    "    # So, if hts=true, then transpose the matrix to get the correct result matrix\n",
    "    if hts:\n",
    "        matrix = np.transpose(matrix)\n",
    "\n",
    "    return matrix, nodes_dict"
   ]
  },
  {
   "cell_type": "code",
   "execution_count": 168,
   "metadata": {
    "pycharm": {
     "is_executing": false
    }
   },
   "outputs": [],
   "source": [
    "def converge_first(matrix, b):\n",
    "    matrix_size = len(matrix)\n",
    "\n",
    "    vertex = np.full((matrix_size, 1), float(1)/matrix_size)\n",
    "    # vertex = np.matrix(vertex)\n",
    "    \n",
    "    first = np.dot(matrix, vertex)\n",
    "    first = np.multiply(b, first)\n",
    "    second = np.multiply(1-b, vertex)\n",
    "\n",
    "    result = np.add(first, second)\n",
    "    return result\n",
    "\n",
    "def converge(matrix, b, vertex):\n",
    "    matrix_size = len(matrix)\n",
    "    one_div_n = float(1)/matrix_size\n",
    "    \n",
    "    first1 = np.dot(matrix, vertex)\n",
    "    first2 = np.multiply(b, first1)\n",
    "    second = np.multiply(1-b, one_div_n)\n",
    "\n",
    "    result = np.add(first2, second)\n",
    "    return result\n",
    "\n",
    "def normalize(matrix):\n",
    "    maximum = matrix.max()\n",
    "    result = np.divide(matrix, maximum)\n",
    "    return result\n",
    "\n",
    "# get hubs and authorities from hubs and a matrix with a given hub\n",
    "def converge_hits(matrix, h):\n",
    "    matrix_t = np.transpose(matrix)\n",
    "    \n",
    "    mth = np.dot(matrix_t, h)\n",
    "    a = normalize(mth)\n",
    "    \n",
    "    ma = np.dot(matrix, a)\n",
    "    h = normalize(ma)\n",
    "    return h,a\n",
    "\n",
    "# get hubs and authorities from hubs and a matrix\n",
    "def converge_hits_first(matrix):\n",
    "    matrix_size = len(matrix)\n",
    "    \n",
    "    h = np.ones((matrix_size, 1))\n",
    "    matrix_t = np.transpose(matrix)\n",
    "    mth = np.dot(matrix_t, h)\n",
    "    a = normalize(mth)\n",
    "    \n",
    "    ma = np.dot(matrix, a)\n",
    "    h = normalize(ma)\n",
    "    \n",
    "    return h,a"
   ]
  },
  {
   "cell_type": "code",
   "execution_count": 169,
   "metadata": {
    "pycharm": {
     "is_executing": false
    }
   },
   "outputs": [],
   "source": [
    "def run_test():\n",
    "    b = 1\n",
    "    test_matrix = np.matrix([[0, float(1)/2, 0, 0], \n",
    "                        [float(1)/3, 0, 0, float(1)/2], \n",
    "                        [float(1)/3, 0, 1, float(1)/2], \n",
    "                        [float(1)/3, float(1)/2, 0, 0]])\n",
    "    print(test_matrix)\n",
    "    \n",
    "    old_result = converge_first(test_matrix, b)\n",
    "    result = converge(test_matrix, b, old_result)\n",
    "    print(\"first calculation: \", result)\n",
    "    \n",
    "    while not np.array_equal(result, old_result):\n",
    "        old_result = result\n",
    "        result = converge(test_matrix, b, old_result)\n",
    "\n",
    "    return result\n",
    "\n",
    "def run_program(b = 1):\n",
    "    matrix = setup_matrix()\n",
    "    old_result = converge_first(matrix, b)\n",
    "    result = converge(matrix, b, old_result)\n",
    "    while not np.array_equal(result, old_result):\n",
    "        old_result = result\n",
    "        result = converge(matrix, 1, old_result)\n",
    "\n",
    "    return result\n",
    "        \n",
    "def run_program_with_matrix(m, b=1):\n",
    "    old_result = converge_first(m, b)\n",
    "    result = converge(m, b, old_result)\n",
    "    \n",
    "    # use around to round to two decimals, as to not loop indefinitely for some graphs\n",
    "    while not np.array_equal(np.around(result, 2), np.around(old_result, 2)):\n",
    "        old_result = result\n",
    "        result = converge(m, b, old_result)\n",
    "\n",
    "    return result\n",
    "      \n",
    "def run_hits_with_matrix(m):\n",
    "    h, a = converge_hits_first(m)\n",
    "    old_h = None\n",
    "    \n",
    "    while not np.array_equal(h, old_h):\n",
    "        old_h = h\n",
    "        h, a = converge_hits(m, old_h)\n",
    "\n",
    "    return h, a\n",
    "\n",
    "def run_indegree_with_matrix(m):\n",
    "    ones = np.ones((len(m), 1))\n",
    "    result = np.dot(m, ones)\n",
    "    return result"
   ]
  },
  {
   "cell_type": "code",
   "execution_count": 170,
   "metadata": {
    "pycharm": {
     "is_executing": false
    }
   },
   "outputs": [
    {
     "name": "stdout",
     "text": [
      "[[0.         0.5        0.         0.        ]\n [0.33333333 0.         0.         0.5       ]\n [0.33333333 0.         1.         0.5       ]\n [0.33333333 0.5        0.         0.        ]]\n('first calculation: ', matrix([[0.10416667],\n        [0.14583333],\n        [0.60416667],\n        [0.14583333]]))\n('converged result: ', matrix([[0.],\n        [0.],\n        [1.],\n        [0.]]))\n('should have printed approximately:', [[0], [0], [1], [0]])\n"
     ],
     "output_type": "stream"
    }
   ],
   "source": [
    "print(\"converged result: \", run_test())\n",
    "print(\"should have printed approximately:\", [[0]\n",
    "                                            ,[0]\n",
    "                                            ,[1]\n",
    "                                            ,[0]])"
   ]
  },
  {
   "cell_type": "code",
   "execution_count": 171,
   "metadata": {
    "pycharm": {
     "is_executing": false
    }
   },
   "outputs": [
    {
     "data": {
      "text/plain": "<IPython.core.display.SVG object>",
      "image/svg+xml": "<svg height=\"134pt\" viewBox=\"0.00 0.00 143.70 133.92\" width=\"144pt\" xmlns=\"http://www.w3.org/2000/svg\" xmlns:xlink=\"http://www.w3.org/1999/xlink\">\n<g class=\"graph\" id=\"graph0\" transform=\"scale(1 1) rotate(0) translate(71.91 67.013)\">\n<title>A</title>\n<polygon fill=\"white\" points=\"-71.91,66.904 -71.91,-67.013 71.791,-67.013 71.791,66.904 -71.91,66.904\" stroke=\"none\"/>\n<!-- P2 -->\n<g class=\"node\" id=\"node1\"><title>P2</title>\n<ellipse cx=\"-40.91\" cy=\"44.904\" fill=\"none\" rx=\"27\" ry=\"18\" stroke=\"black\"/>\n<text font-family=\"Times New Roman,serif\" font-size=\"14.00\" text-anchor=\"middle\" x=\"-40.91\" y=\"48.604\">P2</text>\n</g>\n<!-- P1 -->\n<g class=\"node\" id=\"node2\"><title>P1</title>\n<ellipse cx=\"-24.155\" cy=\"-21.948\" fill=\"none\" rx=\"27\" ry=\"18\" stroke=\"black\"/>\n<text font-family=\"Times New Roman,serif\" font-size=\"14.00\" text-anchor=\"middle\" x=\"-24.155\" y=\"-18.248\">P1</text>\n</g>\n<!-- P2&#45;&gt;P1 -->\n<g class=\"edge\" id=\"edge1\"><title>P2-&gt;P1</title>\n<path d=\"M-42.456,26.587C-41.475,19.824 -39.768,12.02 -37.711,4.6725\" fill=\"none\" stroke=\"black\"/>\n<polygon fill=\"black\" points=\"-41.0381,3.58469 -34.724,-4.9231 -34.3544,5.66529 -41.0381,3.58469\" stroke=\"black\"/>\n</g>\n<!-- P4 -->\n<g class=\"node\" id=\"node3\"><title>P4</title>\n<ellipse cx=\"24.274\" cy=\"22.056\" fill=\"none\" rx=\"27\" ry=\"18\" stroke=\"black\"/>\n<text font-family=\"Times New Roman,serif\" font-size=\"14.00\" text-anchor=\"middle\" x=\"24.274\" y=\"25.756\">P4</text>\n</g>\n<!-- P2&#45;&gt;P4 -->\n<g class=\"edge\" id=\"edge2\"><title>P2-&gt;P4</title>\n<path d=\"M-22.379,31.703C-19.226,30.346 -15.859,29.02 -12.429,27.779\" fill=\"none\" stroke=\"black\"/>\n<polygon fill=\"black\" points=\"-13.3243,24.3883 -2.7307,24.553 -11.1148,31.0305 -13.3243,24.3883\" stroke=\"black\"/>\n</g>\n<!-- P1&#45;&gt;P2 -->\n<g class=\"edge\" id=\"edge3\"><title>P1-&gt;P2</title>\n<path d=\"M-22.609,-3.6313C-23.591,3.1321 -25.298,10.936 -27.354,18.284\" fill=\"none\" stroke=\"black\"/>\n<polygon fill=\"black\" points=\"-24.0267,19.3713 -30.341,27.879 -30.7104,17.2906 -24.0267,19.3713\" stroke=\"black\"/>\n</g>\n<!-- P1&#45;&gt;P4 -->\n<g class=\"edge\" id=\"edge4\"><title>P1-&gt;P4</title>\n<path d=\"M-8.0287,-7.2952C-5.2806,-4.7981 -2.3754,-2.1584 0.52096,0.47336\" fill=\"none\" stroke=\"black\"/>\n<polygon fill=\"black\" points=\"3.00591,-1.9978 8.0533,7.3175 -1.70153,3.18298 3.00591,-1.9978\" stroke=\"black\"/>\n</g>\n<!-- P3 -->\n<g class=\"node\" id=\"node4\"><title>P3</title>\n<ellipse cx=\"40.791\" cy=\"-45.013\" fill=\"none\" rx=\"27\" ry=\"18\" stroke=\"black\"/>\n<text font-family=\"Times New Roman,serif\" font-size=\"14.00\" text-anchor=\"middle\" x=\"40.791\" y=\"-41.313\">P3</text>\n</g>\n<!-- P1&#45;&gt;P3 -->\n<g class=\"edge\" id=\"edge5\"><title>P1-&gt;P3</title>\n<path d=\"M0.028539,-30.536C2.4268,-31.388 4.8898,-32.263 7.3601,-33.14\" fill=\"none\" stroke=\"black\"/>\n<polygon fill=\"black\" points=\"6.20927,-36.4454 16.804,-36.494 8.55201,-29.8491 6.20927,-36.4454\" stroke=\"black\"/>\n</g>\n<!-- P4&#45;&gt;P2 -->\n<g class=\"edge\" id=\"edge6\"><title>P4-&gt;P2</title>\n<path d=\"M5.7427,35.257C2.5903,36.615 -0.7775,37.94 -4.2067,39.181\" fill=\"none\" stroke=\"black\"/>\n<polygon fill=\"black\" points=\"-3.31143,42.5717 -13.905,42.408 -5.52151,35.9297 -3.31143,42.5717\" stroke=\"black\"/>\n</g>\n<!-- P4&#45;&gt;P3 -->\n<g class=\"edge\" id=\"edge7\"><title>P4-&gt;P3</title>\n<path d=\"M28.7,4.0831C30.293,-2.3823 32.129,-9.8392 33.882,-16.958\" fill=\"none\" stroke=\"black\"/>\n<polygon fill=\"black\" points=\"30.5629,-18.1173 36.353,-26.99 37.3597,-16.4431 30.5629,-18.1173\" stroke=\"black\"/>\n</g>\n</g>\n</svg>"
     },
     "metadata": {},
     "output_type": "display_data"
    },
    {
     "name": "stdout",
     "text": [
      "{'P2': 1, 'P3': 2, 'P1': 0, 'P4': 3}\n[[0.         0.5        0.         0.        ]\n [0.33333333 0.         0.         0.5       ]\n [0.33333333 0.         1.         0.5       ]\n [0.33333333 0.5        0.         0.        ]]\n[[0.00226562]\n [0.00330198]\n [0.99113043]\n [0.00330198]]\n"
     ],
     "output_type": "stream"
    }
   ],
   "source": [
    "slides1 = fromDot('''digraph A {\n",
    "    P1 -> P2;\n",
    "    P1 -> P3;\n",
    "    P1 -> P4;\n",
    "    P2 -> P1;\n",
    "    P2 -> P4;\n",
    "    P4 -> P2;\n",
    "    P4 -> P3;\n",
    "}   \n",
    "''')\n",
    "\n",
    "display(draw(slides1))\n",
    "\n",
    "matrix1, nodes = setup_matrix_with_graph(slides1)\n",
    "print(nodes)\n",
    "print(matrix1)\n",
    "print(run_program_with_matrix(matrix1))"
   ]
  },
  {
   "cell_type": "code",
   "execution_count": 172,
   "metadata": {
    "pycharm": {
     "is_executing": false
    }
   },
   "outputs": [
    {
     "data": {
      "text/plain": "<IPython.core.display.SVG object>",
      "image/svg+xml": "<svg height=\"134pt\" viewBox=\"0.00 0.00 143.70 133.92\" width=\"144pt\" xmlns=\"http://www.w3.org/2000/svg\" xmlns:xlink=\"http://www.w3.org/1999/xlink\">\n<g class=\"graph\" id=\"graph0\" transform=\"scale(1 1) rotate(0) translate(71.91 67.013)\">\n<title>A</title>\n<polygon fill=\"white\" points=\"-71.91,66.904 -71.91,-67.013 71.791,-67.013 71.791,66.904 -71.91,66.904\" stroke=\"none\"/>\n<!-- P2 -->\n<g class=\"node\" id=\"node1\"><title>P2</title>\n<ellipse cx=\"-40.91\" cy=\"44.904\" fill=\"none\" rx=\"27\" ry=\"18\" stroke=\"black\"/>\n<text font-family=\"Times New Roman,serif\" font-size=\"14.00\" text-anchor=\"middle\" x=\"-40.91\" y=\"48.604\">P2</text>\n</g>\n<!-- P1 -->\n<g class=\"node\" id=\"node2\"><title>P1</title>\n<ellipse cx=\"-24.155\" cy=\"-21.948\" fill=\"none\" rx=\"27\" ry=\"18\" stroke=\"black\"/>\n<text font-family=\"Times New Roman,serif\" font-size=\"14.00\" text-anchor=\"middle\" x=\"-24.155\" y=\"-18.248\">P1</text>\n</g>\n<!-- P2&#45;&gt;P1 -->\n<g class=\"edge\" id=\"edge1\"><title>P2-&gt;P1</title>\n<path d=\"M-42.456,26.587C-41.475,19.824 -39.768,12.02 -37.711,4.6725\" fill=\"none\" stroke=\"black\"/>\n<polygon fill=\"black\" points=\"-41.0381,3.58469 -34.724,-4.9231 -34.3544,5.66529 -41.0381,3.58469\" stroke=\"black\"/>\n</g>\n<!-- P4 -->\n<g class=\"node\" id=\"node3\"><title>P4</title>\n<ellipse cx=\"24.274\" cy=\"22.056\" fill=\"none\" rx=\"27\" ry=\"18\" stroke=\"black\"/>\n<text font-family=\"Times New Roman,serif\" font-size=\"14.00\" text-anchor=\"middle\" x=\"24.274\" y=\"25.756\">P4</text>\n</g>\n<!-- P2&#45;&gt;P4 -->\n<g class=\"edge\" id=\"edge2\"><title>P2-&gt;P4</title>\n<path d=\"M-22.379,31.703C-19.226,30.346 -15.859,29.02 -12.429,27.779\" fill=\"none\" stroke=\"black\"/>\n<polygon fill=\"black\" points=\"-13.3243,24.3883 -2.7307,24.553 -11.1148,31.0305 -13.3243,24.3883\" stroke=\"black\"/>\n</g>\n<!-- P1&#45;&gt;P2 -->\n<g class=\"edge\" id=\"edge3\"><title>P1-&gt;P2</title>\n<path d=\"M-22.609,-3.6313C-23.591,3.1321 -25.298,10.936 -27.354,18.284\" fill=\"none\" stroke=\"black\"/>\n<polygon fill=\"black\" points=\"-24.0267,19.3713 -30.341,27.879 -30.7104,17.2906 -24.0267,19.3713\" stroke=\"black\"/>\n</g>\n<!-- P1&#45;&gt;P4 -->\n<g class=\"edge\" id=\"edge4\"><title>P1-&gt;P4</title>\n<path d=\"M-8.0287,-7.2952C-5.2806,-4.7981 -2.3754,-2.1584 0.52096,0.47336\" fill=\"none\" stroke=\"black\"/>\n<polygon fill=\"black\" points=\"3.00591,-1.9978 8.0533,7.3175 -1.70153,3.18298 3.00591,-1.9978\" stroke=\"black\"/>\n</g>\n<!-- P3 -->\n<g class=\"node\" id=\"node4\"><title>P3</title>\n<ellipse cx=\"40.791\" cy=\"-45.013\" fill=\"none\" rx=\"27\" ry=\"18\" stroke=\"black\"/>\n<text font-family=\"Times New Roman,serif\" font-size=\"14.00\" text-anchor=\"middle\" x=\"40.791\" y=\"-41.313\">P3</text>\n</g>\n<!-- P1&#45;&gt;P3 -->\n<g class=\"edge\" id=\"edge5\"><title>P1-&gt;P3</title>\n<path d=\"M0.028539,-30.536C2.4268,-31.388 4.8898,-32.263 7.3601,-33.14\" fill=\"none\" stroke=\"black\"/>\n<polygon fill=\"black\" points=\"6.20927,-36.4454 16.804,-36.494 8.55201,-29.8491 6.20927,-36.4454\" stroke=\"black\"/>\n</g>\n<!-- P4&#45;&gt;P2 -->\n<g class=\"edge\" id=\"edge6\"><title>P4-&gt;P2</title>\n<path d=\"M5.7427,35.257C2.5903,36.615 -0.7775,37.94 -4.2067,39.181\" fill=\"none\" stroke=\"black\"/>\n<polygon fill=\"black\" points=\"-3.31143,42.5717 -13.905,42.408 -5.52151,35.9297 -3.31143,42.5717\" stroke=\"black\"/>\n</g>\n<!-- P4&#45;&gt;P3 -->\n<g class=\"edge\" id=\"edge7\"><title>P4-&gt;P3</title>\n<path d=\"M28.7,4.0831C30.293,-2.3823 32.129,-9.8392 33.882,-16.958\" fill=\"none\" stroke=\"black\"/>\n<polygon fill=\"black\" points=\"30.5629,-18.1173 36.353,-26.99 37.3597,-16.4431 30.5629,-18.1173\" stroke=\"black\"/>\n</g>\n</g>\n</svg>"
     },
     "metadata": {},
     "output_type": "display_data"
    },
    {
     "name": "stdout",
     "text": [
      "{'P2': 1, 'P3': 2, 'P1': 0, 'P4': 3}\n[[0.         0.5        0.         0.        ]\n [0.33333333 0.         0.         0.5       ]\n [0.33333333 0.         1.         0.5       ]\n [0.33333333 0.5        0.         0.        ]]\n[[0.10212147]\n [0.12950079]\n [0.63887694]\n [0.12950079]]\n"
     ],
     "output_type": "stream"
    }
   ],
   "source": [
    "slides2 = fromDot('''digraph A {\n",
    "    P1 -> P2;\n",
    "    P1 -> P3;\n",
    "    P1 -> P4;\n",
    "    P2 -> P1;\n",
    "    P2 -> P4;\n",
    "    P4 -> P2;\n",
    "    P4 -> P3;\n",
    "}   \n",
    "''')\n",
    "\n",
    "display(draw(slides2))\n",
    "\n",
    "matrix2, nodes = setup_matrix_with_graph(slides2)\n",
    "print(nodes)\n",
    "print(matrix2)\n",
    "print(run_program_with_matrix(matrix2, 0.8))"
   ]
  },
  {
   "cell_type": "code",
   "execution_count": 173,
   "metadata": {
    "scrolled": false,
    "pycharm": {
     "is_executing": false
    }
   },
   "outputs": [
    {
     "name": "stdout",
     "text": [
      "{'P2': 1, 'P3': 2, 'P1': 0, 'P4': 3, 'P5': 4}\n[[0. 1. 1. 1. 0.]\n [1. 0. 0. 1. 0.]\n [0. 0. 0. 0. 1.]\n [0. 1. 1. 0. 0.]\n [0. 0. 0. 0. 0.]]\n\nh: \n[[1.        ]\n [0.35825757]\n [0.        ]\n [0.71651514]\n [0.        ]]\n\na: \n[[0.20871215]\n [1.        ]\n [1.        ]\n [0.79128785]\n [0.        ]]\n"
     ],
     "output_type": "stream"
    }
   ],
   "source": [
    "slides3 = fromDot('''digraph A {\n",
    "    P1 -> P2;\n",
    "    P1 -> P3;\n",
    "    P1 -> P4;\n",
    "    P2 -> P1;\n",
    "    P2 -> P4;\n",
    "    P3 -> P5;\n",
    "    P4 -> P2;\n",
    "    P4 -> P3;\n",
    "}   \n",
    "''')\n",
    "\n",
    "matrix3, nodes = setup_matrix_with_graph(slides3, True)\n",
    "print(nodes)\n",
    "print(matrix3)\n",
    "h3, a3 = run_hits_with_matrix(matrix3)\n",
    "print(\"\\nh: \")\n",
    "print h3\n",
    "print(\"\\na: \")\n",
    "print a3"
   ]
  },
  {
   "cell_type": "markdown",
   "source": [
    "\n",
    "EXERCISE 3\n",
    "\n",
    "NOTE: for some graphs, the calculations would run (almost?) infinitely, which is why the code stops converging if the\n",
    "output is the same up to and including the second decimal.\n",
    "Because of this, there might be small errors in the results, for instance 0.9934 where 1 was expected."
   ],
   "metadata": {
    "collapsed": false
   }
  },
  {
   "cell_type": "code",
   "execution_count": 174,
   "outputs": [],
   "source": [
    "def run_exercise3_p1():\n",
    "    \n",
    "    graph1 = fromDot('''digraph A {\n",
    "        n1 -> n2;\n",
    "        n1 -> p1;\n",
    "        n2 -> n1;\n",
    "        n2 -> p1;\n",
    "        p1 -> n1;\n",
    "        p1 -> n2;\n",
    "        p1 -> t1;\n",
    "        t1 -> f1;\n",
    "        f1 -> t1;\n",
    "    }\n",
    "    ''')\n",
    "    \n",
    "    graph2 = fromDot('''digraph A {\n",
    "        n1 -> n2;\n",
    "        n1 -> p1;\n",
    "        n2 -> n1;\n",
    "        n2 -> p1;\n",
    "        p1 -> n1;\n",
    "        p1 -> n2;\n",
    "        p1 -> t1;\n",
    "        t1 -> f1;\n",
    "        t1 -> f2;\n",
    "        f1 -> t1;\n",
    "        f2 -> t1;\n",
    "    }\n",
    "    ''')\n",
    "    \n",
    "    graph3 = fromDot('''digraph A {\n",
    "        n1 -> n2;\n",
    "        n1 -> p1;\n",
    "        n2 -> n1;\n",
    "        n2 -> p1;\n",
    "        p1 -> n1;\n",
    "        p1 -> n2;\n",
    "        p1 -> t1;\n",
    "        t1 -> f1;\n",
    "        t1 -> f2;\n",
    "        t1 -> f3;\n",
    "        f1 -> t1;\n",
    "        f2 -> t1;\n",
    "        f3 -> t1;\n",
    "    }\n",
    "    ''')\n",
    "    \n",
    "    graph4 = fromDot('''digraph A {\n",
    "        n1 -> n2;\n",
    "        n1 -> p1;\n",
    "        n2 -> n1;\n",
    "        n2 -> p1;\n",
    "        p1 -> n1;\n",
    "        p1 -> n2;\n",
    "        p1 -> t1;\n",
    "        t1 -> f1;\n",
    "        t1 -> f2;\n",
    "        t1 -> f3;\n",
    "        t1 -> f4;\n",
    "        f1 -> t1;\n",
    "        f2 -> t1;\n",
    "        f3 -> t1;\n",
    "        f4 -> t1;\n",
    "    }\n",
    "    ''')\n",
    "    \n",
    "    graph5 = fromDot('''digraph A {\n",
    "        n1 -> n2;\n",
    "        n1 -> p1;\n",
    "        n2 -> n1;\n",
    "        n2 -> p1;\n",
    "        p1 -> n1;\n",
    "        p1 -> n2;\n",
    "        p1 -> t1;\n",
    "        t1 -> f1;\n",
    "        t1 -> f2;\n",
    "        t1 -> f3;\n",
    "        t1 -> f4;\n",
    "        t1 -> f5;\n",
    "        t1 -> f6;\n",
    "        f1 -> t1;\n",
    "        f2 -> t1;\n",
    "        f3 -> t1;\n",
    "        f4 -> t1;\n",
    "        f5 -> t1;\n",
    "        f6 -> t1;\n",
    "    }\n",
    "    ''')\n",
    "    \n",
    "    graph6 = fromDot('''digraph A {\n",
    "        n1 -> n2;\n",
    "        n1 -> p1;\n",
    "        n2 -> n1;\n",
    "        n2 -> p1;\n",
    "        p1 -> n1;\n",
    "        p1 -> n2;\n",
    "        p1 -> t1;\n",
    "        t1 -> f1;\n",
    "        t1 -> f2;\n",
    "        t1 -> f3;\n",
    "        t1 -> f4;\n",
    "        t1 -> f5;\n",
    "        t1 -> f6;\n",
    "        t1 -> f7;\n",
    "        t1 -> f8;\n",
    "        t1 -> f9;\n",
    "        f1 -> t1;\n",
    "        f2 -> t1;\n",
    "        f3 -> t1;\n",
    "        f4 -> t1;\n",
    "        f5 -> t1;\n",
    "        f6 -> t1;\n",
    "        f7 -> t1;\n",
    "        f8 -> t1;\n",
    "        f9 -> t1;\n",
    "    }\n",
    "    ''')\n",
    "    \n",
    "    \n",
    "    graphs = [graph1, graph2, graph3, graph4, graph5, graph6]\n",
    "    \n",
    "    array_f = []\n",
    "    array_t = []\n",
    "    \n",
    "    for graph in graphs:\n",
    "        # display(draw(graph))\n",
    "        graph_matrix, graph_nodes = setup_matrix_with_graph(graph)\n",
    "        result = run_program_with_matrix(graph_matrix, beta)\n",
    "        # print(graph_nodes)\n",
    "        # print(result)\n",
    "        \n",
    "        f_count = 0\n",
    "        for name in graph_nodes.keys():\n",
    "            if 'f' in name:\n",
    "                f_count += 1\n",
    "            elif name == \"t1\":\n",
    "                index = graph_nodes[name]\n",
    "                array_t.append(result[index, 0])\n",
    "        array_f.append(f_count)\n",
    "    \n",
    "    # print(array_t)\n",
    "    # print(array_f)\n",
    "    plt.plot(array_f, array_t, 'o')\n",
    "    plt.xlabel(\"PageRank of T\")\n",
    "    plt.ylabel(\"number of supporting pages f\")\n",
    "    plt.show()"
   ],
   "metadata": {
    "collapsed": false,
    "pycharm": {
     "name": "#%%\n",
     "is_executing": false
    }
   }
  },
  {
   "cell_type": "code",
   "execution_count": 175,
   "outputs": [],
   "source": [
    "def run_exercise3_p2():\n",
    "    \n",
    "    graph1 = fromDot('''digraph A {\n",
    "        n1 -> p1;\n",
    "        p1 -> n1;\n",
    "        p1 -> t1;\n",
    "        t1 -> f1;\n",
    "        t1 -> f2;\n",
    "        f1 -> t1;\n",
    "        f2 -> t1;\n",
    "    }\n",
    "    ''')\n",
    "    \n",
    "    graph2 = fromDot('''digraph A {\n",
    "        n1 -> n2;\n",
    "        n1 -> p1;\n",
    "        n2 -> n1;\n",
    "        n2 -> p1;\n",
    "        p1 -> n1;\n",
    "        p1 -> n2;\n",
    "        p1 -> t1;\n",
    "        t1 -> f1;\n",
    "        t1 -> f2;\n",
    "        f1 -> t1;\n",
    "        f2 -> t1;\n",
    "    }\n",
    "    ''')\n",
    "    \n",
    "    graph3 = fromDot('''digraph A {\n",
    "        n1 -> n2;\n",
    "        n1 -> n3;\n",
    "        n1 -> p1;\n",
    "        n2 -> n1;\n",
    "        n2 -> n3;\n",
    "        n2 -> p1;\n",
    "        n3 -> n1;\n",
    "        n3 -> n2;\n",
    "        n3 -> p1;\n",
    "        p1 -> n1;\n",
    "        p1 -> n2;\n",
    "        p1 -> n3;\n",
    "        p1 -> t1;\n",
    "        t1 -> f1;\n",
    "        t1 -> f2;\n",
    "        f1 -> t1;\n",
    "        f2 -> t1;\n",
    "    }\n",
    "    ''')\n",
    "    \n",
    "    graph4 = fromDot('''digraph A {\n",
    "        n1 -> n2;\n",
    "        n2 -> n3;\n",
    "        n3 -> n1;\n",
    "        n3 -> n2;\n",
    "        n3 -> p1;\n",
    "        p1 -> n3;\n",
    "        p1 -> t1;\n",
    "        t1 -> f1;\n",
    "        t1 -> f2;\n",
    "        f1 -> t1;\n",
    "        f2 -> t1;\n",
    "    }\n",
    "    ''')\n",
    "    \n",
    "    graph5 = fromDot('''digraph A {\n",
    "        n1 -> n2;\n",
    "        n2 -> n3;\n",
    "        n2 -> p1;\n",
    "        n3 -> n2;\n",
    "        n3 -> p1;\n",
    "        p1 -> n1;\n",
    "        p1 -> t1;\n",
    "        t1 -> f1;\n",
    "        t1 -> f2;\n",
    "        f1 -> t1;\n",
    "        f2 -> t1;\n",
    "    }\n",
    "    ''')\n",
    "    \n",
    "    graph6 = fromDot('''digraph A {\n",
    "        n1 -> n2;\n",
    "        n2 -> n3;\n",
    "        n2 -> n4;\n",
    "        n2 -> n5;\n",
    "        n2 -> p1;\n",
    "        n3 -> n2;\n",
    "        n3 -> p1;\n",
    "        n4 -> n3;\n",
    "        n4 -> n1;\n",
    "        n4 -> p1;\n",
    "        n5 -> n1;\n",
    "        n5 -> n4;\n",
    "        p1 -> n1;\n",
    "        p1 -> t1;\n",
    "        t1 -> f1;\n",
    "        t1 -> f2;\n",
    "        f1 -> t1;\n",
    "        f2 -> t1;\n",
    "    }\n",
    "    ''')\n",
    "    \n",
    "    graphs = [graph1, graph2, graph3, graph4, graph5, graph6]\n",
    "    \n",
    "    array_p = []\n",
    "    array_t = []\n",
    "    \n",
    "    for graph in graphs:\n",
    "        # display(draw(graph))\n",
    "        graph_matrix, graph_nodes = setup_matrix_with_graph(graph)\n",
    "        result = run_program_with_matrix(graph_matrix, beta)\n",
    "        # print(graph_nodes)\n",
    "        # print(result)\n",
    "        \n",
    "        for name in graph_nodes.keys():\n",
    "            if name == \"p1\":\n",
    "                # if \"p2\" not in graph_nodes.keys():\n",
    "                    index = graph_nodes[name]\n",
    "                    array_p.append(result[index, 0])\n",
    "                    \n",
    "            elif name == \"t1\":\n",
    "                index = graph_nodes[name]\n",
    "                array_t.append(result[index, 0])\n",
    "    \n",
    "    # print(array_t)\n",
    "    # print(array_p)\n",
    "    plt.plot(array_p, array_t, 'o')\n",
    "    plt.xlabel(\"PageRank of T\")\n",
    "    plt.ylabel(\"r value\")\n",
    "    plt.show()"
   ],
   "metadata": {
    "collapsed": false,
    "pycharm": {
     "name": "#%%\n",
     "is_executing": false
    }
   }
  },
  {
   "cell_type": "code",
   "execution_count": 176,
   "outputs": [
    {
     "data": {
      "image/png": "[encoded data removed]",
      "text/plain": "<Figure size 432x288 with 1 Axes>"
     },
     "metadata": {
      "needs_background": "light"
     },
     "output_type": "display_data"
    },
    {
     "data": {
      "image/png": "[encoded data removed]",
      "text/plain": "<Figure size 432x288 with 1 Axes>"
     },
     "metadata": {
      "needs_background": "light"
     },
     "output_type": "display_data"
    }
   ],
   "source": [
    "def run_exercise3():\n",
    "    run_exercise3_p1()\n",
    "    run_exercise3_p2()\n",
    "    \n",
    "run_exercise3()"
   ],
   "metadata": {
    "collapsed": false,
    "pycharm": {
     "name": "#%%\n",
     "is_executing": false
    }
   }
  },
  {
   "cell_type": "markdown",
   "source": [
    "\n",
    "EXERCISE 4"
   ],
   "metadata": {
    "collapsed": false
   }
  },
  {
   "cell_type": "code",
   "execution_count": 178,
   "outputs": [
    {
     "name": "stdout",
     "text": [
      "[[2.]\n [0.]\n [1.]]\n[[0.05   ]\n [0.87875]\n [0.07125]]\n(array([[1.        ],\n       [0.        ],\n       [0.61803399]]), array([[0.        ],\n       [1.        ],\n       [0.61803399]]))\n"
     ],
     "output_type": "stream"
    }
   ],
   "source": [
    "\n",
    "def indegree(graph):\n",
    "    matrix, nodes_dict = setup_matrix_with_graph(graph, True)\n",
    "    return run_indegree_with_matrix(matrix)\n",
    "\n",
    "def pagerank(graph, b):\n",
    "    matrix, nodes_dict = setup_matrix_with_graph(graph)\n",
    "    return run_program_with_matrix(matrix, b)\n",
    "    \n",
    "def hits(graph):\n",
    "    matrix, nodes_dict = setup_matrix_with_graph(graph, True)\n",
    "    return run_hits_with_matrix(matrix)\n",
    "\n",
    "graphx = fromDot('''digraph A {\n",
    "        a -> b;\n",
    "        a -> c;\n",
    "        c -> b;\n",
    "    }\n",
    "    ''')\n",
    "print(indegree(graphx))\n",
    "print(pagerank(graphx, beta))\n",
    "print(hits(graphx))"
   ],
   "metadata": {
    "collapsed": false,
    "pycharm": {
     "name": "#%%\n",
     "is_executing": false
    }
   }
  }
 ],
 "metadata": {
  "kernelspec": {
   "display_name": "Python 2",
   "language": "python",
   "name": "python2"
  },
  "language_info": {
   "codemirror_mode": {
    "name": "ipython",
    "version": 2
   },
   "file_extension": ".py",
   "mimetype": "text/x-python",
   "name": "python",
   "nbconvert_exporter": "python",
   "pygments_lexer": "ipython2",
   "version": "2.7.16"
  },
  "pycharm": {
   "stem_cell": {
    "cell_type": "raw",
    "source": [],
    "metadata": {
     "collapsed": false
    }
   }
  }
 },
 "nbformat": 4,
 "nbformat_minor": 2
}